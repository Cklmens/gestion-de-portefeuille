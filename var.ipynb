{
 "cells": [
  {
   "cell_type": "code",
   "execution_count": 1,
   "metadata": {},
   "outputs": [],
   "source": [
    "import yfinance as yf\n",
    "import matplotlib.pyplot as plt\n",
    "import pandas as pd\n",
    "import numpy as np\n",
    "import statsmodels.api as smf\n",
    "from scipy.stats  import norm, genextreme,logistic\n",
    "from scipy  import stats\n",
    "import scipy.stats "
   ]
  },
  {
   "cell_type": "code",
   "execution_count": 2,
   "metadata": {},
   "outputs": [],
   "source": [
    "def var_historic(data,weight,level): \n",
    "    intialvalue=np.dot(data.iloc[0,:],weight.T) \n",
    "    returns= data.pct_change().dropna()\n",
    "    portfolio=  pd.DataFrame(np.dot(returns, weight.T) ) \n",
    "    \n",
    "    return (np.percentile(portfolio, level))*intialvalue*np.sqrt(63)\n"
   ]
  },
  {
   "cell_type": "code",
   "execution_count": 3,
   "metadata": {},
   "outputs": [],
   "source": [
    "def cvar_historic(data,weight,level):\n",
    "    intialvalue=np.dot(data.iloc[0,:],weight.T)\n",
    "    returns= data.pct_change().dropna()\n",
    "    portfolio=  pd.DataFrame(np.dot(returns, weight.T) )#.sort_values(by=0)\n",
    "    var=np.percentile(portfolio, level)\n",
    "    cvar=portfolio[portfolio<= var].mean()\n",
    "    return (cvar)*intialvalue*np.sqrt(63)\n"
   ]
  },
  {
   "cell_type": "code",
   "execution_count": 4,
   "metadata": {},
   "outputs": [],
   "source": [
    "def var_parametric(data, weight,level):\n",
    "    intialvalue=np.dot(data.iloc[0,:],weight.T)\n",
    "    returns= data.pct_change().dropna()\n",
    "    portfolio=  pd.DataFrame(np.dot(returns, weight.T) )\n",
    "    moy=portfolio.mean()\n",
    "    cov= portfolio.std()\n",
    "    var=norm.ppf(level,moy,cov)\n",
    "    return var*intialvalue*np.sqrt(63)\n"
   ]
  },
  {
   "cell_type": "code",
   "execution_count": 5,
   "metadata": {},
   "outputs": [],
   "source": [
    "def ccvar_parametric(data, weight,level):\n",
    "    intialvalue=np.dot(data.iloc[0,:],weight.T)\n",
    "    returns= data.pct_change().dropna()\n",
    "    portfolio=  pd.DataFrame(np.dot(returns, weight.T) )\n",
    "    moy=portfolio.mean()\n",
    "    cov= portfolio.std()\n",
    "    var=norm.ppf(level,moy,cov)\n",
    "    for i in range(6):\n",
    "      var= var+ norm.ppf(level+0.01*i,moy,cov)\n",
    "\n",
    "    return (1/6)*var*intialvalue*np.sqrt(63)\n"
   ]
  },
  {
   "cell_type": "code",
   "execution_count": 6,
   "metadata": {},
   "outputs": [],
   "source": [
    "def cvar_parametric(data, weight,level):\n",
    "    intialvalue=np.dot(data.iloc[0,:],weight.T)\n",
    "    returns= data.pct_change().dropna()\n",
    "    portfolio=  pd.DataFrame(np.dot(returns, weight.T) )\n",
    "    moy=portfolio.mean()\n",
    "    cov= portfolio.std()\n",
    "    var=norm.ppf(level,moy,cov)\n",
    "    qmc_= stats.qmc.Sobol(d=1, scramble=True).random(10000)\n",
    "    N= norm.ppf(qmc_,moy,cov)\n",
    "    cvar=N[N<= var].mean()\n",
    "   \n",
    "    return (cvar+ var)*intialvalue*np.sqrt(63)"
   ]
  },
  {
   "cell_type": "code",
   "execution_count": 23,
   "metadata": {},
   "outputs": [],
   "source": [
    "def var_montecarlo_c(data,weight,level, loi):\n",
    "    intialvalue=np.dot(data.iloc[0,:],weight.T)\n",
    "    returns= data.pct_change().dropna()\n",
    "    mu= returns.mean().to_numpy()\n",
    "    sigma=np.linalg.cholesky(returns.cov().to_numpy())\n",
    "    sim=100000\n",
    "    portfolio=np.zeros((returns.shape[0],sim))\n",
    "    for i in range(sim):\n",
    "        if(loi==\"normal\"):\n",
    "          N= np.random.normal(size=(returns.shape))\n",
    "        elif(loi=='logistic'):\n",
    "          N= np.random.logistic(size=(returns.shape))\n",
    "        else:\n",
    "          N= genextreme.rvs(0,size=(returns.shape))\n",
    "\n",
    "        daily_returns= (mu.T + (np.dot(sigma,N.T)).T) # mu + np.inner(sigma,N)\n",
    "        portfolio[:,i]=np.cumprod((np.dot(weight,daily_returns.T )+1))*intialvalue\n",
    "       # plt.plot( portfolio[:,i])\n",
    "    portfolio_mean=portfolio[-1,:]- intialvalue\n",
    "    var=np.percentile(portfolio_mean, 1-level) \n",
    "    cvar=pd.DataFrame(portfolio_mean)[pd.DataFrame(portfolio_mean)<= var].mean()\n",
    "    return   var, cvar\n"
   ]
  },
  {
   "cell_type": "code",
   "execution_count": 8,
   "metadata": {},
   "outputs": [],
   "source": [
    "def cvar_montecarlo_(data,weight,level, loi):\n",
    "    intialvalue=np.dot(data.iloc[0,:],weight.T)\n",
    "    returns= data.pct_change().dropna()\n",
    "    mu= returns.mean().to_numpy()\n",
    "    sigma=np.linalg.cholesky(returns.cov().to_numpy())\n",
    "    sim=2**12\n",
    "    portfolio=np.zeros((returns.shape[0],sim))\n",
    "    for i in range(sim):\n",
    "        qmc_= stats.qmc.Sobol(d=returns.shape[0], scramble=True).random(returns.shape[1])\n",
    "        if(loi==\"normal\"):\n",
    "          N= norm.ppf(qmc_)\n",
    "        elif(loi=='logistic'):\n",
    "          N= logistic.ppf(qmc_)\n",
    "        else:\n",
    "          N= genextreme.ppf(qmc_)\n",
    "\n",
    "        daily_returns= (mu.T + (np.dot(sigma,N)).T) # mu + np.inner(sigma,N)\n",
    "        portfolio[:,i]=np.cumprod((np.dot(weight,daily_returns.T )+1))*intialvalue\n",
    "        #plt.plot( portfolio[:,i])\n",
    "    portfolio_mean=portfolio[-1,:]-intialvalue\n",
    "    var=np.percentile(portfolio_mean, 1-level) \n",
    "    cvar=pd.DataFrame(portfolio_mean)[pd.DataFrame(portfolio_mean)<= var ].mean() \n",
    "    return var,cvar \n",
    "    \n",
    "   "
   ]
  },
  {
   "cell_type": "code",
   "execution_count": 9,
   "metadata": {},
   "outputs": [],
   "source": [
    "    \n",
    "def cvar_montecarlo(data,weight,level):\n",
    "    intialvalue=np.dot(data.iloc[0,:],weight.T)\n",
    "    returns= data.pct_change().dropna()\n",
    "    mu= returns.mean().to_numpy()\n",
    "    sigma=np.linalg.cholesky(returns.cov().to_numpy())\n",
    "    sim=50000\n",
    "    portfolio=np.zeros((returns.shape[0],sim))\n",
    "    for i in range(sim):\n",
    "        N= np.random.normal(size=(returns.shape))\n",
    "        daily_returns= (mu.T + (np.dot(sigma,N.T)).T) # mu + np.inner(sigma,N)\n",
    "        portfolio[:,i]=np.cumprod((np.dot(daily_returns, weight.T)+1))*intialvalue\n",
    "    portfolio_mean=portfolio[-1,:]\n",
    "    var=np.percentile(portfolio_mean, level)-intialvalue\n",
    "    cvar=pd.DataFrame(portfolio_mean)[pd.DataFrame(portfolio_mean)<= var+intialvalue].mean() \n",
    "    return  var, cvar \n"
   ]
  },
  {
   "cell_type": "code",
   "execution_count": 10,
   "metadata": {},
   "outputs": [],
   "source": [
    "def data_(tickers,date1,date2):\n",
    "    returns=pd.DataFrame()\n",
    "    for i in range(len(tickers)):\n",
    "        data=yf.download(tickers[i],date1,date2)\n",
    "        returns[tickers[i]]=((data[\"Adj Close\"]).dropna())\n",
    "       \n",
    "    return returns"
   ]
  },
  {
   "cell_type": "code",
   "execution_count": 11,
   "metadata": {},
   "outputs": [
    {
     "name": "stdout",
     "output_type": "stream",
     "text": [
      "[*********************100%***********************]  1 of 1 completed\n",
      "[*********************100%***********************]  1 of 1 completed\n",
      "[*********************100%***********************]  1 of 1 completed\n",
      "[*********************100%***********************]  1 of 1 completed\n",
      "[*********************100%***********************]  1 of 1 completed\n",
      "[*********************100%***********************]  1 of 1 completed\n",
      "[*********************100%***********************]  1 of 1 completed\n",
      "[*********************100%***********************]  1 of 1 completed\n"
     ]
    }
   ],
   "source": [
    "\n",
    "start_date= '2023-01-01'\n",
    "end_date=\"2023-04-01\"\n",
    "tickers=[\"GOOGL\", \"MSFT\", \"GC=F\", \"TSLA\",'AAPL', \"BABA\",\"^IXIC\", \"^TNX\"]\n",
    "tada=data_(tickers,start_date,end_date)"
   ]
  },
  {
   "cell_type": "code",
   "execution_count": 12,
   "metadata": {},
   "outputs": [
    {
     "name": "stdout",
     "output_type": "stream",
     "text": [
      "-156.37437227574898\n",
      "0   -161.405081\n",
      "dtype: float64\n",
      "[174.10090745]\n",
      "[193.62123157]\n"
     ]
    },
    {
     "name": "stderr",
     "output_type": "stream",
     "text": [
      "C:\\Users\\hp\\AppData\\Local\\Temp\\ipykernel_10644\\363720332.py:8: UserWarning: The balance properties of Sobol' points require n to be a power of 2.\n",
      "  qmc_= stats.qmc.Sobol(d=1, scramble=True).random(10000)\n"
     ]
    }
   ],
   "source": [
    "weight=np.array([0.07692308, 0.07692308, 0.30769231, 0.11538462, 0.26923077,\n",
    "        0.03846154, 0.03846154, 0.07692308])\n",
    "print(var_historic(tada,weight,0.95))\n",
    "print(cvar_historic(tada,weight,0.95))\n",
    "print(var_parametric(tada,weight,0.95))\n",
    "print(cvar_parametric(tada,weight,0.95))\n",
    "\n",
    "\n"
   ]
  },
  {
   "cell_type": "code",
   "execution_count": 24,
   "metadata": {},
   "outputs": [
    {
     "data": {
      "text/plain": [
       "(-63.12006792090168,\n",
       " 0   -82.36699\n",
       " dtype: float64)"
      ]
     },
     "execution_count": 24,
     "metadata": {},
     "output_type": "execute_result"
    }
   ],
   "source": [
    "#cvar_parametric(tada,weight,0.95)\n",
    "var_montecarlo_c(tada,weight,0.95,\"normal\")"
   ]
  },
  {
   "cell_type": "code",
   "execution_count": 14,
   "metadata": {},
   "outputs": [
    {
     "data": {
      "text/plain": [
       "(92.13564734276616,\n",
       " 0    76.451407\n",
       " dtype: float64)"
      ]
     },
     "execution_count": 14,
     "metadata": {},
     "output_type": "execute_result"
    }
   ],
   "source": [
    "cvar_montecarlo_(tada,weight,0.05,\"normal\")"
   ]
  },
  {
   "cell_type": "code",
   "execution_count": 15,
   "metadata": {},
   "outputs": [
    {
     "name": "stdout",
     "output_type": "stream",
     "text": [
      "(17.414007949587525, 0   -12.186296\n",
      "dtype: float64)\n"
     ]
    }
   ],
   "source": [
    "print(var_montecarlo_c(tada,weight,0.99,'normal'))\n"
   ]
  },
  {
   "cell_type": "code",
   "execution_count": 16,
   "metadata": {},
   "outputs": [
    {
     "data": {
      "text/plain": [
       "array([[ 1.93522213,  0.24222753, -0.68322932,  1.41804114,  0.82495396],\n",
       "       [-1.22320782,  1.42578028, -1.04399221,  1.23640967,  1.26801362],\n",
       "       [-0.62124683, -0.50023151,  3.47945922,  1.81216825,  0.47394759],\n",
       "       [-0.05391303,  2.40656508,  0.87614623, -1.31815202,  1.43611106],\n",
       "       [ 1.94706203,  0.04682168, -0.13807708, -0.77354947, -0.56340347]])"
      ]
     },
     "execution_count": 16,
     "metadata": {},
     "output_type": "execute_result"
    }
   ],
   "source": [
    "genextreme.rvs(0,size=(5,5))"
   ]
  },
  {
   "cell_type": "code",
   "execution_count": 17,
   "metadata": {},
   "outputs": [],
   "source": [
    "def distribution_fit(data):\n",
    " from sklearn.metrics import r2_score\n",
    " y, x = np.histogram(data, bins=100, density=True)\n",
    " x = (x + np.roll(x, -1))[:-1] / 2.0\n",
    " list_loi = ['norm', 'beta','gamma', 'pareto', 't', 'lognorm', 'invgamma', 'invgauss',  'loggamma', 'alpha', 'chi', 'chi2','rayleigh',\"logistic\",\"genextreme\",\"weibull_max\"]\n",
    " sse=[]\n",
    " rsq=[]\n",
    " best_distribution=[]\n",
    "\n",
    " for  i  in  range(len(list_loi)) :\n",
    "    #modélisation\n",
    "    loi=getattr(scipy.stats, list_loi[i])\n",
    "    loi_fit=loi.fit(data)\n",
    "\n",
    "    #parametres\n",
    "    loc= loi_fit[-2]\n",
    "    scale=loi_fit[-1]\n",
    "    arg=loi_fit[:-2]\n",
    "\n",
    "    #pdf\n",
    "    pdf=loi.pdf(x, loc=loc,scale=scale, *arg)\n",
    "\n",
    "    #Rmse\n",
    "    sse=np.sum((y-pdf)**2)\n",
    "    #R_squared\n",
    "    rsq=round(r2_score(y,pdf),2)\n",
    "    best_distribution.append([loi,loi_fit,sse,rsq,list_loi[i]])\n",
    "\n",
    " return sorted(best_distribution, key=lambda x:x[2])[0]"
   ]
  },
  {
   "cell_type": "code",
   "execution_count": 25,
   "metadata": {},
   "outputs": [],
   "source": [
    "def generate_distribution(dist, params, size=10):\n",
    "    \"\"\"Generate distributions's Probability Distribution Function \"\"\"\n",
    "\n",
    "    # Separate parts of parameters\n",
    "    arg = params[:-2]\n",
    "    loc = round(params[-2],2)\n",
    "    scale = round(params[-1], 2)\n",
    "\n",
    "    return dist.rvs(loc=loc, *arg,scale=scale, size=size ) if arg else dist.rvs(loc=loc, scale=scale, size=size)"
   ]
  },
  {
   "cell_type": "code",
   "execution_count": 26,
   "metadata": {},
   "outputs": [
    {
     "name": "stderr",
     "output_type": "stream",
     "text": [
      "c:\\Users\\hp\\AppData\\Local\\Programs\\Python\\Python310\\lib\\site-packages\\scipy\\stats\\_continuous_distns.py:707: RuntimeWarning: invalid value encountered in sqrt\n",
      "  sk = 2*(b-a)*np.sqrt(a + b + 1) / (a + b + 2) / np.sqrt(a*b)\n",
      "c:\\Users\\hp\\AppData\\Local\\Programs\\Python\\Python310\\lib\\site-packages\\scipy\\stats\\_distn_infrastructure.py:2781: RuntimeWarning: invalid value encountered in multiply\n",
      "  Lhat = muhat - Shat*mu\n",
      "c:\\Users\\hp\\AppData\\Local\\Programs\\Python\\Python310\\lib\\site-packages\\scipy\\stats\\_distn_infrastructure.py:2781: RuntimeWarning: invalid value encountered in multiply\n",
      "  Lhat = muhat - Shat*mu\n",
      "c:\\Users\\hp\\AppData\\Local\\Programs\\Python\\Python310\\lib\\site-packages\\scipy\\stats\\_distn_infrastructure.py:2781: RuntimeWarning: invalid value encountered in multiply\n",
      "  Lhat = muhat - Shat*mu\n",
      "c:\\Users\\hp\\AppData\\Local\\Programs\\Python\\Python310\\lib\\site-packages\\scipy\\stats\\_distn_infrastructure.py:2781: RuntimeWarning: invalid value encountered in multiply\n",
      "  Lhat = muhat - Shat*mu\n",
      "c:\\Users\\hp\\AppData\\Local\\Programs\\Python\\Python310\\lib\\site-packages\\scipy\\stats\\_continuous_distns.py:707: RuntimeWarning: invalid value encountered in sqrt\n",
      "  sk = 2*(b-a)*np.sqrt(a + b + 1) / (a + b + 2) / np.sqrt(a*b)\n",
      "c:\\Users\\hp\\AppData\\Local\\Programs\\Python\\Python310\\lib\\site-packages\\scipy\\stats\\_distn_infrastructure.py:2781: RuntimeWarning: invalid value encountered in multiply\n",
      "  Lhat = muhat - Shat*mu\n",
      "c:\\Users\\hp\\AppData\\Local\\Programs\\Python\\Python310\\lib\\site-packages\\scipy\\stats\\_distn_infrastructure.py:2781: RuntimeWarning: invalid value encountered in multiply\n",
      "  Lhat = muhat - Shat*mu\n",
      "c:\\Users\\hp\\AppData\\Local\\Programs\\Python\\Python310\\lib\\site-packages\\scipy\\stats\\_continuous_distns.py:707: RuntimeWarning: invalid value encountered in sqrt\n",
      "  sk = 2*(b-a)*np.sqrt(a + b + 1) / (a + b + 2) / np.sqrt(a*b)\n",
      "c:\\Users\\hp\\AppData\\Local\\Programs\\Python\\Python310\\lib\\site-packages\\scipy\\stats\\_distn_infrastructure.py:2781: RuntimeWarning: invalid value encountered in multiply\n",
      "  Lhat = muhat - Shat*mu\n",
      "c:\\Users\\hp\\AppData\\Local\\Programs\\Python\\Python310\\lib\\site-packages\\scipy\\stats\\_distn_infrastructure.py:2781: RuntimeWarning: invalid value encountered in multiply\n",
      "  Lhat = muhat - Shat*mu\n",
      "c:\\Users\\hp\\AppData\\Local\\Programs\\Python\\Python310\\lib\\site-packages\\scipy\\stats\\_distn_infrastructure.py:2781: RuntimeWarning: invalid value encountered in multiply\n",
      "  Lhat = muhat - Shat*mu\n",
      "c:\\Users\\hp\\AppData\\Local\\Programs\\Python\\Python310\\lib\\site-packages\\scipy\\stats\\_distn_infrastructure.py:2781: RuntimeWarning: invalid value encountered in multiply\n",
      "  Lhat = muhat - Shat*mu\n",
      "c:\\Users\\hp\\AppData\\Local\\Programs\\Python\\Python310\\lib\\site-packages\\scipy\\stats\\_distn_infrastructure.py:2781: RuntimeWarning: invalid value encountered in multiply\n",
      "  Lhat = muhat - Shat*mu\n",
      "c:\\Users\\hp\\AppData\\Local\\Programs\\Python\\Python310\\lib\\site-packages\\scipy\\stats\\_distn_infrastructure.py:2781: RuntimeWarning: invalid value encountered in multiply\n",
      "  Lhat = muhat - Shat*mu\n",
      "c:\\Users\\hp\\AppData\\Local\\Programs\\Python\\Python310\\lib\\site-packages\\scipy\\stats\\_distn_infrastructure.py:2781: RuntimeWarning: invalid value encountered in multiply\n",
      "  Lhat = muhat - Shat*mu\n",
      "c:\\Users\\hp\\AppData\\Local\\Programs\\Python\\Python310\\lib\\site-packages\\scipy\\stats\\_distn_infrastructure.py:2781: RuntimeWarning: invalid value encountered in multiply\n",
      "  Lhat = muhat - Shat*mu\n",
      "c:\\Users\\hp\\AppData\\Local\\Programs\\Python\\Python310\\lib\\site-packages\\scipy\\optimize\\_minpack_py.py:175: RuntimeWarning: The iteration is not making good progress, as measured by the \n",
      "  improvement from the last ten iterations.\n",
      "  warnings.warn(msg, RuntimeWarning)\n",
      "c:\\Users\\hp\\AppData\\Local\\Programs\\Python\\Python310\\lib\\site-packages\\scipy\\stats\\_distn_infrastructure.py:2781: RuntimeWarning: invalid value encountered in multiply\n",
      "  Lhat = muhat - Shat*mu\n",
      "c:\\Users\\hp\\AppData\\Local\\Programs\\Python\\Python310\\lib\\site-packages\\scipy\\stats\\_distn_infrastructure.py:2781: RuntimeWarning: invalid value encountered in multiply\n",
      "  Lhat = muhat - Shat*mu\n"
     ]
    },
    {
     "name": "stdout",
     "output_type": "stream",
     "text": [
      "(302.1865285537912, 321.7126073403801)\n"
     ]
    }
   ],
   "source": [
    "def var_montecarlo(data,weight,level):\n",
    "    intialvalue=np.dot(data.iloc[0,:],weight.T)\n",
    "    returns= data.pct_change().dropna()\n",
    "    distribution=[]\n",
    "    for i in range(returns.shape[1]):\n",
    "      distribution.append(distribution_fit(returns.iloc[i]))\n",
    "    mu= returns.mean().to_numpy()\n",
    "    sigma=np.linalg.cholesky(returns.cov().to_numpy())\n",
    "    sim=1000\n",
    "    portfolio=np.zeros((returns.shape[0],sim))\n",
    "    N=np.ones((returns.shape[1],returns.shape[0]))\n",
    "    for i in range(sim):\n",
    "      for j in range(returns.shape[1]):\n",
    "        N[j]=generate_distribution(distribution[j][0], distribution[j][1], returns.shape[0])\n",
    "      daily_returns= (mu.T + (np.dot(sigma,N)).T) # mu + np.inner(sigma,N)\n",
    "      portfolio[:,i]= np.cumprod((np.dot(weight, daily_returns.T )+1))*intialvalue #daily_returns.T\n",
    "    portfolio_mean=portfolio[-1,:]- intialvalue\n",
    "    var=np.percentile(portfolio_mean, 1-level) \n",
    "    cvar=portfolio_mean[portfolio_mean<= np.percentile(portfolio_mean, level)  ].mean()\n",
    "    return  var, cvar\n",
    "print(var_montecarlo(tada,weight,0.95))"
   ]
  },
  {
   "cell_type": "code",
   "execution_count": 27,
   "metadata": {},
   "outputs": [
    {
     "name": "stderr",
     "output_type": "stream",
     "text": [
      "c:\\Users\\hp\\AppData\\Local\\Programs\\Python\\Python310\\lib\\site-packages\\scipy\\stats\\_continuous_distns.py:707: RuntimeWarning: invalid value encountered in sqrt\n",
      "  sk = 2*(b-a)*np.sqrt(a + b + 1) / (a + b + 2) / np.sqrt(a*b)\n",
      "c:\\Users\\hp\\AppData\\Local\\Programs\\Python\\Python310\\lib\\site-packages\\scipy\\stats\\_distn_infrastructure.py:2781: RuntimeWarning: invalid value encountered in multiply\n",
      "  Lhat = muhat - Shat*mu\n",
      "c:\\Users\\hp\\AppData\\Local\\Programs\\Python\\Python310\\lib\\site-packages\\scipy\\stats\\_distn_infrastructure.py:2781: RuntimeWarning: invalid value encountered in multiply\n",
      "  Lhat = muhat - Shat*mu\n",
      "c:\\Users\\hp\\AppData\\Local\\Programs\\Python\\Python310\\lib\\site-packages\\scipy\\stats\\_distn_infrastructure.py:2781: RuntimeWarning: invalid value encountered in multiply\n",
      "  Lhat = muhat - Shat*mu\n",
      "c:\\Users\\hp\\AppData\\Local\\Programs\\Python\\Python310\\lib\\site-packages\\scipy\\stats\\_distn_infrastructure.py:2781: RuntimeWarning: invalid value encountered in multiply\n",
      "  Lhat = muhat - Shat*mu\n",
      "c:\\Users\\hp\\AppData\\Local\\Programs\\Python\\Python310\\lib\\site-packages\\scipy\\stats\\_continuous_distns.py:707: RuntimeWarning: invalid value encountered in sqrt\n",
      "  sk = 2*(b-a)*np.sqrt(a + b + 1) / (a + b + 2) / np.sqrt(a*b)\n",
      "c:\\Users\\hp\\AppData\\Local\\Programs\\Python\\Python310\\lib\\site-packages\\scipy\\stats\\_distn_infrastructure.py:2781: RuntimeWarning: invalid value encountered in multiply\n",
      "  Lhat = muhat - Shat*mu\n",
      "c:\\Users\\hp\\AppData\\Local\\Programs\\Python\\Python310\\lib\\site-packages\\scipy\\stats\\_distn_infrastructure.py:2781: RuntimeWarning: invalid value encountered in multiply\n",
      "  Lhat = muhat - Shat*mu\n",
      "c:\\Users\\hp\\AppData\\Local\\Programs\\Python\\Python310\\lib\\site-packages\\scipy\\stats\\_continuous_distns.py:707: RuntimeWarning: invalid value encountered in sqrt\n",
      "  sk = 2*(b-a)*np.sqrt(a + b + 1) / (a + b + 2) / np.sqrt(a*b)\n",
      "c:\\Users\\hp\\AppData\\Local\\Programs\\Python\\Python310\\lib\\site-packages\\scipy\\stats\\_distn_infrastructure.py:2781: RuntimeWarning: invalid value encountered in multiply\n",
      "  Lhat = muhat - Shat*mu\n",
      "c:\\Users\\hp\\AppData\\Local\\Programs\\Python\\Python310\\lib\\site-packages\\scipy\\stats\\_distn_infrastructure.py:2781: RuntimeWarning: invalid value encountered in multiply\n",
      "  Lhat = muhat - Shat*mu\n",
      "c:\\Users\\hp\\AppData\\Local\\Programs\\Python\\Python310\\lib\\site-packages\\scipy\\stats\\_distn_infrastructure.py:2781: RuntimeWarning: invalid value encountered in multiply\n",
      "  Lhat = muhat - Shat*mu\n",
      "c:\\Users\\hp\\AppData\\Local\\Programs\\Python\\Python310\\lib\\site-packages\\scipy\\stats\\_distn_infrastructure.py:2781: RuntimeWarning: invalid value encountered in multiply\n",
      "  Lhat = muhat - Shat*mu\n",
      "c:\\Users\\hp\\AppData\\Local\\Programs\\Python\\Python310\\lib\\site-packages\\scipy\\stats\\_distn_infrastructure.py:2781: RuntimeWarning: invalid value encountered in multiply\n",
      "  Lhat = muhat - Shat*mu\n",
      "c:\\Users\\hp\\AppData\\Local\\Programs\\Python\\Python310\\lib\\site-packages\\scipy\\stats\\_distn_infrastructure.py:2781: RuntimeWarning: invalid value encountered in multiply\n",
      "  Lhat = muhat - Shat*mu\n",
      "c:\\Users\\hp\\AppData\\Local\\Programs\\Python\\Python310\\lib\\site-packages\\scipy\\stats\\_distn_infrastructure.py:2781: RuntimeWarning: invalid value encountered in multiply\n",
      "  Lhat = muhat - Shat*mu\n",
      "c:\\Users\\hp\\AppData\\Local\\Programs\\Python\\Python310\\lib\\site-packages\\scipy\\stats\\_distn_infrastructure.py:2781: RuntimeWarning: invalid value encountered in multiply\n",
      "  Lhat = muhat - Shat*mu\n",
      "c:\\Users\\hp\\AppData\\Local\\Programs\\Python\\Python310\\lib\\site-packages\\scipy\\optimize\\_minpack_py.py:175: RuntimeWarning: The iteration is not making good progress, as measured by the \n",
      "  improvement from the last ten iterations.\n",
      "  warnings.warn(msg, RuntimeWarning)\n",
      "c:\\Users\\hp\\AppData\\Local\\Programs\\Python\\Python310\\lib\\site-packages\\scipy\\stats\\_distn_infrastructure.py:2781: RuntimeWarning: invalid value encountered in multiply\n",
      "  Lhat = muhat - Shat*mu\n",
      "c:\\Users\\hp\\AppData\\Local\\Programs\\Python\\Python310\\lib\\site-packages\\scipy\\stats\\_distn_infrastructure.py:2781: RuntimeWarning: invalid value encountered in multiply\n",
      "  Lhat = muhat - Shat*mu\n"
     ]
    },
    {
     "data": {
      "text/plain": [
       "array([[-1.88383413e-02, -1.89276846e-02, -3.99612514e-02,\n",
       "         1.48279579e+00,  7.60957549e-02, -3.99475543e-02,\n",
       "        -3.99998983e-02, -3.68067490e-02, -1.68041118e-02,\n",
       "         5.89153867e-02,  3.51169155e-01,  4.15610991e-02,\n",
       "         2.78999704e+00,  1.72840835e+00, -2.05697339e-02,\n",
       "         8.16924440e-02, -1.82661827e-02,  5.23314384e-01,\n",
       "        -3.66676123e-02, -3.99996061e-02,  3.18418858e-03,\n",
       "        -2.60620180e-02,  4.89782893e-01,  6.78292760e-02,\n",
       "         1.42322181e-01,  7.86667148e-01, -3.99949484e-02,\n",
       "         6.20929120e-02, -3.40388036e-02, -3.63035085e-02,\n",
       "        -3.97899169e-02, -3.99999578e-02, -3.99998915e-02,\n",
       "        -3.28971896e-02, -3.99981601e-02,  1.14075487e+00,\n",
       "        -3.99928168e-02,  1.08961963e+00, -2.57467037e-02,\n",
       "        -3.79385659e-02,  4.04059901e-01,  3.21186637e+00,\n",
       "         1.31356340e-01,  8.95533413e-01, -3.86265777e-02,\n",
       "         1.38806871e-01, -3.36315849e-02, -3.99572751e-02,\n",
       "        -3.11545833e-02, -3.99709057e-02, -3.99999998e-02,\n",
       "         2.79709028e-01, -3.39243810e-02, -3.99948415e-02,\n",
       "        -3.76482439e-02, -3.65463952e-02, -3.99999996e-02,\n",
       "        -2.38030409e-02,  4.77702717e-01, -3.99999987e-02,\n",
       "         3.36600082e-01],\n",
       "       [-2.96699674e-02, -2.98957470e-03, -2.91786261e-02,\n",
       "        -2.03187378e-02, -2.98532541e-02, -1.99551593e-02,\n",
       "        -2.97975237e-02,  7.31389550e-03, -2.72806117e-02,\n",
       "        -2.98541255e-02, -2.38141073e-02, -2.77342147e-03,\n",
       "        -2.94533283e-02, -1.77093980e-02, -2.91166703e-02,\n",
       "        -2.78115719e-02, -2.99534227e-02, -2.99702016e-02,\n",
       "         2.90349690e-02, -2.99387262e-02,  2.72987774e-03,\n",
       "        -2.26954118e-02, -2.06684497e-02, -1.23120100e-02,\n",
       "        -2.33633393e-02, -1.03447282e-02, -2.61755861e-02,\n",
       "        -2.99899326e-02, -6.05811953e-03, -1.48587564e-02,\n",
       "        -2.96191253e-02, -2.44305526e-02, -1.83111038e-02,\n",
       "        -1.60111148e-03, -2.12189556e-02, -5.76051886e-03,\n",
       "        -2.97119734e-02, -2.99016180e-02,  6.43729588e-03,\n",
       "        -2.38990847e-02, -2.91514510e-02, -2.17950897e-02,\n",
       "         1.30645415e-03,  1.33992591e-02,  7.99415243e-04,\n",
       "        -2.68408987e-02, -2.99142086e-02, -1.94117939e-02,\n",
       "        -2.99681162e-02, -1.50998382e-02, -2.98621977e-02,\n",
       "         4.10265223e-02, -2.94773688e-02, -2.92311772e-02,\n",
       "        -2.54498028e-02, -2.99642740e-02,  1.58930353e-02,\n",
       "        -8.47379010e-03, -2.78957316e-02, -6.68094272e-03,\n",
       "         1.64040389e-03],\n",
       "       [ 3.66117593e-02,  2.53718317e-02,  3.31156478e-02,\n",
       "         3.08055253e-02,  2.94181990e-02,  3.99999995e-02,\n",
       "        -4.28715211e-02,  3.81565844e-02,  3.98354272e-02,\n",
       "         3.86624572e-02,  2.09868847e-02,  3.98087921e-02,\n",
       "        -4.69803018e-02,  2.92714180e-02,  3.97951109e-02,\n",
       "         3.99955149e-02,  1.97518940e-02,  3.32056217e-02,\n",
       "         3.98200505e-02,  1.81209178e-02,  8.05755099e-03,\n",
       "         2.85585736e-02,  3.99253407e-02,  2.21580879e-02,\n",
       "         3.60479013e-02,  2.50682016e-02,  3.29677838e-02,\n",
       "         3.37574561e-02,  3.99999708e-02,  3.99999676e-02,\n",
       "        -6.82027713e-03,  3.99685098e-02,  3.87280954e-02,\n",
       "         7.28994798e-03,  1.71078525e-02,  2.63262678e-02,\n",
       "        -1.00731124e-02,  1.46776344e-02,  3.78178114e-02,\n",
       "        -1.93415340e-02, -7.31060365e-03,  3.50188817e-02,\n",
       "        -4.08641911e-02,  3.91141912e-02,  3.99754867e-02,\n",
       "         3.99849070e-02,  3.99999982e-02, -2.65076360e-03,\n",
       "         3.99095755e-02,  3.48044266e-02,  3.33236576e-02,\n",
       "         3.99818050e-02, -1.22915903e-02,  3.99458222e-02,\n",
       "         4.00000000e-02,  3.99998012e-02,  4.20313001e-06,\n",
       "         2.07465592e-03, -2.33282045e-02, -3.50941932e-02,\n",
       "        -1.74470799e-02],\n",
       "       [ 1.00000000e-02,  1.00000000e-02,  1.00000000e-02,\n",
       "         1.00000000e-02,  1.00000000e-02,  1.00000000e-02,\n",
       "         1.00000000e-02,  1.00000000e-02,  1.00000000e-02,\n",
       "         1.00000000e-02,  1.00000000e-02,  1.00000000e-02,\n",
       "         1.00000000e-02,  1.00000000e-02,  1.00000000e-02,\n",
       "         1.00000000e-02,  1.00000000e-02,  1.00000000e-02,\n",
       "         1.00000000e-02,  1.00000000e-02,  1.00000000e-02,\n",
       "         1.00000000e-02,  1.00000000e-02,  1.00000000e-02,\n",
       "         1.00000000e-02,  1.00000000e-02,  1.00000000e-02,\n",
       "         1.00000000e-02,  1.00000000e-02,  1.00000000e-02,\n",
       "         1.00000000e-02,  1.00000000e-02,  1.00000000e-02,\n",
       "         1.00000000e-02,  1.00000000e-02,  1.00000000e-02,\n",
       "         1.00000000e-02,  1.00000000e-02,  1.00000000e-02,\n",
       "         1.00000000e-02,  1.00000000e-02,  1.00000000e-02,\n",
       "         1.00000000e-02,  1.00000000e-02,  1.00000000e-02,\n",
       "         1.00000000e-02,  1.00000000e-02,  1.00000000e-02,\n",
       "         1.00000000e-02,  1.00000000e-02,  1.00000000e-02,\n",
       "         1.00000000e-02,  1.00000000e-02,  1.00000000e-02,\n",
       "         1.00000000e-02,  1.00000000e-02,  1.00000000e-02,\n",
       "         1.00000000e-02,  1.00000000e-02,  1.00000000e-02,\n",
       "         1.00000000e-02],\n",
       "       [-8.40067685e-03,  3.67446370e-04, -8.32576121e-03,\n",
       "        -5.12121033e-03, -6.13223457e-03,  4.80247298e-02,\n",
       "         1.13201548e-02,  1.49245749e-02, -9.54591185e-03,\n",
       "        -8.15864191e-03,  1.90172103e-02,  1.05336645e-02,\n",
       "        -4.80594499e-03,  1.73257075e-02,  1.26157745e-02,\n",
       "        -9.63001058e-03, -5.16153786e-03,  8.41357426e-03,\n",
       "         3.06807092e-03, -4.19696557e-04,  3.90366048e-02,\n",
       "         5.68061681e-02,  2.46439210e-02,  2.99011393e-02,\n",
       "         9.87967547e-03, -3.82743750e-03,  2.25613863e-03,\n",
       "         3.75198409e-03,  6.14782872e-02, -6.52709263e-03,\n",
       "        -9.37359906e-03,  4.60021506e-03, -1.56344127e-03,\n",
       "         3.40868125e-03,  1.85344049e-02, -7.59302058e-03,\n",
       "        -8.08664494e-03, -9.62727955e-03,  8.44194072e-04,\n",
       "         2.03150360e-03, -6.84995086e-03, -6.47063237e-03,\n",
       "         1.81207199e-02, -9.81437071e-03,  6.36655858e-06,\n",
       "        -8.95936861e-03,  4.62097367e-03, -7.60851719e-03,\n",
       "        -7.85684408e-03,  2.87280744e-02, -7.90014153e-03,\n",
       "         4.15384989e-02, -2.43634565e-03, -1.67828086e-03,\n",
       "         7.09810899e-03,  1.33603788e-02,  1.05286954e-02,\n",
       "        -9.14563029e-03, -8.87808785e-03, -9.76916556e-03,\n",
       "        -2.69979932e-03],\n",
       "       [ 2.09880830e-02,  2.74228528e-02, -6.39671446e-03,\n",
       "         2.31255730e-02,  2.01739856e-02, -5.11062130e-03,\n",
       "        -1.46759149e-02,  1.27630804e-02,  1.44417289e-02,\n",
       "         2.94307252e-02, -1.10347037e-02,  1.28574174e-02,\n",
       "         1.13016891e-02,  1.94687997e-02,  2.97911707e-02,\n",
       "         2.10921194e-02, -2.55811257e-02,  2.50279425e-02,\n",
       "         6.71665491e-03,  2.60830391e-02,  2.99569433e-02,\n",
       "         2.90451792e-02,  1.68123615e-02, -1.23419283e-02,\n",
       "         6.14098449e-03,  2.38524856e-02, -1.52509299e-02,\n",
       "         1.49955685e-02,  4.14956072e-03,  2.20213681e-02,\n",
       "         1.08729201e-02, -3.68566442e-03,  2.89146285e-02,\n",
       "        -1.17163825e-03,  2.28751526e-03,  2.92952771e-02,\n",
       "        -8.39361986e-03, -2.07614844e-02,  2.32189849e-02,\n",
       "        -1.35677507e-02,  2.84580499e-02,  8.62973108e-03,\n",
       "        -1.99898820e-03,  1.45157618e-02,  2.82802212e-02,\n",
       "         2.88050425e-02, -2.78189117e-03,  2.12610763e-02,\n",
       "         2.92524147e-02,  2.49265552e-02, -1.34993947e-02,\n",
       "         2.93264948e-02,  2.47003663e-02,  2.92278899e-02,\n",
       "         2.64823967e-02,  1.70418661e-02, -2.37560939e-02,\n",
       "         2.51363640e-02,  7.28872995e-03, -2.24190926e-02,\n",
       "        -9.05578231e-03],\n",
       "       [ 9.51985538e-03, -7.53802707e-03,  9.59491541e-03,\n",
       "         1.06061205e-03,  9.99823362e-03, -4.36367702e-03,\n",
       "        -9.06775245e-03,  9.64245786e-03, -1.11691422e-03,\n",
       "         9.07204005e-03,  5.91387665e-03, -2.72538872e-02,\n",
       "        -3.45562749e-02, -4.60496715e-03,  9.86621799e-03,\n",
       "         7.89970175e-03,  9.98353073e-03,  9.19664550e-03,\n",
       "        -1.66468534e-03,  3.09627951e-03,  9.86172709e-03,\n",
       "        -1.02481708e-02, -7.83884628e-03,  8.57516046e-03,\n",
       "        -3.25691637e-02, -8.92133136e-05,  9.39793724e-03,\n",
       "         3.45281474e-03,  3.43467302e-03, -2.44770345e-02,\n",
       "         9.39318793e-03,  4.52694952e-03, -2.88616366e-02,\n",
       "        -4.00501400e-04,  8.42529642e-03, -1.17833209e-02,\n",
       "        -1.81464493e-02, -2.13793296e-02, -5.21859252e-03,\n",
       "         8.29305043e-03, -3.09604343e-02, -3.92668187e-04,\n",
       "        -1.55522704e-02,  9.19654501e-03, -4.53343736e-04,\n",
       "         9.90348057e-03,  9.09247745e-03, -5.05414240e-03,\n",
       "        -2.85136862e-03, -2.66563768e-02,  2.32675258e-03,\n",
       "         4.67115714e-03,  7.25375002e-03,  4.07708493e-03,\n",
       "        -2.31271807e-02,  1.45018432e-03,  5.59788739e-03,\n",
       "         7.45487787e-03,  9.24737293e-03, -3.17441356e-02,\n",
       "        -3.25071380e-02],\n",
       "       [ 3.56744070e-04, -4.27918756e-03, -3.76727394e-02,\n",
       "         1.29649736e-02,  4.12665985e-03,  1.34079718e-02,\n",
       "         8.02794731e-03,  9.41893514e-03,  2.34748047e-02,\n",
       "         1.13604338e-02, -5.35045273e-03,  8.83835908e-03,\n",
       "         2.23208647e-02,  7.12010728e-03,  1.16586730e-02,\n",
       "         1.75827267e-02,  7.94685471e-03, -1.71022945e-02,\n",
       "         1.71786465e-02,  2.23998084e-02,  8.28260108e-03,\n",
       "         3.30138045e-02, -1.48628426e-01,  7.14748284e-02,\n",
       "        -6.28989782e-03,  1.27224306e-02,  3.59786128e-02,\n",
       "         1.05384583e-02,  1.12933251e-02,  3.11830021e-02,\n",
       "         2.88201724e-03,  6.59995960e-04,  3.91688014e-03,\n",
       "         2.27822403e-02, -6.06561411e-02,  8.89071417e-03,\n",
       "         2.63346944e-03,  1.35109925e-02,  2.23296514e-02,\n",
       "        -7.55626455e-04,  2.51205505e-02,  1.07634685e-02,\n",
       "        -1.56413009e-04,  2.22497551e-03,  3.41095563e-03,\n",
       "         1.06525235e-02,  7.73522149e-03,  2.12639329e-02,\n",
       "        -1.47828524e-02,  3.82513557e-02,  3.27192939e-03,\n",
       "         7.05229548e-03,  2.06602882e-04,  2.80906654e-02,\n",
       "        -1.20703024e-02,  1.26773309e-02,  1.28678108e-02,\n",
       "         1.47030284e-02, -7.10942528e-04,  9.22668421e-03,\n",
       "         1.38417858e-02]])"
      ]
     },
     "execution_count": 27,
     "metadata": {},
     "output_type": "execute_result"
    }
   ],
   "source": [
    "returns= tada.pct_change().dropna()\n",
    "\n",
    "distribution=[]\n",
    "for i in range(returns.shape[1]):\n",
    "      distribution.append(distribution_fit(returns.iloc[i]))\n",
    "\n",
    "N=np.ones((returns.shape[1],returns.shape[0]))\n",
    "for i in range(returns.shape[1]):\n",
    " N[i]=generate_distribution(distribution[i][0], distribution[i][1], returns.shape[0])\n",
    "N"
   ]
  }
 ],
 "metadata": {
  "kernelspec": {
   "display_name": "Python 3",
   "language": "python",
   "name": "python3"
  },
  "language_info": {
   "codemirror_mode": {
    "name": "ipython",
    "version": 3
   },
   "file_extension": ".py",
   "mimetype": "text/x-python",
   "name": "python",
   "nbconvert_exporter": "python",
   "pygments_lexer": "ipython3",
   "version": "3.10.6"
  },
  "orig_nbformat": 4,
  "vscode": {
   "interpreter": {
    "hash": "63963b3f4c440940f0b94a3100916033a226cb4f45979123153792d60aa56d6a"
   }
  }
 },
 "nbformat": 4,
 "nbformat_minor": 2
}
