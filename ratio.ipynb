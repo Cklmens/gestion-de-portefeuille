{
 "cells": [
  {
   "cell_type": "code",
   "execution_count": 1,
   "metadata": {},
   "outputs": [],
   "source": [
    "import yfinance as yf\n",
    "import matplotlib.pyplot as plt\n",
    "import pandas as pd\n",
    "import numpy as np\n",
    "import statsmodels.api as smf\n",
    "from scipy.stats import norm\n",
    "import scipy.stats as stat\n",
    "from datetime import datetime"
   ]
  },
  {
   "attachments": {},
   "cell_type": "markdown",
   "metadata": {},
   "source": [
    "collecte de données :\n",
    "  - renvoie les returns\n",
    "  - renvoie les cours des actifs"
   ]
  },
  {
   "cell_type": "code",
   "execution_count": 2,
   "metadata": {},
   "outputs": [],
   "source": [
    " # retourne le rendement des actifs\n",
    "def data_returns(tickers,date1,date2):\n",
    "    returns=pd.DataFrame()\n",
    "    for i in range(len(tickers)):\n",
    "        data=yf.download(tickers[i],date1,date2)\n",
    "        returns[tickers[i]]=((data[\"Adj Close\"].pct_change()).dropna())\n",
    "    return returns"
   ]
  },
  {
   "cell_type": "code",
   "execution_count": 3,
   "metadata": {},
   "outputs": [],
   "source": [
    "#Retourne le cours journalier des actifs\n",
    "def data_(tickers,date1,date2):  \n",
    "    returns=pd.DataFrame()\n",
    "    for i in range(len(tickers)):\n",
    "        data=yf.download(tickers[i],date1,date2)\n",
    "        returns[tickers[i]]=((data[\"Adj Close\"]).dropna())\n",
    "       \n",
    "    return returns"
   ]
  },
  {
   "attachments": {},
   "cell_type": "markdown",
   "metadata": {},
   "source": [
    "Donne la pondération pour un portefeuille composé de n actifs"
   ]
  },
  {
   "cell_type": "code",
   "execution_count": 4,
   "metadata": {},
   "outputs": [],
   "source": [
    "#Simule aléatoirement les pondérations de n actifs\n",
    "def Pond(n):\n",
    "    W=np.random.randint(1,10,n)  # Generation de n entiers compris entre 1 et 10\n",
    "    W= W/np.sum(W) #  Normalisation pour aoir la somme de spondérations égale à 1\n",
    "    return W\n"
   ]
  },
  {
   "attachments": {},
   "cell_type": "markdown",
   "metadata": {},
   "source": [
    "la rentabilité trimestriel de chaque actif"
   ]
  },
  {
   "cell_type": "code",
   "execution_count": null,
   "metadata": {},
   "outputs": [],
   "source": []
  },
  {
   "cell_type": "code",
   "execution_count": 5,
   "metadata": {},
   "outputs": [],
   "source": [
    "#la rentabilité trimestriel de chaque actif\n",
    "def Rentabilité(resultat):\n",
    "    mu=pd.DataFrame([\"mean\"])\n",
    "    for i in range(np.shape(resultat)[1]):\n",
    "        mu[resultat.columns[i]]= (1+np.mean(resultat.iloc[:,i]))**63-1\n",
    "    return mu\n",
    "\n",
    "#matrice de variance covariance trimestrielle\n",
    "def Matcov(resultat):\n",
    "    sigma= resultat.cov()* np.sqrt(63)\n",
    "    return sigma\n",
    "\n"
   ]
  },
  {
   "attachments": {},
   "cell_type": "markdown",
   "metadata": {},
   "source": [
    " la matrice de variance covariance trimestrielle des différents actifs"
   ]
  },
  {
   "cell_type": "code",
   "execution_count": 6,
   "metadata": {},
   "outputs": [],
   "source": [
    "#matrice de variance covariance trimestrielle\n",
    "def Matcov(resultat):\n",
    "    sigma= resultat.cov()* np.sqrt(63)\n",
    "    return sigma\n",
    "\n",
    "#la rentabilité et la variance des différents portefeuilles simulés\n",
    "def PortfolioStat(data, sim=100000):\n",
    "    resultat= data\n",
    "    mu= resultat.mean() #  Rentabilité des actifs\n",
    "    sigma= Matcov(resultat)  # Matrice de variance covariance des différents  actifs\n",
    "    n= data.shape[1]\n",
    "    W=np.zeros((sim,n))\n",
    "    moy=np.zeros(sim)\n",
    "    theta=np.zeros(sim)\n",
    "    for i in range(sim):\n",
    "        wi= Pond(n) # POndération de chaque portefeuille\n",
    "        moy[i]= np.dot(wi,mu)   # Rentabilité espérée du portefeuille\n",
    "        theta[i]  = np.dot(wi.T,np.dot(sigma, wi))   #Volatilité de chaque portefeuille\n",
    "        W[i]= wi   # incrémenter au fur et à mesure une matrice des pondérations\n",
    "         # incrémentation des moyennes\n",
    "         # incrémentations des variances\n",
    "    results= list()    #liste qui contiendra la matrice des pondérations, le vecteur rentabilité, et le vecteur variance pour chaque simulation\n",
    "    results.append(W) \n",
    "    results.append(moy)\n",
    "    results.append(theta)\n",
    "    plt.scatter(results[2],results[1])\n",
    "\n",
    "    return results"
   ]
  },
  {
   "attachments": {},
   "cell_type": "markdown",
   "metadata": {},
   "source": [
    "la rentabilité et la variance des différents portefeuilles simulés"
   ]
  },
  {
   "cell_type": "code",
   "execution_count": 7,
   "metadata": {},
   "outputs": [],
   "source": [
    "#la rentabilité et la variance des différents portefeuilles simulés\n",
    "def PortfolioStat(data, sim=100000):\n",
    "    resultat= data\n",
    "    mu= resultat.mean() #  Rentabilité des actifs\n",
    "    sigma= Matcov(resultat)  # Matrice de variance covariance des différents  actifs\n",
    "    n= data.shape[1]\n",
    "    W=np.zeros((sim,n))\n",
    "    moy=np.zeros(sim)\n",
    "    theta=np.zeros(sim)\n",
    "    for i in range(sim):\n",
    "        wi= Pond(n) # POndération de chaque portefeuille\n",
    "        moy[i]= np.dot(wi,mu)   # Rentabilité espérée du portefeuille\n",
    "        theta[i]  = np.dot(wi.T,np.dot(sigma, wi))   #Volatilité de chaque portefeuille\n",
    "        W[i]= wi   # incrémenter au fur et à mesure une matrice des pondérations\n",
    "         # incrémentation des moyennes\n",
    "         # incrémentations des variances\n",
    "    results= list()    #liste qui contiendra la matrice des pondérations, le vecteur rentabilité, et le vecteur variance pour chaque simulation\n",
    "    results.append(W) \n",
    "    results.append(moy)\n",
    "    results.append(theta)\n",
    "    plt.scatter(results[2],results[1])\n",
    "    return results\n",
    "\n",
    "#Global minimum Variance\n",
    "def GMV(portfolio):\n",
    "      min_ = min(portfolio[2])\n",
    "      index= np.where(portfolio[2]==min_)\n",
    "      return [portfolio[0][index],portfolio[1][index],portfolio[2][index]]\n",
    "\n",
    "#beta\n",
    "def beta(Rm,Rp):\n",
    "  x=Rm.to_numpy().T\n",
    "  y=Rp.to_numpy().T\n",
    "  covariance = np.abs( np.cov(x, y)[0][1])\n",
    " # Calcul de la variance de x\n",
    "  variance_x = np.var(x)\n",
    "  return covariance/variance_x\n",
    "\n",
    "#le treynor\n",
    "def treynor(Rp, Rm,rf):\n",
    "    return (np.mean(Rp-rf))/beta(Rm,Rp)\n",
    "# ALpha Jensen\n",
    "def alphaJensen(Rp, Rm,rf):\n",
    "    return np.mean(Rp)-(rf + beta(Rm,Rp)*(Rm.mean().iloc[0]-rf))\n",
    "\n",
    "#ratio de sharpe\n",
    "def SharpeRate(r,sigma, rf):\n",
    "    return ((r-rf)/sigma)\n",
    "\n",
    "\n"
   ]
  },
  {
   "attachments": {},
   "cell_type": "markdown",
   "metadata": {},
   "source": [
    "Global minimum Variance"
   ]
  },
  {
   "cell_type": "code",
   "execution_count": 8,
   "metadata": {},
   "outputs": [],
   "source": [
    "#Global minimum Variance\n",
    "def GMV(portfolio):\n",
    "      min_ = min(portfolio[2])\n",
    "      index= np.where(portfolio[2]==min_)\n",
    "      return [portfolio[0][index],portfolio[1][index],portfolio[2][index]]"
   ]
  },
  {
   "attachments": {},
   "cell_type": "markdown",
   "metadata": {},
   "source": [
    "Renvoie la pondération, la rentabilité et la volatilié qui maximise le ratio de Sharpe"
   ]
  },
  {
   "cell_type": "code",
   "execution_count": 9,
   "metadata": {},
   "outputs": [],
   "source": [
    "#Renvoie la pondération, la rentabilité et la volatilié qui maximise le ratio de Sharpe\n",
    "def MaxSharpeRate(portfolio, rf):\n",
    "    max_= max((portfolio[1]-rf)/portfolio[2])\n",
    "    index=np.where(((portfolio[1]-rf)/portfolio[2])==max_)\n",
    "    return  [portfolio[0][index],portfolio[1][index],portfolio[2][index],max_]"
   ]
  },
  {
   "attachments": {},
   "cell_type": "markdown",
   "metadata": {},
   "source": [
    "Le beta"
   ]
  },
  {
   "cell_type": "code",
   "execution_count": 10,
   "metadata": {},
   "outputs": [],
   "source": [
    "def beta(Rm,Rp):\n",
    "    data=pd.DataFrame(Rp,columns=[\"Rp\"])\n",
    "    data[[\"Rm\"]]=Rm\n",
    "\n",
    "    return (data.cov().iloc[1,0]/np.var(data[[\"Rm\"]])).iloc[0]\n",
    "#beta\n",
    "def beta(Rm,Rp):\n",
    "  x=Rm.to_numpy().T\n",
    "  y=Rp.to_numpy().T\n",
    "  covariance = np.abs( np.cov(x, y)[0][1])\n",
    " # Calcul de la variance de x\n",
    "  variance_x = np.var(x)\n",
    "  return covariance/variance_x"
   ]
  },
  {
   "attachments": {},
   "cell_type": "markdown",
   "metadata": {},
   "source": [
    "rp =beta(rm-rf) +rf "
   ]
  },
  {
   "cell_type": "code",
   "execution_count": null,
   "metadata": {},
   "outputs": [],
   "source": []
  },
  {
   "cell_type": "code",
   "execution_count": 11,
   "metadata": {},
   "outputs": [],
   "source": [
    "def Rp(data, weight):\n",
    "    return data.dot(weight).pct_change().dropna()\n",
    "#pd.DataFrame({\"Rp\":np.dot(data,weight.T)}).pct_change().dropna()"
   ]
  },
  {
   "attachments": {},
   "cell_type": "markdown",
   "metadata": {},
   "source": [
    "les Ratios:\n",
    "  - le treynor\n",
    "  - ALpha Jensen\n",
    "  - ratio de sharpe"
   ]
  },
  {
   "cell_type": "code",
   "execution_count": 12,
   "metadata": {},
   "outputs": [],
   "source": [
    "#le treynor\n",
    "def treynor(Rp, Rm,rf):\n",
    "    return (np.mean(Rp-rf))/beta(Rm,Rp)\n",
    "# ALpha Jensen\n",
    "def alphaJensen(Rp, Rm,rf):\n",
    "    return np.mean(Rp)-(rf + beta(Rm,Rp)*(Rm.mean().iloc[0]-rf))\n",
    "\n",
    "#ratio de sharpe\n",
    "def SharpeRate(r,sigma, rf):\n",
    "    return ((r-rf)/sigma)\n"
   ]
  },
  {
   "cell_type": "code",
   "execution_count": 13,
   "metadata": {},
   "outputs": [
    {
     "name": "stdout",
     "output_type": "stream",
     "text": [
      "[*********************100%***********************]  1 of 1 completed\n",
      "[*********************100%***********************]  1 of 1 completed\n",
      "[*********************100%***********************]  1 of 1 completed\n",
      "[*********************100%***********************]  1 of 1 completed\n",
      "[*********************100%***********************]  1 of 1 completed\n",
      "[*********************100%***********************]  1 of 1 completed\n",
      "[*********************100%***********************]  1 of 1 completed\n",
      "[*********************100%***********************]  1 of 1 completed\n",
      "[*********************100%***********************]  1 of 1 completed\n",
      "[*********************100%***********************]  1 of 1 completed\n",
      "[*********************100%***********************]  1 of 1 completed\n",
      "[*********************100%***********************]  1 of 1 completed\n",
      "[*********************100%***********************]  1 of 1 completed\n",
      "[*********************100%***********************]  1 of 1 completed\n",
      "[*********************100%***********************]  1 of 1 completed\n",
      "[*********************100%***********************]  1 of 1 completed\n",
      "[*********************100%***********************]  1 of 1 completed\n"
     ]
    }
   ],
   "source": [
    "start_date= '2023-01-01'\n",
    "end_date=\"2023-04-01\"\n",
    "tickers=tickers=[\"GOOGL\", \"MSFT\", \"GC=F\", \"TSLA\",'AAPL', \"BABA\", \"^IXIC\", \"^TNX\"]\n",
    "Rm=data_returns([\"^GSPC\"],start_date,end_date)\n",
    "tada=data_(tickers,start_date,end_date)\n",
    "tada_return=data_returns(tickers,start_date,end_date)\n"
   ]
  },
  {
   "cell_type": "code",
   "execution_count": 33,
   "metadata": {},
   "outputs": [
    {
     "name": "stdout",
     "output_type": "stream",
     "text": [
      "[*********************100%***********************]  1 of 1 completed\n",
      "[*********************100%***********************]  1 of 1 completed\n",
      "[*********************100%***********************]  1 of 1 completed\n",
      "[*********************100%***********************]  1 of 1 completed\n",
      "[*********************100%***********************]  1 of 1 completed\n",
      "[*********************100%***********************]  1 of 1 completed\n",
      "[*********************100%***********************]  1 of 1 completed\n",
      "[*********************100%***********************]  1 of 1 completed\n"
     ]
    }
   ],
   "source": [
    "start_date= '2022-04-01'\n",
    "end_date=\"2023-04-01\"\n",
    "tickers=[\"GOOGL\", \"MSFT\", \"GC=F\", \"TSLA\",'AAPL', \"BABA\", \"^IXIC\", \"^TNX\"]\n",
    "rm=data_returns([\"^SP500-40\"],start_date, datetime.today().strftime('%Y-%m-%d'))\n",
    "tick=[\"NMIH\",  \"MKTX\",'CRVL',\"FANH\",\"TW\",'SNEX', \" HGBL\"]\n",
    "raw_data= data_returns(tick,start_date,datetime.today().strftime('%Y-%m-%d')) \n"
   ]
  },
  {
   "cell_type": "code",
   "execution_count": 15,
   "metadata": {},
   "outputs": [
    {
     "data": {
      "text/plain": [
       "nan"
      ]
     },
     "execution_count": 15,
     "metadata": {},
     "output_type": "execute_result"
    }
   ],
   "source": [
    "def var_historic(data,weight,level): \n",
    "    intialvalue=np.dot(data.iloc[0,:],weight.T) \n",
    "    returns= data.pct_change().dropna()\n",
    "    portfolio=  pd.DataFrame(np.dot(returns, weight.T) ) \n",
    "    \n",
    "    return (np.percentile(portfolio, level))*intialvalue*np.sqrt(63)\n",
    "\n",
    "def cvar_historic(data,weight,level):\n",
    "    intialvalue=np.dot(data.iloc[0,:],weight.T)\n",
    "    returns= data.pct_change().dropna()\n",
    "    portfolio=  pd.DataFrame(np.dot(returns, weight.T) )#.sort_values(by=0)\n",
    "    var=np.percentile(portfolio, level)\n",
    "    cvar=portfolio[portfolio<= var].mean()\n",
    "    return (cvar)*intialvalue*np.sqrt(len(data))\n",
    "\n",
    "def treynor(Rp, Rm,rf):\n",
    "    return (np.mean(Rp-rf))/beta(Rm,Rp)\n",
    "\n",
    "def alphaJensen(Rp, Rm,rf):\n",
    "    return np.mean(Rp)-(rf + beta(Rm,Rp)*(Rm.mean().iloc[0]-rf))\n",
    "\n",
    "def SharpeRate(r, rf):\n",
    "    return ((np.mean(r)-rf)/np.std(r))\n",
    "\n",
    "raw_data=raw_data.drop(raw_data.index[-1])\n",
    "rm=rm.drop(rm.index[-1])\n",
    "beta(rm,rm)\n"
   ]
  },
  {
   "cell_type": "code",
   "execution_count": 16,
   "metadata": {},
   "outputs": [
    {
     "name": "stdout",
     "output_type": "stream",
     "text": [
      "[*********************100%***********************]  1 of 1 completed\n",
      "[*********************100%***********************]  1 of 1 completed\n"
     ]
    },
    {
     "data": {
      "text/plain": [
       "nan"
      ]
     },
     "execution_count": 16,
     "metadata": {},
     "output_type": "execute_result"
    }
   ],
   "source": [
    "beta(data_returns([\"GOOGL\"],start_date, datetime.today().strftime('%Y-%m-%d')),data_returns([\"^SP500-40\"],start_date, datetime.today().strftime('%Y-%m-%d')))"
   ]
  },
  {
   "cell_type": "code",
   "execution_count": 17,
   "metadata": {},
   "outputs": [
    {
     "name": "stdout",
     "output_type": "stream",
     "text": [
      "[array([[0.04166667, 0.04166667, 0.29166667, 0.04166667, 0.33333333,\n",
      "        0.04166667, 0.125     , 0.08333333]]), array([0.00299453]), array([0.00070237]), 2.83971879689606]\n"
     ]
    },
    {
     "data": {
      "text/plain": [
       "[array([[0.03846154, 0.07692308, 0.34615385, 0.07692308, 0.11538462,\n",
       "         0.03846154, 0.03846154, 0.26923077]]),\n",
       " array([0.00211133]),\n",
       " array([0.00054463])]"
      ]
     },
     "execution_count": 17,
     "metadata": {},
     "output_type": "execute_result"
    },
    {
     "data": {
      "image/png": "[encoded data removed]",
      "text/plain": [
       "<Figure size 640x480 with 1 Axes>"
      ]
     },
     "metadata": {},
     "output_type": "display_data"
    }
   ],
   "source": [
    "portfolio=PortfolioStat(tada_return,10000)\n",
    "rf=0.001\n",
    "print(MaxSharpeRate(portfolio, rf))\n",
    "GMV(portfolio)"
   ]
  },
  {
   "cell_type": "code",
   "execution_count": 18,
   "metadata": {},
   "outputs": [
    {
     "ename": "ValueError",
     "evalue": "Dot product shape mismatch, (62, 8) vs (6,)",
     "output_type": "error",
     "traceback": [
      "\u001b[1;31m---------------------------------------------------------------------------\u001b[0m",
      "\u001b[1;31mValueError\u001b[0m                                Traceback (most recent call last)",
      "Cell \u001b[1;32mIn[18], line 1\u001b[0m\n\u001b[1;32m----> 1\u001b[0m R_p\u001b[39m=\u001b[39mRp(tada,np\u001b[39m.\u001b[39;49marray([\u001b[39m0.0625\u001b[39;49m, \u001b[39m0.125\u001b[39;49m , \u001b[39m0.125\u001b[39;49m , \u001b[39m0.0625\u001b[39;49m, \u001b[39m0.0625\u001b[39;49m, \u001b[39m0.5625\u001b[39;49m]))\n\u001b[0;32m      2\u001b[0m \u001b[39mprint\u001b[39m(beta(Rm,R_p))\n\u001b[0;32m      3\u001b[0m \u001b[39mprint\u001b[39m(treynor(R_p,Rm,\u001b[39m0.01\u001b[39m))\n",
      "Cell \u001b[1;32mIn[11], line 2\u001b[0m, in \u001b[0;36mRp\u001b[1;34m(data, weight)\u001b[0m\n\u001b[0;32m      1\u001b[0m \u001b[39mdef\u001b[39;00m \u001b[39mRp\u001b[39m(data, weight):\n\u001b[1;32m----> 2\u001b[0m     \u001b[39mreturn\u001b[39;00m data\u001b[39m.\u001b[39;49mdot(weight)\u001b[39m.\u001b[39mpct_change()\u001b[39m.\u001b[39mdropna()\n",
      "File \u001b[1;32mc:\\Users\\hp\\AppData\\Local\\Programs\\Python\\Python310\\lib\\site-packages\\pandas\\core\\frame.py:1602\u001b[0m, in \u001b[0;36mDataFrame.dot\u001b[1;34m(self, other)\u001b[0m\n\u001b[0;32m   1600\u001b[0m     rvals \u001b[39m=\u001b[39m np\u001b[39m.\u001b[39masarray(other)\n\u001b[0;32m   1601\u001b[0m     \u001b[39mif\u001b[39;00m lvals\u001b[39m.\u001b[39mshape[\u001b[39m1\u001b[39m] \u001b[39m!=\u001b[39m rvals\u001b[39m.\u001b[39mshape[\u001b[39m0\u001b[39m]:\n\u001b[1;32m-> 1602\u001b[0m         \u001b[39mraise\u001b[39;00m \u001b[39mValueError\u001b[39;00m(\n\u001b[0;32m   1603\u001b[0m             \u001b[39mf\u001b[39m\u001b[39m\"\u001b[39m\u001b[39mDot product shape mismatch, \u001b[39m\u001b[39m{\u001b[39;00mlvals\u001b[39m.\u001b[39mshape\u001b[39m}\u001b[39;00m\u001b[39m vs \u001b[39m\u001b[39m{\u001b[39;00mrvals\u001b[39m.\u001b[39mshape\u001b[39m}\u001b[39;00m\u001b[39m\"\u001b[39m\n\u001b[0;32m   1604\u001b[0m         )\n\u001b[0;32m   1606\u001b[0m \u001b[39mif\u001b[39;00m \u001b[39misinstance\u001b[39m(other, DataFrame):\n\u001b[0;32m   1607\u001b[0m     \u001b[39mreturn\u001b[39;00m \u001b[39mself\u001b[39m\u001b[39m.\u001b[39m_constructor(\n\u001b[0;32m   1608\u001b[0m         np\u001b[39m.\u001b[39mdot(lvals, rvals), index\u001b[39m=\u001b[39mleft\u001b[39m.\u001b[39mindex, columns\u001b[39m=\u001b[39mother\u001b[39m.\u001b[39mcolumns\n\u001b[0;32m   1609\u001b[0m     )\n",
      "\u001b[1;31mValueError\u001b[0m: Dot product shape mismatch, (62, 8) vs (6,)"
     ]
    }
   ],
   "source": [
    "R_p=Rp(tada,np.array([0.0625, 0.125 , 0.125 , 0.0625, 0.0625, 0.5625]))\n",
    "print(beta(Rm,R_p))\n",
    "print(treynor(R_p,Rm,0.01))\n",
    "print(alphaJensen(R_p,Rm,0.01))\n"
   ]
  },
  {
   "cell_type": "code",
   "execution_count": 19,
   "metadata": {},
   "outputs": [
    {
     "ename": "NameError",
     "evalue": "name 'R_p' is not defined",
     "output_type": "error",
     "traceback": [
      "\u001b[1;31m---------------------------------------------------------------------------\u001b[0m",
      "\u001b[1;31mNameError\u001b[0m                                 Traceback (most recent call last)",
      "Cell \u001b[1;32mIn[19], line 11\u001b[0m\n\u001b[0;32m      8\u001b[0m     fit\u001b[39m=\u001b[39mmodel\u001b[39m.\u001b[39mfit()\n\u001b[0;32m      9\u001b[0m     \u001b[39mreturn\u001b[39;00m fit\n\u001b[1;32m---> 11\u001b[0m beta_fit(R_p,Rm)\u001b[39m.\u001b[39msummary()\n",
      "\u001b[1;31mNameError\u001b[0m: name 'R_p' is not defined"
     ]
    }
   ],
   "source": [
    "def beta_fit(Rp,Rm):\n",
    "\n",
    "    data=pd.DataFrame(Rp,columns=[\"Rp\"])\n",
    "    data[[\"Rm\"]]=Rm\n",
    "\n",
    "    Rm = smf.add_constant(Rm)\n",
    "    model= smf.OLS(Rp,Rm)\n",
    "    fit=model.fit()\n",
    "    return fit\n",
    "\n",
    "beta_fit(R_p,Rm).summary()\n"
   ]
  },
  {
   "cell_type": "code",
   "execution_count": null,
   "metadata": {},
   "outputs": [
    {
     "data": {
      "text/html": [
       "<table class=\"simpletable\">\n",
       "<caption>OLS Regression Results</caption>\n",
       "<tr>\n",
       "  <th>Dep. Variable:</th>            <td>y</td>        <th>  R-squared:         </th> <td>   0.376</td>\n",
       "</tr>\n",
       "<tr>\n",
       "  <th>Model:</th>                   <td>OLS</td>       <th>  Adj. R-squared:    </th> <td>   0.374</td>\n",
       "</tr>\n",
       "<tr>\n",
       "  <th>Method:</th>             <td>Least Squares</td>  <th>  F-statistic:       </th> <td>   186.5</td>\n",
       "</tr>\n",
       "<tr>\n",
       "  <th>Date:</th>             <td>Fri, 28 Apr 2023</td> <th>  Prob (F-statistic):</th> <td>1.52e-33</td>\n",
       "</tr>\n",
       "<tr>\n",
       "  <th>Time:</th>                 <td>15:21:06</td>     <th>  Log-Likelihood:    </th> <td>  1012.9</td>\n",
       "</tr>\n",
       "<tr>\n",
       "  <th>No. Observations:</th>      <td>   311</td>      <th>  AIC:               </th> <td>  -2022.</td>\n",
       "</tr>\n",
       "<tr>\n",
       "  <th>Df Residuals:</th>          <td>   309</td>      <th>  BIC:               </th> <td>  -2014.</td>\n",
       "</tr>\n",
       "<tr>\n",
       "  <th>Df Model:</th>              <td>     1</td>      <th>                     </th>     <td> </td>   \n",
       "</tr>\n",
       "<tr>\n",
       "  <th>Covariance Type:</th>      <td>nonrobust</td>    <th>                     </th>     <td> </td>   \n",
       "</tr>\n",
       "</table>\n",
       "<table class=\"simpletable\">\n",
       "<tr>\n",
       "    <td></td>       <th>coef</th>     <th>std err</th>      <th>t</th>      <th>P>|t|</th>  <th>[0.025</th>    <th>0.975]</th>  \n",
       "</tr>\n",
       "<tr>\n",
       "  <th>const</th> <td>    0.0002</td> <td>    0.001</td> <td>    0.393</td> <td> 0.695</td> <td>   -0.001</td> <td>    0.001</td>\n",
       "</tr>\n",
       "<tr>\n",
       "  <th>^GSPC</th> <td>    0.5018</td> <td>    0.037</td> <td>   13.656</td> <td> 0.000</td> <td>    0.429</td> <td>    0.574</td>\n",
       "</tr>\n",
       "</table>\n",
       "<table class=\"simpletable\">\n",
       "<tr>\n",
       "  <th>Omnibus:</th>       <td>10.027</td> <th>  Durbin-Watson:     </th> <td>   2.122</td>\n",
       "</tr>\n",
       "<tr>\n",
       "  <th>Prob(Omnibus):</th> <td> 0.007</td> <th>  Jarque-Bera (JB):  </th> <td>  11.832</td>\n",
       "</tr>\n",
       "<tr>\n",
       "  <th>Skew:</th>          <td> 0.312</td> <th>  Prob(JB):          </th> <td> 0.00270</td>\n",
       "</tr>\n",
       "<tr>\n",
       "  <th>Kurtosis:</th>      <td> 3.723</td> <th>  Cond. No.          </th> <td>    69.3</td>\n",
       "</tr>\n",
       "</table><br/><br/>Notes:<br/>[1] Standard Errors assume that the covariance matrix of the errors is correctly specified."
      ],
      "text/plain": [
       "<class 'statsmodels.iolib.summary.Summary'>\n",
       "\"\"\"\n",
       "                            OLS Regression Results                            \n",
       "==============================================================================\n",
       "Dep. Variable:                      y   R-squared:                       0.376\n",
       "Model:                            OLS   Adj. R-squared:                  0.374\n",
       "Method:                 Least Squares   F-statistic:                     186.5\n",
       "Date:                Fri, 28 Apr 2023   Prob (F-statistic):           1.52e-33\n",
       "Time:                        15:21:06   Log-Likelihood:                 1012.9\n",
       "No. Observations:                 311   AIC:                            -2022.\n",
       "Df Residuals:                     309   BIC:                            -2014.\n",
       "Df Model:                           1                                         \n",
       "Covariance Type:            nonrobust                                         \n",
       "==============================================================================\n",
       "                 coef    std err          t      P>|t|      [0.025      0.975]\n",
       "------------------------------------------------------------------------------\n",
       "const          0.0002      0.001      0.393      0.695      -0.001       0.001\n",
       "^GSPC          0.5018      0.037     13.656      0.000       0.429       0.574\n",
       "==============================================================================\n",
       "Omnibus:                       10.027   Durbin-Watson:                   2.122\n",
       "Prob(Omnibus):                  0.007   Jarque-Bera (JB):               11.832\n",
       "Skew:                           0.312   Prob(JB):                      0.00270\n",
       "Kurtosis:                       3.723   Cond. No.                         69.3\n",
       "==============================================================================\n",
       "\n",
       "Notes:\n",
       "[1] Standard Errors assume that the covariance matrix of the errors is correctly specified.\n",
       "\"\"\""
      ]
     },
     "execution_count": 17,
     "metadata": {},
     "output_type": "execute_result"
    }
   ],
   "source": [
    "def beta_fit(Rp,Rm):\n",
    "\n",
    "    Rm = smf.add_constant(Rm)\n",
    "    model= smf.OLS(Rp,Rm)\n",
    "    fit=model.fit()\n",
    "    return fit\n",
    "\n",
    "beta_fit(R_p,Rm).summary()"
   ]
  },
  {
   "cell_type": "code",
   "execution_count": 29,
   "metadata": {},
   "outputs": [
    {
     "data": {
      "text/html": [
       "<div>\n",
       "<style scoped>\n",
       "    .dataframe tbody tr th:only-of-type {\n",
       "        vertical-align: middle;\n",
       "    }\n",
       "\n",
       "    .dataframe tbody tr th {\n",
       "        vertical-align: top;\n",
       "    }\n",
       "\n",
       "    .dataframe thead th {\n",
       "        text-align: right;\n",
       "    }\n",
       "</style>\n",
       "<table border=\"1\" class=\"dataframe\">\n",
       "  <thead>\n",
       "    <tr style=\"text-align: right;\">\n",
       "      <th></th>\n",
       "      <th>CPI</th>\n",
       "    </tr>\n",
       "  </thead>\n",
       "  <tbody>\n",
       "    <tr>\n",
       "      <th>0</th>\n",
       "      <td>7.500000</td>\n",
       "    </tr>\n",
       "    <tr>\n",
       "      <th>1</th>\n",
       "      <td>6.414207</td>\n",
       "    </tr>\n",
       "    <tr>\n",
       "      <th>2</th>\n",
       "      <td>6.474479</td>\n",
       "    </tr>\n",
       "    <tr>\n",
       "      <th>3</th>\n",
       "      <td>6.160573</td>\n",
       "    </tr>\n",
       "    <tr>\n",
       "      <th>4</th>\n",
       "      <td>6.021537</td>\n",
       "    </tr>\n",
       "    <tr>\n",
       "      <th>5</th>\n",
       "      <td>5.916943</td>\n",
       "    </tr>\n",
       "    <tr>\n",
       "      <th>6</th>\n",
       "      <td>5.910885</td>\n",
       "    </tr>\n",
       "    <tr>\n",
       "      <th>7</th>\n",
       "      <td>6.322203</td>\n",
       "    </tr>\n",
       "    <tr>\n",
       "      <th>8</th>\n",
       "      <td>6.630604</td>\n",
       "    </tr>\n",
       "    <tr>\n",
       "      <th>9</th>\n",
       "      <td>6.284422</td>\n",
       "    </tr>\n",
       "    <tr>\n",
       "      <th>10</th>\n",
       "      <td>5.957829</td>\n",
       "    </tr>\n",
       "    <tr>\n",
       "      <th>11</th>\n",
       "      <td>5.707835</td>\n",
       "    </tr>\n",
       "    <tr>\n",
       "      <th>12</th>\n",
       "      <td>6.410000</td>\n",
       "    </tr>\n",
       "    <tr>\n",
       "      <th>13</th>\n",
       "      <td>6.040000</td>\n",
       "    </tr>\n",
       "    <tr>\n",
       "      <th>14</th>\n",
       "      <td>4.980000</td>\n",
       "    </tr>\n",
       "  </tbody>\n",
       "</table>\n",
       "</div>"
      ],
      "text/plain": [
       "         CPI\n",
       "0   7.500000\n",
       "1   6.414207\n",
       "2   6.474479\n",
       "3   6.160573\n",
       "4   6.021537\n",
       "5   5.916943\n",
       "6   5.910885\n",
       "7   6.322203\n",
       "8   6.630604\n",
       "9   6.284422\n",
       "10  5.957829\n",
       "11  5.707835\n",
       "12  6.410000\n",
       "13  6.040000\n",
       "14  4.980000"
      ]
     },
     "execution_count": 29,
     "metadata": {},
     "output_type": "execute_result"
    }
   ],
   "source": [
    "dfs = pd.read_excel('CPI_data.xlsx')\n",
    "\n",
    "df=dfs.to_numpy().T[0]\n",
    "df = np.random.choice(df, size=311)\n",
    "df=pd.DataFrame(df).to_numpy()\n",
    "dfs"
   ]
  },
  {
   "cell_type": "code",
   "execution_count": null,
   "metadata": {},
   "outputs": [
    {
     "data": {
      "text/html": [
       "<table class=\"simpletable\">\n",
       "<caption>OLS Regression Results</caption>\n",
       "<tr>\n",
       "  <th>Dep. Variable:</th>            <td>y</td>        <th>  R-squared:         </th> <td>   0.011</td>\n",
       "</tr>\n",
       "<tr>\n",
       "  <th>Model:</th>                   <td>OLS</td>       <th>  Adj. R-squared:    </th> <td>   0.008</td>\n",
       "</tr>\n",
       "<tr>\n",
       "  <th>Method:</th>             <td>Least Squares</td>  <th>  F-statistic:       </th> <td>   3.594</td>\n",
       "</tr>\n",
       "<tr>\n",
       "  <th>Date:</th>             <td>Fri, 28 Apr 2023</td> <th>  Prob (F-statistic):</th>  <td>0.0589</td> \n",
       "</tr>\n",
       "<tr>\n",
       "  <th>Time:</th>                 <td>16:26:13</td>     <th>  Log-Likelihood:    </th> <td>  941.27</td>\n",
       "</tr>\n",
       "<tr>\n",
       "  <th>No. Observations:</th>      <td>   311</td>      <th>  AIC:               </th> <td>  -1879.</td>\n",
       "</tr>\n",
       "<tr>\n",
       "  <th>Df Residuals:</th>          <td>   309</td>      <th>  BIC:               </th> <td>  -1871.</td>\n",
       "</tr>\n",
       "<tr>\n",
       "  <th>Df Model:</th>              <td>     1</td>      <th>                     </th>     <td> </td>   \n",
       "</tr>\n",
       "<tr>\n",
       "  <th>Covariance Type:</th>      <td>nonrobust</td>    <th>                     </th>     <td> </td>   \n",
       "</tr>\n",
       "</table>\n",
       "<table class=\"simpletable\">\n",
       "<tr>\n",
       "    <td></td>       <th>coef</th>     <th>std err</th>      <th>t</th>      <th>P>|t|</th>  <th>[0.025</th>    <th>0.975]</th>  \n",
       "</tr>\n",
       "<tr>\n",
       "  <th>const</th> <td>    0.0145</td> <td>    0.008</td> <td>    1.887</td> <td> 0.060</td> <td>   -0.001</td> <td>    0.030</td>\n",
       "</tr>\n",
       "<tr>\n",
       "  <th>x1</th>    <td>   -0.0023</td> <td>    0.001</td> <td>   -1.896</td> <td> 0.059</td> <td>   -0.005</td> <td> 8.93e-05</td>\n",
       "</tr>\n",
       "</table>\n",
       "<table class=\"simpletable\">\n",
       "<tr>\n",
       "  <th>Omnibus:</th>       <td> 4.899</td> <th>  Durbin-Watson:     </th> <td>   1.988</td>\n",
       "</tr>\n",
       "<tr>\n",
       "  <th>Prob(Omnibus):</th> <td> 0.086</td> <th>  Jarque-Bera (JB):  </th> <td>   5.466</td>\n",
       "</tr>\n",
       "<tr>\n",
       "  <th>Skew:</th>          <td> 0.164</td> <th>  Prob(JB):          </th> <td>  0.0650</td>\n",
       "</tr>\n",
       "<tr>\n",
       "  <th>Kurtosis:</th>      <td> 3.560</td> <th>  Cond. No.          </th> <td>    73.5</td>\n",
       "</tr>\n",
       "</table><br/><br/>Notes:<br/>[1] Standard Errors assume that the covariance matrix of the errors is correctly specified."
      ],
      "text/plain": [
       "<class 'statsmodels.iolib.summary.Summary'>\n",
       "\"\"\"\n",
       "                            OLS Regression Results                            \n",
       "==============================================================================\n",
       "Dep. Variable:                      y   R-squared:                       0.011\n",
       "Model:                            OLS   Adj. R-squared:                  0.008\n",
       "Method:                 Least Squares   F-statistic:                     3.594\n",
       "Date:                Fri, 28 Apr 2023   Prob (F-statistic):             0.0589\n",
       "Time:                        16:26:13   Log-Likelihood:                 941.27\n",
       "No. Observations:                 311   AIC:                            -1879.\n",
       "Df Residuals:                     309   BIC:                            -1871.\n",
       "Df Model:                           1                                         \n",
       "Covariance Type:            nonrobust                                         \n",
       "==============================================================================\n",
       "                 coef    std err          t      P>|t|      [0.025      0.975]\n",
       "------------------------------------------------------------------------------\n",
       "const          0.0145      0.008      1.887      0.060      -0.001       0.030\n",
       "x1            -0.0023      0.001     -1.896      0.059      -0.005    8.93e-05\n",
       "==============================================================================\n",
       "Omnibus:                        4.899   Durbin-Watson:                   1.988\n",
       "Prob(Omnibus):                  0.086   Jarque-Bera (JB):                5.466\n",
       "Skew:                           0.164   Prob(JB):                       0.0650\n",
       "Kurtosis:                       3.560   Cond. No.                         73.5\n",
       "==============================================================================\n",
       "\n",
       "Notes:\n",
       "[1] Standard Errors assume that the covariance matrix of the errors is correctly specified.\n",
       "\"\"\""
      ]
     },
     "execution_count": 26,
     "metadata": {},
     "output_type": "execute_result"
    }
   ],
   "source": [
    "beta_fit(R_p,df).summary()"
   ]
  },
  {
   "cell_type": "code",
   "execution_count": 34,
   "metadata": {},
   "outputs": [
    {
     "data": {
      "text/html": [
       "<div>\n",
       "<style scoped>\n",
       "    .dataframe tbody tr th:only-of-type {\n",
       "        vertical-align: middle;\n",
       "    }\n",
       "\n",
       "    .dataframe tbody tr th {\n",
       "        vertical-align: top;\n",
       "    }\n",
       "\n",
       "    .dataframe thead th {\n",
       "        text-align: right;\n",
       "    }\n",
       "</style>\n",
       "<table border=\"1\" class=\"dataframe\">\n",
       "  <thead>\n",
       "    <tr style=\"text-align: right;\">\n",
       "      <th></th>\n",
       "      <th>NMIH</th>\n",
       "      <th>MKTX</th>\n",
       "      <th>CRVL</th>\n",
       "      <th>FANH</th>\n",
       "      <th>TW</th>\n",
       "      <th>SNEX</th>\n",
       "      <th>HGBL</th>\n",
       "    </tr>\n",
       "    <tr>\n",
       "      <th>Date</th>\n",
       "      <th></th>\n",
       "      <th></th>\n",
       "      <th></th>\n",
       "      <th></th>\n",
       "      <th></th>\n",
       "      <th></th>\n",
       "      <th></th>\n",
       "    </tr>\n",
       "  </thead>\n",
       "  <tbody>\n",
       "    <tr>\n",
       "      <th>2022-04-30</th>\n",
       "      <td>-0.102101</td>\n",
       "      <td>-0.223397</td>\n",
       "      <td>-0.108069</td>\n",
       "      <td>-0.154477</td>\n",
       "      <td>-0.197859</td>\n",
       "      <td>-0.102371</td>\n",
       "      <td>-0.189394</td>\n",
       "    </tr>\n",
       "    <tr>\n",
       "      <th>2022-05-31</th>\n",
       "      <td>0.012514</td>\n",
       "      <td>0.071417</td>\n",
       "      <td>-0.038174</td>\n",
       "      <td>-0.156250</td>\n",
       "      <td>-0.049184</td>\n",
       "      <td>0.107554</td>\n",
       "      <td>0.112150</td>\n",
       "    </tr>\n",
       "    <tr>\n",
       "      <th>2022-06-30</th>\n",
       "      <td>-0.105320</td>\n",
       "      <td>-0.091132</td>\n",
       "      <td>-0.012671</td>\n",
       "      <td>0.007797</td>\n",
       "      <td>0.009466</td>\n",
       "      <td>0.039963</td>\n",
       "      <td>0.260504</td>\n",
       "    </tr>\n",
       "    <tr>\n",
       "      <th>2022-07-31</th>\n",
       "      <td>0.137538</td>\n",
       "      <td>0.057693</td>\n",
       "      <td>0.119644</td>\n",
       "      <td>0.019342</td>\n",
       "      <td>0.033260</td>\n",
       "      <td>0.116050</td>\n",
       "      <td>0.093333</td>\n",
       "    </tr>\n",
       "    <tr>\n",
       "      <th>2022-08-31</th>\n",
       "      <td>0.083949</td>\n",
       "      <td>-0.079557</td>\n",
       "      <td>-0.057675</td>\n",
       "      <td>0.058824</td>\n",
       "      <td>-0.012036</td>\n",
       "      <td>0.065534</td>\n",
       "      <td>0.006098</td>\n",
       "    </tr>\n",
       "    <tr>\n",
       "      <th>2022-09-30</th>\n",
       "      <td>-0.007793</td>\n",
       "      <td>-0.104992</td>\n",
       "      <td>-0.109087</td>\n",
       "      <td>-0.100358</td>\n",
       "      <td>-0.189251</td>\n",
       "      <td>-0.106635</td>\n",
       "      <td>-0.024242</td>\n",
       "    </tr>\n",
       "    <tr>\n",
       "      <th>2022-10-31</th>\n",
       "      <td>0.076583</td>\n",
       "      <td>0.096858</td>\n",
       "      <td>0.186231</td>\n",
       "      <td>-0.037849</td>\n",
       "      <td>-0.023750</td>\n",
       "      <td>0.125151</td>\n",
       "      <td>0.118012</td>\n",
       "    </tr>\n",
       "    <tr>\n",
       "      <th>2022-11-30</th>\n",
       "      <td>-0.018240</td>\n",
       "      <td>0.101011</td>\n",
       "      <td>-0.068449</td>\n",
       "      <td>-0.043478</td>\n",
       "      <td>0.117359</td>\n",
       "      <td>0.087334</td>\n",
       "      <td>0.333333</td>\n",
       "    </tr>\n",
       "    <tr>\n",
       "      <th>2022-12-31</th>\n",
       "      <td>-0.029262</td>\n",
       "      <td>0.040945</td>\n",
       "      <td>-0.049944</td>\n",
       "      <td>0.601732</td>\n",
       "      <td>0.056459</td>\n",
       "      <td>-0.060806</td>\n",
       "      <td>-0.020833</td>\n",
       "    </tr>\n",
       "    <tr>\n",
       "      <th>2023-01-31</th>\n",
       "      <td>0.111483</td>\n",
       "      <td>0.304636</td>\n",
       "      <td>0.225900</td>\n",
       "      <td>0.048649</td>\n",
       "      <td>0.148006</td>\n",
       "      <td>-0.077859</td>\n",
       "      <td>0.123404</td>\n",
       "    </tr>\n",
       "    <tr>\n",
       "      <th>2023-02-28</th>\n",
       "      <td>0.004735</td>\n",
       "      <td>-0.059633</td>\n",
       "      <td>0.011899</td>\n",
       "      <td>-0.020619</td>\n",
       "      <td>-0.047759</td>\n",
       "      <td>0.147360</td>\n",
       "      <td>-0.053030</td>\n",
       "    </tr>\n",
       "    <tr>\n",
       "      <th>2023-03-31</th>\n",
       "      <td>-0.043273</td>\n",
       "      <td>0.145966</td>\n",
       "      <td>0.055469</td>\n",
       "      <td>0.142105</td>\n",
       "      <td>0.114685</td>\n",
       "      <td>0.026778</td>\n",
       "      <td>0.148000</td>\n",
       "    </tr>\n",
       "    <tr>\n",
       "      <th>2023-04-30</th>\n",
       "      <td>0.047918</td>\n",
       "      <td>-0.186358</td>\n",
       "      <td>0.061751</td>\n",
       "      <td>-0.049539</td>\n",
       "      <td>-0.108960</td>\n",
       "      <td>-0.052738</td>\n",
       "      <td>0.006969</td>\n",
       "    </tr>\n",
       "    <tr>\n",
       "      <th>2023-05-31</th>\n",
       "      <td>0.074786</td>\n",
       "      <td>-0.142298</td>\n",
       "      <td>-0.032619</td>\n",
       "      <td>-0.030303</td>\n",
       "      <td>-0.047895</td>\n",
       "      <td>-0.181299</td>\n",
       "      <td>0.207612</td>\n",
       "    </tr>\n",
       "    <tr>\n",
       "      <th>2023-06-30</th>\n",
       "      <td>0.005567</td>\n",
       "      <td>0.018061</td>\n",
       "      <td>-0.001382</td>\n",
       "      <td>0.003750</td>\n",
       "      <td>0.015683</td>\n",
       "      <td>-0.006975</td>\n",
       "      <td>0.017192</td>\n",
       "    </tr>\n",
       "  </tbody>\n",
       "</table>\n",
       "</div>"
      ],
      "text/plain": [
       "                NMIH      MKTX      CRVL      FANH        TW      SNEX  \\\n",
       "Date                                                                     \n",
       "2022-04-30 -0.102101 -0.223397 -0.108069 -0.154477 -0.197859 -0.102371   \n",
       "2022-05-31  0.012514  0.071417 -0.038174 -0.156250 -0.049184  0.107554   \n",
       "2022-06-30 -0.105320 -0.091132 -0.012671  0.007797  0.009466  0.039963   \n",
       "2022-07-31  0.137538  0.057693  0.119644  0.019342  0.033260  0.116050   \n",
       "2022-08-31  0.083949 -0.079557 -0.057675  0.058824 -0.012036  0.065534   \n",
       "2022-09-30 -0.007793 -0.104992 -0.109087 -0.100358 -0.189251 -0.106635   \n",
       "2022-10-31  0.076583  0.096858  0.186231 -0.037849 -0.023750  0.125151   \n",
       "2022-11-30 -0.018240  0.101011 -0.068449 -0.043478  0.117359  0.087334   \n",
       "2022-12-31 -0.029262  0.040945 -0.049944  0.601732  0.056459 -0.060806   \n",
       "2023-01-31  0.111483  0.304636  0.225900  0.048649  0.148006 -0.077859   \n",
       "2023-02-28  0.004735 -0.059633  0.011899 -0.020619 -0.047759  0.147360   \n",
       "2023-03-31 -0.043273  0.145966  0.055469  0.142105  0.114685  0.026778   \n",
       "2023-04-30  0.047918 -0.186358  0.061751 -0.049539 -0.108960 -0.052738   \n",
       "2023-05-31  0.074786 -0.142298 -0.032619 -0.030303 -0.047895 -0.181299   \n",
       "2023-06-30  0.005567  0.018061 -0.001382  0.003750  0.015683 -0.006975   \n",
       "\n",
       "                HGBL  \n",
       "Date                  \n",
       "2022-04-30 -0.189394  \n",
       "2022-05-31  0.112150  \n",
       "2022-06-30  0.260504  \n",
       "2022-07-31  0.093333  \n",
       "2022-08-31  0.006098  \n",
       "2022-09-30 -0.024242  \n",
       "2022-10-31  0.118012  \n",
       "2022-11-30  0.333333  \n",
       "2022-12-31 -0.020833  \n",
       "2023-01-31  0.123404  \n",
       "2023-02-28 -0.053030  \n",
       "2023-03-31  0.148000  \n",
       "2023-04-30  0.006969  \n",
       "2023-05-31  0.207612  \n",
       "2023-06-30  0.017192  "
      ]
     },
     "execution_count": 34,
     "metadata": {},
     "output_type": "execute_result"
    }
   ],
   "source": [
    "def monthly_return(data):\n",
    " data=data+1\n",
    " return data.groupby(pd.Grouper(freq='M')).prod()-1\n",
    "\n",
    "monthly_return()"
   ]
  },
  {
   "cell_type": "code",
   "execution_count": 37,
   "metadata": {},
   "outputs": [
    {
     "data": {
      "text/plain": [
       "Date\n",
       "2022-04-30   -0.156203\n",
       "2022-05-31   -0.021162\n",
       "2022-06-30    0.006578\n",
       "2022-07-31    0.076358\n",
       "2022-08-31   -0.014109\n",
       "2022-09-30   -0.126560\n",
       "2022-10-31    0.072963\n",
       "2022-11-30    0.051367\n",
       "2022-12-31    0.038801\n",
       "2023-01-31    0.157990\n",
       "2023-02-28   -0.013015\n",
       "2023-03-31    0.086564\n",
       "2023-04-30   -0.036172\n",
       "2023-05-31   -0.032623\n",
       "2023-06-30    0.007799\n",
       "Freq: M, dtype: float64"
      ]
     },
     "execution_count": 37,
     "metadata": {},
     "output_type": "execute_result"
    }
   ],
   "source": [
    "R_pm=monthly_return(raw_data).dot(np.array([0.0625, 0.0625, 0.3125, 0.0625, 0.375 , 0.0625, 0.0625]))\n",
    "Rm=monthly_return(rm)\n",
    "R_pm\n"
   ]
  },
  {
   "cell_type": "code",
   "execution_count": 38,
   "metadata": {},
   "outputs": [],
   "source": [
    "\n",
    "def create_csv(data):\n",
    "    return data.to_csv(\"dt02.csv\", sep='\\t')\n",
    "create_csv(Rm)\n",
    "\n",
    "#beta_fit(R_pm,Rm).summary()\n"
   ]
  },
  {
   "cell_type": "code",
   "execution_count": null,
   "metadata": {},
   "outputs": [
    {
     "data": {
      "text/plain": [
       "Date\n",
       "2022-01-04   -0.001506\n",
       "2022-01-05   -0.003502\n",
       "2022-01-06   -0.006333\n",
       "2022-01-07    0.005398\n",
       "2022-01-10    0.000286\n",
       "                ...   \n",
       "2023-03-24   -0.002563\n",
       "2023-03-27   -0.013594\n",
       "2023-03-28    0.025248\n",
       "2023-03-29    0.003399\n",
       "2023-03-30    0.011817\n",
       "Length: 311, dtype: float64"
      ]
     },
     "execution_count": 99,
     "metadata": {},
     "output_type": "execute_result"
    }
   ],
   "source": [
    "#Rm[[\"Rp\"]]=R_p.to_numpy()\n",
    "#Rm[[\"CPI\"]]=df.to_numpy()\n",
    "R_p"
   ]
  },
  {
   "attachments": {},
   "cell_type": "markdown",
   "metadata": {},
   "source": [
    "Test de Jacque-bera - test milk shapiro\n",
    "determination de la distribution\n",
    "scindé les portfeuilles"
   ]
  }
 ],
 "metadata": {
  "kernelspec": {
   "display_name": "Python 3",
   "language": "python",
   "name": "python3"
  },
  "language_info": {
   "codemirror_mode": {
    "name": "ipython",
    "version": 3
   },
   "file_extension": ".py",
   "mimetype": "text/x-python",
   "name": "python",
   "nbconvert_exporter": "python",
   "pygments_lexer": "ipython3",
   "version": "3.10.6"
  },
  "orig_nbformat": 4,
  "vscode": {
   "interpreter": {
    "hash": "63963b3f4c440940f0b94a3100916033a226cb4f45979123153792d60aa56d6a"
   }
  }
 },
 "nbformat": 4,
 "nbformat_minor": 2
}
