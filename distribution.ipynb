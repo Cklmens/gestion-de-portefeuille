{
 "cells": [
  {
   "cell_type": "code",
   "execution_count": 1,
   "metadata": {},
   "outputs": [],
   "source": [
    "import yfinance as yf\n",
    "import matplotlib.pyplot as plt\n",
    "import pandas as pd\n",
    "import numpy as np\n",
    "import statsmodels.api as smf\n",
    "import scipy.stats \n",
    "from scipy import stats"
   ]
  },
  {
   "cell_type": "code",
   "execution_count": 2,
   "metadata": {},
   "outputs": [],
   "source": [
    "start_date= '2022-01-01'\n",
    "end_date=\"2023-04-01\"\n",
    "tickers=[\"GOOGL\", \"MSFT\", \"GC=F\", \"TSLA\",'AAPL', \"BABA\"]\n",
    "\n",
    "ticker=[\"TSLA\"]"
   ]
  },
  {
   "cell_type": "code",
   "execution_count": 3,
   "metadata": {},
   "outputs": [],
   "source": [
    "def data_returns(tickers,date1,date2):\n",
    "    returns=pd.DataFrame()\n",
    "    for i in range(len(tickers)):\n",
    "        data=yf.download(tickers[i],date1,date2)\n",
    "        returns[tickers[i]]=((data[\"Adj Close\"].pct_change()).dropna())\n",
    "       \n",
    "    return returns"
   ]
  },
  {
   "cell_type": "code",
   "execution_count": 4,
   "metadata": {},
   "outputs": [
    {
     "name": "stdout",
     "output_type": "stream",
     "text": [
      "[*********************100%***********************]  1 of 1 completed\n"
     ]
    }
   ],
   "source": [
    "dat=data_returns([\"BABA\"],start_date,end_date)"
   ]
  },
  {
   "cell_type": "code",
   "execution_count": 5,
   "metadata": {},
   "outputs": [],
   "source": [
    "#data=np.random.normal(0,1,1000)\n"
   ]
  },
  {
   "cell_type": "code",
   "execution_count": 6,
   "metadata": {},
   "outputs": [],
   "source": [
    "def distribution_fit(data):\n",
    " from sklearn.metrics import r2_score\n",
    " y, x = np.histogram(data, bins=100, density=True)\n",
    " x = (x + np.roll(x, -1))[:-1] / 2.0\n",
    " list_loi = ['norm', 'beta','gamma', 'pareto', 't', 'lognorm', 'invgamma', 'invgauss',  'loggamma', 'alpha', 'chi', 'chi2','rayleigh',\"logistic\",\"genextreme\",\"weibull_max\"]\n",
    " sse=[]\n",
    " rsq=[]\n",
    " best_distribution=[]\n",
    "\n",
    " for  i  in  range(len(list_loi)) :\n",
    "    #modélisation\n",
    "    loi=getattr(scipy.stats, list_loi[i])\n",
    "    loi_fit=loi.fit(data)\n",
    "\n",
    "    #parametres\n",
    "    loc= loi_fit[-2]\n",
    "    scale=loi_fit[-1]\n",
    "    arg=loi_fit[:-2]\n",
    "\n",
    "    #pdf\n",
    "    pdf=loi.pdf(x, loc=loc,scale=scale, *arg)\n",
    "\n",
    "    #Rmse\n",
    "    sse=np.sum((y-pdf)**2)\n",
    "    #R_squared\n",
    "    rsq=round(r2_score(y,pdf),2)\n",
    "    best_distribution.append([loi,loi_fit,sse,rsq,list_loi[i]])\n",
    "\n",
    " return sorted(best_distribution, key=lambda x:x[2])\n",
    " \n"
   ]
  },
  {
   "cell_type": "code",
   "execution_count": 7,
   "metadata": {},
   "outputs": [],
   "source": [
    "def make_pdf(dist, params, size=10000):\n",
    "    \"\"\"Generate distributions's Probability Distribution Function \"\"\"\n",
    "\n",
    "    # Separate parts of parameters\n",
    "    arg = params[:-2]\n",
    "    loc = params[-2]\n",
    "    scale = params[-1]\n",
    "\n",
    "    # Get sane start and end points of distribution\n",
    "    start = dist.ppf(0.01, *arg, loc=loc, scale=scale) if arg else dist.ppf(0.01, loc=loc, scale=scale)\n",
    "    end = dist.ppf(0.99, *arg, loc=loc, scale=scale) if arg else dist.ppf(0.99, loc=loc, scale=scale)\n",
    "\n",
    "    # Build PDF and turn into pandas Series\n",
    "    x = np.linspace(start, end, size)\n",
    "    y = dist.pdf(x, loc=loc, scale=scale, *arg)\n",
    "    pdf = pd.Series(y, x)\n",
    "\n",
    "    return pdf"
   ]
  },
  {
   "cell_type": "code",
   "execution_count": 8,
   "metadata": {},
   "outputs": [],
   "source": [
    "def parm(modele):\n",
    "    return [modele[-1], modele[1]]\n"
   ]
  },
  {
   "cell_type": "code",
   "execution_count": 9,
   "metadata": {},
   "outputs": [],
   "source": [
    "def ks_test(modele,title):\n",
    "    kstest=pd.DataFrame()\n",
    "\n",
    "    for i in range(len(modele)):\n",
    "       kstest[modele[i][-1]]=stats.kstest(title, modele[i][-1] ,args=(modele[i][1]))\n",
    "    return kstest\n",
    "\n",
    "\n",
    "\n"
   ]
  },
  {
   "cell_type": "code",
   "execution_count": 10,
   "metadata": {},
   "outputs": [
    {
     "name": "stderr",
     "output_type": "stream",
     "text": [
      "c:\\Users\\hp\\AppData\\Local\\Programs\\Python\\Python310\\lib\\site-packages\\scipy\\stats\\_continuous_distns.py:707: RuntimeWarning: invalid value encountered in sqrt\n",
      "  sk = 2*(b-a)*np.sqrt(a + b + 1) / (a + b + 2) / np.sqrt(a*b)\n",
      "c:\\Users\\hp\\AppData\\Local\\Programs\\Python\\Python310\\lib\\site-packages\\scipy\\optimize\\_minpack_py.py:175: RuntimeWarning: The iteration is not making good progress, as measured by the \n",
      "  improvement from the last ten iterations.\n",
      "  warnings.warn(msg, RuntimeWarning)\n",
      "c:\\Users\\hp\\AppData\\Local\\Programs\\Python\\Python310\\lib\\site-packages\\scipy\\stats\\_distn_infrastructure.py:2781: RuntimeWarning: invalid value encountered in multiply\n",
      "  Lhat = muhat - Shat*mu\n",
      "c:\\Users\\hp\\AppData\\Local\\Programs\\Python\\Python310\\lib\\site-packages\\scipy\\stats\\_distn_infrastructure.py:2781: RuntimeWarning: invalid value encountered in multiply\n",
      "  Lhat = muhat - Shat*mu\n"
     ]
    },
    {
     "name": "stdout",
     "output_type": "stream",
     "text": [
      "[*********************100%***********************]  1 of 1 completed\n",
      "[*********************100%***********************]  1 of 1 completed\n",
      "[*********************100%***********************]  1 of 1 completed\n",
      "[*********************100%***********************]  1 of 1 completed\n",
      "[*********************100%***********************]  1 of 1 completed\n",
      "[*********************100%***********************]  1 of 1 completed\n"
     ]
    },
    {
     "data": {
      "text/plain": [
       "KstestResult(statistic=0.0631698268410228, pvalue=0.9552568979876569)"
      ]
     },
     "execution_count": 10,
     "metadata": {},
     "output_type": "execute_result"
    }
   ],
   "source": [
    "distribution_fit(dat)[0]\n",
    "\n",
    "tickers=[\"GOOGL\", \"MSFT\", \"GC=F\", \"TSLA\",'AAPL', \"BABA\"]\n",
    "tech=data_returns(tickers,\"2023-01-01\",\"2023-04-01\")\n",
    "\n",
    "stats.kstest(tech[\"GC=F\"],'t',args=( (3.0295110611565326, 0.0009095407238531756, 0.006570758729865104)))\n"
   ]
  },
  {
   "cell_type": "code",
   "execution_count": 11,
   "metadata": {},
   "outputs": [
    {
     "name": "stderr",
     "output_type": "stream",
     "text": [
      "c:\\Users\\hp\\AppData\\Local\\Programs\\Python\\Python310\\lib\\site-packages\\scipy\\stats\\_continuous_distns.py:707: RuntimeWarning: invalid value encountered in sqrt\n",
      "  sk = 2*(b-a)*np.sqrt(a + b + 1) / (a + b + 2) / np.sqrt(a*b)\n",
      "c:\\Users\\hp\\AppData\\Local\\Programs\\Python\\Python310\\lib\\site-packages\\scipy\\optimize\\_minpack_py.py:175: RuntimeWarning: The iteration is not making good progress, as measured by the \n",
      "  improvement from the last ten iterations.\n",
      "  warnings.warn(msg, RuntimeWarning)\n",
      "c:\\Users\\hp\\AppData\\Local\\Programs\\Python\\Python310\\lib\\site-packages\\scipy\\stats\\_distn_infrastructure.py:2781: RuntimeWarning: invalid value encountered in multiply\n",
      "  Lhat = muhat - Shat*mu\n",
      "c:\\Users\\hp\\AppData\\Local\\Programs\\Python\\Python310\\lib\\site-packages\\scipy\\stats\\_distn_infrastructure.py:2781: RuntimeWarning: invalid value encountered in multiply\n",
      "  Lhat = muhat - Shat*mu\n"
     ]
    },
    {
     "data": {
      "text/html": [
       "<div>\n",
       "<style scoped>\n",
       "    .dataframe tbody tr th:only-of-type {\n",
       "        vertical-align: middle;\n",
       "    }\n",
       "\n",
       "    .dataframe tbody tr th {\n",
       "        vertical-align: top;\n",
       "    }\n",
       "\n",
       "    .dataframe thead th {\n",
       "        text-align: right;\n",
       "    }\n",
       "</style>\n",
       "<table border=\"1\" class=\"dataframe\">\n",
       "  <thead>\n",
       "    <tr style=\"text-align: right;\">\n",
       "      <th></th>\n",
       "      <th>t</th>\n",
       "      <th>logistic</th>\n",
       "      <th>lognorm</th>\n",
       "      <th>gamma</th>\n",
       "      <th>beta</th>\n",
       "      <th>norm</th>\n",
       "      <th>alpha</th>\n",
       "      <th>loggamma</th>\n",
       "      <th>invgamma</th>\n",
       "      <th>invgauss</th>\n",
       "      <th>genextreme</th>\n",
       "      <th>rayleigh</th>\n",
       "      <th>pareto</th>\n",
       "      <th>chi</th>\n",
       "      <th>chi2</th>\n",
       "      <th>weibull_max</th>\n",
       "    </tr>\n",
       "  </thead>\n",
       "  <tbody>\n",
       "    <tr>\n",
       "      <th>0</th>\n",
       "      <td>0.063170</td>\n",
       "      <td>0.081347</td>\n",
       "      <td>0.110523</td>\n",
       "      <td>0.111585</td>\n",
       "      <td>0.110469</td>\n",
       "      <td>0.111335</td>\n",
       "      <td>0.120279</td>\n",
       "      <td>0.111773</td>\n",
       "      <td>0.120024</td>\n",
       "      <td>0.133328</td>\n",
       "      <td>0.120995</td>\n",
       "      <td>0.282876</td>\n",
       "      <td>4.099947e-01</td>\n",
       "      <td>5.032771e-01</td>\n",
       "      <td>4.943229e-01</td>\n",
       "      <td>4.920619e-01</td>\n",
       "    </tr>\n",
       "    <tr>\n",
       "      <th>1</th>\n",
       "      <td>0.955257</td>\n",
       "      <td>0.783945</td>\n",
       "      <td>0.415450</td>\n",
       "      <td>0.403664</td>\n",
       "      <td>0.416060</td>\n",
       "      <td>0.406423</td>\n",
       "      <td>0.315004</td>\n",
       "      <td>0.401607</td>\n",
       "      <td>0.317395</td>\n",
       "      <td>0.208780</td>\n",
       "      <td>0.308341</td>\n",
       "      <td>0.000082</td>\n",
       "      <td>8.693129e-10</td>\n",
       "      <td>7.954771e-15</td>\n",
       "      <td>2.759167e-14</td>\n",
       "      <td>3.759885e-14</td>\n",
       "    </tr>\n",
       "  </tbody>\n",
       "</table>\n",
       "</div>"
      ],
      "text/plain": [
       "          t  logistic   lognorm     gamma      beta      norm     alpha  \\\n",
       "0  0.063170  0.081347  0.110523  0.111585  0.110469  0.111335  0.120279   \n",
       "1  0.955257  0.783945  0.415450  0.403664  0.416060  0.406423  0.315004   \n",
       "\n",
       "   loggamma  invgamma  invgauss  genextreme  rayleigh        pareto  \\\n",
       "0  0.111773  0.120024  0.133328    0.120995  0.282876  4.099947e-01   \n",
       "1  0.401607  0.317395  0.208780    0.308341  0.000082  8.693129e-10   \n",
       "\n",
       "            chi          chi2   weibull_max  \n",
       "0  5.032771e-01  4.943229e-01  4.920619e-01  \n",
       "1  7.954771e-15  2.759167e-14  3.759885e-14  "
      ]
     },
     "execution_count": 11,
     "metadata": {},
     "output_type": "execute_result"
    }
   ],
   "source": [
    "ks_test(distribution_fit(tech[\"GC=F\"]),tech[\"GC=F\"])"
   ]
  },
  {
   "cell_type": "code",
   "execution_count": 12,
   "metadata": {},
   "outputs": [
    {
     "data": {
      "text/plain": [
       "KstestResult(statistic=0.0631698268410228, pvalue=0.9552568979876569)"
      ]
     },
     "execution_count": 12,
     "metadata": {},
     "output_type": "execute_result"
    }
   ],
   "source": [
    "stats.kstest(tech[\"GC=F\"],'t',args=( (3.0295110611565326, 0.0009095407238531756, 0.006570758729865104)))"
   ]
  },
  {
   "cell_type": "code",
   "execution_count": 13,
   "metadata": {},
   "outputs": [
    {
     "name": "stderr",
     "output_type": "stream",
     "text": [
      "c:\\Users\\hp\\AppData\\Local\\Programs\\Python\\Python310\\lib\\site-packages\\scipy\\stats\\_continuous_distns.py:707: RuntimeWarning: invalid value encountered in sqrt\n",
      "  sk = 2*(b-a)*np.sqrt(a + b + 1) / (a + b + 2) / np.sqrt(a*b)\n",
      "c:\\Users\\hp\\AppData\\Local\\Programs\\Python\\Python310\\lib\\site-packages\\scipy\\optimize\\_minpack_py.py:175: RuntimeWarning: The iteration is not making good progress, as measured by the \n",
      "  improvement from the last ten iterations.\n",
      "  warnings.warn(msg, RuntimeWarning)\n",
      "c:\\Users\\hp\\AppData\\Local\\Programs\\Python\\Python310\\lib\\site-packages\\scipy\\stats\\_distn_infrastructure.py:2781: RuntimeWarning: invalid value encountered in multiply\n",
      "  Lhat = muhat - Shat*mu\n",
      "c:\\Users\\hp\\AppData\\Local\\Programs\\Python\\Python310\\lib\\site-packages\\scipy\\stats\\_distn_infrastructure.py:2781: RuntimeWarning: invalid value encountered in multiply\n",
      "  Lhat = muhat - Shat*mu\n"
     ]
    },
    {
     "data": {
      "text/plain": [
       "[<scipy.stats._continuous_distns.t_gen at 0x14f1862fd60>,\n",
       " (3.0295110611565326, 0.0009095407238531756, 0.006570758729865104),\n",
       " 62502.61164090412,\n",
       " 0.33,\n",
       " 't']"
      ]
     },
     "execution_count": 13,
     "metadata": {},
     "output_type": "execute_result"
    }
   ],
   "source": [
    "\n",
    "distribution_fit(tech[\"GC=F\"])[0]"
   ]
  },
  {
   "cell_type": "code",
   "execution_count": 14,
   "metadata": {},
   "outputs": [
    {
     "name": "stderr",
     "output_type": "stream",
     "text": [
      "c:\\Users\\hp\\AppData\\Local\\Programs\\Python\\Python310\\lib\\site-packages\\scipy\\stats\\_continuous_distns.py:707: RuntimeWarning: invalid value encountered in sqrt\n",
      "  sk = 2*(b-a)*np.sqrt(a + b + 1) / (a + b + 2) / np.sqrt(a*b)\n",
      "c:\\Users\\hp\\AppData\\Local\\Programs\\Python\\Python310\\lib\\site-packages\\scipy\\optimize\\_minpack_py.py:175: RuntimeWarning: The iteration is not making good progress, as measured by the \n",
      "  improvement from the last ten iterations.\n",
      "  warnings.warn(msg, RuntimeWarning)\n",
      "c:\\Users\\hp\\AppData\\Local\\Programs\\Python\\Python310\\lib\\site-packages\\scipy\\stats\\_distn_infrastructure.py:2781: RuntimeWarning: invalid value encountered in multiply\n",
      "  Lhat = muhat - Shat*mu\n",
      "c:\\Users\\hp\\AppData\\Local\\Programs\\Python\\Python310\\lib\\site-packages\\scipy\\stats\\_distn_infrastructure.py:2781: RuntimeWarning: invalid value encountered in multiply\n",
      "  Lhat = muhat - Shat*mu\n",
      "c:\\Users\\hp\\AppData\\Local\\Programs\\Python\\Python310\\lib\\site-packages\\scipy\\stats\\_continuous_distns.py:707: RuntimeWarning: invalid value encountered in sqrt\n",
      "  sk = 2*(b-a)*np.sqrt(a + b + 1) / (a + b + 2) / np.sqrt(a*b)\n",
      "c:\\Users\\hp\\AppData\\Local\\Programs\\Python\\Python310\\lib\\site-packages\\scipy\\optimize\\_minpack_py.py:175: RuntimeWarning: The iteration is not making good progress, as measured by the \n",
      "  improvement from the last ten iterations.\n",
      "  warnings.warn(msg, RuntimeWarning)\n",
      "c:\\Users\\hp\\AppData\\Local\\Programs\\Python\\Python310\\lib\\site-packages\\scipy\\stats\\_distn_infrastructure.py:2781: RuntimeWarning: invalid value encountered in multiply\n",
      "  Lhat = muhat - Shat*mu\n",
      "c:\\Users\\hp\\AppData\\Local\\Programs\\Python\\Python310\\lib\\site-packages\\scipy\\stats\\_distn_infrastructure.py:2781: RuntimeWarning: invalid value encountered in multiply\n",
      "  Lhat = muhat - Shat*mu\n",
      "c:\\Users\\hp\\AppData\\Local\\Programs\\Python\\Python310\\lib\\site-packages\\scipy\\stats\\_continuous_distns.py:707: RuntimeWarning: invalid value encountered in sqrt\n",
      "  sk = 2*(b-a)*np.sqrt(a + b + 1) / (a + b + 2) / np.sqrt(a*b)\n",
      "c:\\Users\\hp\\AppData\\Local\\Programs\\Python\\Python310\\lib\\site-packages\\scipy\\optimize\\_minpack_py.py:175: RuntimeWarning: The iteration is not making good progress, as measured by the \n",
      "  improvement from the last ten iterations.\n",
      "  warnings.warn(msg, RuntimeWarning)\n",
      "c:\\Users\\hp\\AppData\\Local\\Programs\\Python\\Python310\\lib\\site-packages\\scipy\\stats\\_distn_infrastructure.py:2781: RuntimeWarning: invalid value encountered in multiply\n",
      "  Lhat = muhat - Shat*mu\n",
      "c:\\Users\\hp\\AppData\\Local\\Programs\\Python\\Python310\\lib\\site-packages\\scipy\\stats\\_distn_infrastructure.py:2781: RuntimeWarning: invalid value encountered in multiply\n",
      "  Lhat = muhat - Shat*mu\n",
      "c:\\Users\\hp\\AppData\\Local\\Programs\\Python\\Python310\\lib\\site-packages\\scipy\\stats\\_continuous_distns.py:707: RuntimeWarning: invalid value encountered in sqrt\n",
      "  sk = 2*(b-a)*np.sqrt(a + b + 1) / (a + b + 2) / np.sqrt(a*b)\n",
      "c:\\Users\\hp\\AppData\\Local\\Programs\\Python\\Python310\\lib\\site-packages\\scipy\\optimize\\_minpack_py.py:175: RuntimeWarning: The iteration is not making good progress, as measured by the \n",
      "  improvement from the last ten iterations.\n",
      "  warnings.warn(msg, RuntimeWarning)\n",
      "c:\\Users\\hp\\AppData\\Local\\Programs\\Python\\Python310\\lib\\site-packages\\scipy\\stats\\_distn_infrastructure.py:2781: RuntimeWarning: invalid value encountered in multiply\n",
      "  Lhat = muhat - Shat*mu\n",
      "c:\\Users\\hp\\AppData\\Local\\Programs\\Python\\Python310\\lib\\site-packages\\scipy\\stats\\_distn_infrastructure.py:2781: RuntimeWarning: invalid value encountered in multiply\n",
      "  Lhat = muhat - Shat*mu\n",
      "c:\\Users\\hp\\AppData\\Local\\Programs\\Python\\Python310\\lib\\site-packages\\scipy\\stats\\_continuous_distns.py:707: RuntimeWarning: invalid value encountered in sqrt\n",
      "  sk = 2*(b-a)*np.sqrt(a + b + 1) / (a + b + 2) / np.sqrt(a*b)\n",
      "c:\\Users\\hp\\AppData\\Local\\Programs\\Python\\Python310\\lib\\site-packages\\scipy\\optimize\\_minpack_py.py:175: RuntimeWarning: The iteration is not making good progress, as measured by the \n",
      "  improvement from the last ten iterations.\n",
      "  warnings.warn(msg, RuntimeWarning)\n",
      "c:\\Users\\hp\\AppData\\Local\\Programs\\Python\\Python310\\lib\\site-packages\\scipy\\stats\\_distn_infrastructure.py:2781: RuntimeWarning: invalid value encountered in multiply\n",
      "  Lhat = muhat - Shat*mu\n",
      "c:\\Users\\hp\\AppData\\Local\\Programs\\Python\\Python310\\lib\\site-packages\\scipy\\stats\\_distn_infrastructure.py:2781: RuntimeWarning: invalid value encountered in multiply\n",
      "  Lhat = muhat - Shat*mu\n",
      "c:\\Users\\hp\\AppData\\Local\\Programs\\Python\\Python310\\lib\\site-packages\\scipy\\stats\\_continuous_distns.py:707: RuntimeWarning: invalid value encountered in sqrt\n",
      "  sk = 2*(b-a)*np.sqrt(a + b + 1) / (a + b + 2) / np.sqrt(a*b)\n",
      "c:\\Users\\hp\\AppData\\Local\\Programs\\Python\\Python310\\lib\\site-packages\\scipy\\optimize\\_minpack_py.py:175: RuntimeWarning: The iteration is not making good progress, as measured by the \n",
      "  improvement from the last ten iterations.\n",
      "  warnings.warn(msg, RuntimeWarning)\n",
      "c:\\Users\\hp\\AppData\\Local\\Programs\\Python\\Python310\\lib\\site-packages\\scipy\\stats\\_distn_infrastructure.py:2781: RuntimeWarning: invalid value encountered in multiply\n",
      "  Lhat = muhat - Shat*mu\n",
      "c:\\Users\\hp\\AppData\\Local\\Programs\\Python\\Python310\\lib\\site-packages\\scipy\\stats\\_distn_infrastructure.py:2781: RuntimeWarning: invalid value encountered in multiply\n",
      "  Lhat = muhat - Shat*mu\n",
      "c:\\Users\\hp\\AppData\\Local\\Programs\\Python\\Python310\\lib\\site-packages\\scipy\\stats\\_continuous_distns.py:707: RuntimeWarning: invalid value encountered in sqrt\n",
      "  sk = 2*(b-a)*np.sqrt(a + b + 1) / (a + b + 2) / np.sqrt(a*b)\n",
      "c:\\Users\\hp\\AppData\\Local\\Programs\\Python\\Python310\\lib\\site-packages\\scipy\\optimize\\_minpack_py.py:175: RuntimeWarning: The iteration is not making good progress, as measured by the \n",
      "  improvement from the last ten iterations.\n",
      "  warnings.warn(msg, RuntimeWarning)\n",
      "c:\\Users\\hp\\AppData\\Local\\Programs\\Python\\Python310\\lib\\site-packages\\scipy\\stats\\_distn_infrastructure.py:2781: RuntimeWarning: invalid value encountered in multiply\n",
      "  Lhat = muhat - Shat*mu\n",
      "c:\\Users\\hp\\AppData\\Local\\Programs\\Python\\Python310\\lib\\site-packages\\scipy\\stats\\_distn_infrastructure.py:2781: RuntimeWarning: invalid value encountered in multiply\n",
      "  Lhat = muhat - Shat*mu\n",
      "c:\\Users\\hp\\AppData\\Local\\Programs\\Python\\Python310\\lib\\site-packages\\scipy\\stats\\_continuous_distns.py:707: RuntimeWarning: invalid value encountered in sqrt\n",
      "  sk = 2*(b-a)*np.sqrt(a + b + 1) / (a + b + 2) / np.sqrt(a*b)\n",
      "c:\\Users\\hp\\AppData\\Local\\Programs\\Python\\Python310\\lib\\site-packages\\scipy\\optimize\\_minpack_py.py:175: RuntimeWarning: The iteration is not making good progress, as measured by the \n",
      "  improvement from the last ten iterations.\n",
      "  warnings.warn(msg, RuntimeWarning)\n",
      "c:\\Users\\hp\\AppData\\Local\\Programs\\Python\\Python310\\lib\\site-packages\\scipy\\stats\\_distn_infrastructure.py:2781: RuntimeWarning: invalid value encountered in multiply\n",
      "  Lhat = muhat - Shat*mu\n",
      "c:\\Users\\hp\\AppData\\Local\\Programs\\Python\\Python310\\lib\\site-packages\\scipy\\stats\\_distn_infrastructure.py:2781: RuntimeWarning: invalid value encountered in multiply\n",
      "  Lhat = muhat - Shat*mu\n",
      "c:\\Users\\hp\\AppData\\Local\\Programs\\Python\\Python310\\lib\\site-packages\\scipy\\stats\\_continuous_distns.py:707: RuntimeWarning: invalid value encountered in sqrt\n",
      "  sk = 2*(b-a)*np.sqrt(a + b + 1) / (a + b + 2) / np.sqrt(a*b)\n",
      "c:\\Users\\hp\\AppData\\Local\\Programs\\Python\\Python310\\lib\\site-packages\\scipy\\optimize\\_minpack_py.py:175: RuntimeWarning: The iteration is not making good progress, as measured by the \n",
      "  improvement from the last ten iterations.\n",
      "  warnings.warn(msg, RuntimeWarning)\n",
      "c:\\Users\\hp\\AppData\\Local\\Programs\\Python\\Python310\\lib\\site-packages\\scipy\\stats\\_distn_infrastructure.py:2781: RuntimeWarning: invalid value encountered in multiply\n",
      "  Lhat = muhat - Shat*mu\n",
      "c:\\Users\\hp\\AppData\\Local\\Programs\\Python\\Python310\\lib\\site-packages\\scipy\\stats\\_distn_infrastructure.py:2781: RuntimeWarning: invalid value encountered in multiply\n",
      "  Lhat = muhat - Shat*mu\n",
      "c:\\Users\\hp\\AppData\\Local\\Programs\\Python\\Python310\\lib\\site-packages\\scipy\\stats\\_continuous_distns.py:707: RuntimeWarning: invalid value encountered in sqrt\n",
      "  sk = 2*(b-a)*np.sqrt(a + b + 1) / (a + b + 2) / np.sqrt(a*b)\n",
      "c:\\Users\\hp\\AppData\\Local\\Programs\\Python\\Python310\\lib\\site-packages\\scipy\\optimize\\_minpack_py.py:175: RuntimeWarning: The iteration is not making good progress, as measured by the \n",
      "  improvement from the last ten iterations.\n",
      "  warnings.warn(msg, RuntimeWarning)\n",
      "c:\\Users\\hp\\AppData\\Local\\Programs\\Python\\Python310\\lib\\site-packages\\scipy\\stats\\_distn_infrastructure.py:2781: RuntimeWarning: invalid value encountered in multiply\n",
      "  Lhat = muhat - Shat*mu\n",
      "c:\\Users\\hp\\AppData\\Local\\Programs\\Python\\Python310\\lib\\site-packages\\scipy\\stats\\_distn_infrastructure.py:2781: RuntimeWarning: invalid value encountered in multiply\n",
      "  Lhat = muhat - Shat*mu\n"
     ]
    },
    {
     "data": {
      "image/png": "[encoded data removed]",
      "text/plain": [
       "<Figure size 640x480 with 1 Axes>"
      ]
     },
     "metadata": {},
     "output_type": "display_data"
    }
   ],
   "source": [
    "y, x = np.histogram(dat, bins=10000, density=True)\n",
    "x = (x + np.roll(x, -1))[:-1] / 2.0\n",
    "\n",
    "plt.hist(dat, bins=100, density=True)\n",
    "for i in range(5):\n",
    "   pdf_=make_pdf(distribution_fit(dat)[i][0],distribution_fit(dat)[i][1])\n",
    "   plt.plot(pdf_)\n",
    "   plt.xlabel(i)\n",
    "plt.show()"
   ]
  },
  {
   "cell_type": "code",
   "execution_count": 15,
   "metadata": {},
   "outputs": [
    {
     "data": {
      "text/plain": [
       "[<matplotlib.lines.Line2D at 0x14f1cfde950>]"
      ]
     },
     "execution_count": 15,
     "metadata": {},
     "output_type": "execute_result"
    },
    {
     "data": {
      "image/png": "[encoded data removed]",
      "text/plain": [
       "<Figure size 640x480 with 1 Axes>"
      ]
     },
     "metadata": {},
     "output_type": "display_data"
    }
   ],
   "source": [
    "y, x = np.histogram(dat, bins=10000, density=True)\n",
    "x = (x + np.roll(x, -1))[:-1] / 2.0\n",
    "\n",
    "plt.hist(dat, bins=100, density=True)\n",
    "#plt.plot(x,y)\n",
    "plt.plot(pdf_)\n"
   ]
  },
  {
   "cell_type": "code",
   "execution_count": 21,
   "metadata": {},
   "outputs": [
    {
     "name": "stderr",
     "output_type": "stream",
     "text": [
      "c:\\Users\\hp\\AppData\\Local\\Programs\\Python\\Python310\\lib\\site-packages\\scipy\\stats\\_continuous_distns.py:707: RuntimeWarning: invalid value encountered in sqrt\n",
      "  sk = 2*(b-a)*np.sqrt(a + b + 1) / (a + b + 2) / np.sqrt(a*b)\n",
      "c:\\Users\\hp\\AppData\\Local\\Programs\\Python\\Python310\\lib\\site-packages\\scipy\\optimize\\_minpack_py.py:175: RuntimeWarning: The iteration is not making good progress, as measured by the \n",
      "  improvement from the last ten iterations.\n",
      "  warnings.warn(msg, RuntimeWarning)\n",
      "c:\\Users\\hp\\AppData\\Local\\Programs\\Python\\Python310\\lib\\site-packages\\scipy\\stats\\_distn_infrastructure.py:2781: RuntimeWarning: invalid value encountered in multiply\n",
      "  Lhat = muhat - Shat*mu\n",
      "c:\\Users\\hp\\AppData\\Local\\Programs\\Python\\Python310\\lib\\site-packages\\scipy\\stats\\_distn_infrastructure.py:2781: RuntimeWarning: invalid value encountered in multiply\n",
      "  Lhat = muhat - Shat*mu\n",
      "c:\\Users\\hp\\AppData\\Local\\Programs\\Python\\Python310\\lib\\site-packages\\scipy\\stats\\_continuous_distns.py:707: RuntimeWarning: invalid value encountered in sqrt\n",
      "  sk = 2*(b-a)*np.sqrt(a + b + 1) / (a + b + 2) / np.sqrt(a*b)\n",
      "c:\\Users\\hp\\AppData\\Local\\Programs\\Python\\Python310\\lib\\site-packages\\scipy\\optimize\\_minpack_py.py:175: RuntimeWarning: The iteration is not making good progress, as measured by the \n",
      "  improvement from the last ten iterations.\n",
      "  warnings.warn(msg, RuntimeWarning)\n",
      "c:\\Users\\hp\\AppData\\Local\\Programs\\Python\\Python310\\lib\\site-packages\\scipy\\stats\\_distn_infrastructure.py:2781: RuntimeWarning: invalid value encountered in multiply\n",
      "  Lhat = muhat - Shat*mu\n",
      "c:\\Users\\hp\\AppData\\Local\\Programs\\Python\\Python310\\lib\\site-packages\\scipy\\stats\\_distn_infrastructure.py:2781: RuntimeWarning: invalid value encountered in multiply\n",
      "  Lhat = muhat - Shat*mu\n"
     ]
    },
    {
     "data": {
      "text/plain": [
       "array([ 0.00039981, -0.03438664,  0.00858235,  0.02066473, -0.00193772,\n",
       "        0.00952918,  0.01195423, -0.03718589,  0.03663622, -0.0330978 ])"
      ]
     },
     "execution_count": 21,
     "metadata": {},
     "output_type": "execute_result"
    }
   ],
   "source": [
    "def generate_distribution(dist, params, size=10):\n",
    "    \"\"\"Generate distributions's Probability Distribution Function \"\"\"\n",
    "\n",
    "    # Separate parts of parameters\n",
    "    arg = params[:-2]\n",
    "    loc = params[-2]\n",
    "    scale = params[-1]\n",
    "\n",
    "    return dist.rvs(loc=loc, *arg,scale=scale, size=size ) if arg else dist.rvs(loc=loc, scale=scale, size=size)\n",
    "\n",
    "generate_distribution(distribution_fit(dat)[0][0],distribution_fit(dat)[0][1])\n"
   ]
  }
 ],
 "metadata": {
  "kernelspec": {
   "display_name": "Python 3",
   "language": "python",
   "name": "python3"
  },
  "language_info": {
   "codemirror_mode": {
    "name": "ipython",
    "version": 3
   },
   "file_extension": ".py",
   "mimetype": "text/x-python",
   "name": "python",
   "nbconvert_exporter": "python",
   "pygments_lexer": "ipython3",
   "version": "3.10.6"
  },
  "orig_nbformat": 4
 },
 "nbformat": 4,
 "nbformat_minor": 2
}
