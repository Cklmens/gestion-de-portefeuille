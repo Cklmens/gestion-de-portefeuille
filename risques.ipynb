{
 "cells": [
  {
   "cell_type": "code",
   "execution_count": 2,
   "metadata": {},
   "outputs": [],
   "source": [
    "import yfinance as yf\n",
    "import matplotlib.pyplot as plt\n",
    "import pandas as pd\n",
    "import numpy as np\n",
    "import statsmodels.api as smf"
   ]
  },
  {
   "cell_type": "code",
   "execution_count": 3,
   "metadata": {},
   "outputs": [],
   "source": [
    "start_date= '2022-10-01'\n",
    "end_date=\"2023-01-01\"\n",
    "tickers=[\"GOOGL\", \"MSFT\", \"GC=F\", \"TSLA\",'AAPL', \"BABA\"]\n",
    "\n",
    "#ticker=[\"GOOGL\"]"
   ]
  },
  {
   "cell_type": "code",
   "execution_count": 4,
   "metadata": {},
   "outputs": [],
   "source": [
    "def data_returns(tickers,date1,date2):\n",
    "    returns=pd.DataFrame()\n",
    "    for i in range(len(tickers)):\n",
    "        data=yf.download(tickers[i],date1,date2)\n",
    "        returns[tickers[i]]=((data[\"Adj Close\"].pct_change()).dropna())\n",
    "       \n",
    "    return returns"
   ]
  },
  {
   "cell_type": "code",
   "execution_count": 5,
   "metadata": {},
   "outputs": [],
   "source": [
    "def data_(tickers,date1,date2):\n",
    "    returns=pd.DataFrame()\n",
    "    for i in range(len(tickers)):\n",
    "        data=yf.download(tickers[i],date1,date2)\n",
    "        returns[tickers[i]]=((data[\"Adj Close\"]).dropna())\n",
    "       \n",
    "    return returns"
   ]
  },
  {
   "cell_type": "code",
   "execution_count": 6,
   "metadata": {},
   "outputs": [
    {
     "name": "stdout",
     "output_type": "stream",
     "text": [
      "[*********************100%***********************]  1 of 1 completed\n",
      "[*********************100%***********************]  1 of 1 completed\n",
      "[*********************100%***********************]  1 of 1 completed\n",
      "[*********************100%***********************]  1 of 1 completed\n",
      "[*********************100%***********************]  1 of 1 completed\n",
      "[*********************100%***********************]  1 of 1 completed\n"
     ]
    },
    {
     "data": {
      "text/html": [
       "<div>\n",
       "<style scoped>\n",
       "    .dataframe tbody tr th:only-of-type {\n",
       "        vertical-align: middle;\n",
       "    }\n",
       "\n",
       "    .dataframe tbody tr th {\n",
       "        vertical-align: top;\n",
       "    }\n",
       "\n",
       "    .dataframe thead th {\n",
       "        text-align: right;\n",
       "    }\n",
       "</style>\n",
       "<table border=\"1\" class=\"dataframe\">\n",
       "  <thead>\n",
       "    <tr style=\"text-align: right;\">\n",
       "      <th></th>\n",
       "      <th>GOOGL</th>\n",
       "      <th>MSFT</th>\n",
       "      <th>GC=F</th>\n",
       "      <th>TSLA</th>\n",
       "      <th>AAPL</th>\n",
       "      <th>BABA</th>\n",
       "    </tr>\n",
       "    <tr>\n",
       "      <th>Date</th>\n",
       "      <th></th>\n",
       "      <th></th>\n",
       "      <th></th>\n",
       "      <th></th>\n",
       "      <th></th>\n",
       "      <th></th>\n",
       "    </tr>\n",
       "  </thead>\n",
       "  <tbody>\n",
       "    <tr>\n",
       "      <th>2022-10-03</th>\n",
       "      <td>98.639999</td>\n",
       "      <td>239.463684</td>\n",
       "      <td>1692.900024</td>\n",
       "      <td>242.399994</td>\n",
       "      <td>141.997284</td>\n",
       "      <td>80.449997</td>\n",
       "    </tr>\n",
       "    <tr>\n",
       "      <th>2022-10-04</th>\n",
       "      <td>101.639999</td>\n",
       "      <td>247.560532</td>\n",
       "      <td>1721.099976</td>\n",
       "      <td>249.440002</td>\n",
       "      <td>145.635681</td>\n",
       "      <td>84.110001</td>\n",
       "    </tr>\n",
       "    <tr>\n",
       "      <th>2022-10-05</th>\n",
       "      <td>101.430000</td>\n",
       "      <td>247.878815</td>\n",
       "      <td>1711.400024</td>\n",
       "      <td>240.809998</td>\n",
       "      <td>145.934723</td>\n",
       "      <td>84.389999</td>\n",
       "    </tr>\n",
       "    <tr>\n",
       "      <th>2022-10-06</th>\n",
       "      <td>101.419998</td>\n",
       "      <td>245.481598</td>\n",
       "      <td>1711.699951</td>\n",
       "      <td>238.130005</td>\n",
       "      <td>144.967804</td>\n",
       "      <td>84.320000</td>\n",
       "    </tr>\n",
       "    <tr>\n",
       "      <th>2022-10-07</th>\n",
       "      <td>98.680000</td>\n",
       "      <td>232.998138</td>\n",
       "      <td>1700.500000</td>\n",
       "      <td>223.070007</td>\n",
       "      <td>139.644775</td>\n",
       "      <td>81.239998</td>\n",
       "    </tr>\n",
       "    <tr>\n",
       "      <th>...</th>\n",
       "      <td>...</td>\n",
       "      <td>...</td>\n",
       "      <td>...</td>\n",
       "      <td>...</td>\n",
       "      <td>...</td>\n",
       "      <td>...</td>\n",
       "    </tr>\n",
       "    <tr>\n",
       "      <th>2022-12-23</th>\n",
       "      <td>89.230003</td>\n",
       "      <td>238.133545</td>\n",
       "      <td>1795.900024</td>\n",
       "      <td>123.150002</td>\n",
       "      <td>131.658981</td>\n",
       "      <td>85.650002</td>\n",
       "    </tr>\n",
       "    <tr>\n",
       "      <th>2022-12-27</th>\n",
       "      <td>87.389999</td>\n",
       "      <td>236.367981</td>\n",
       "      <td>1814.800049</td>\n",
       "      <td>109.099998</td>\n",
       "      <td>129.831772</td>\n",
       "      <td>89.860001</td>\n",
       "    </tr>\n",
       "    <tr>\n",
       "      <th>2022-12-28</th>\n",
       "      <td>86.019997</td>\n",
       "      <td>233.944031</td>\n",
       "      <td>1807.900024</td>\n",
       "      <td>112.709999</td>\n",
       "      <td>125.847855</td>\n",
       "      <td>87.199997</td>\n",
       "    </tr>\n",
       "    <tr>\n",
       "      <th>2022-12-29</th>\n",
       "      <td>88.449997</td>\n",
       "      <td>240.407837</td>\n",
       "      <td>1819.500000</td>\n",
       "      <td>121.820000</td>\n",
       "      <td>129.412415</td>\n",
       "      <td>89.129997</td>\n",
       "    </tr>\n",
       "    <tr>\n",
       "      <th>2022-12-30</th>\n",
       "      <td>88.230003</td>\n",
       "      <td>239.220825</td>\n",
       "      <td>1819.699951</td>\n",
       "      <td>123.180000</td>\n",
       "      <td>129.731918</td>\n",
       "      <td>88.089996</td>\n",
       "    </tr>\n",
       "  </tbody>\n",
       "</table>\n",
       "<p>63 rows × 6 columns</p>\n",
       "</div>"
      ],
      "text/plain": [
       "                 GOOGL        MSFT         GC=F        TSLA        AAPL  \\\n",
       "Date                                                                      \n",
       "2022-10-03   98.639999  239.463684  1692.900024  242.399994  141.997284   \n",
       "2022-10-04  101.639999  247.560532  1721.099976  249.440002  145.635681   \n",
       "2022-10-05  101.430000  247.878815  1711.400024  240.809998  145.934723   \n",
       "2022-10-06  101.419998  245.481598  1711.699951  238.130005  144.967804   \n",
       "2022-10-07   98.680000  232.998138  1700.500000  223.070007  139.644775   \n",
       "...                ...         ...          ...         ...         ...   \n",
       "2022-12-23   89.230003  238.133545  1795.900024  123.150002  131.658981   \n",
       "2022-12-27   87.389999  236.367981  1814.800049  109.099998  129.831772   \n",
       "2022-12-28   86.019997  233.944031  1807.900024  112.709999  125.847855   \n",
       "2022-12-29   88.449997  240.407837  1819.500000  121.820000  129.412415   \n",
       "2022-12-30   88.230003  239.220825  1819.699951  123.180000  129.731918   \n",
       "\n",
       "                 BABA  \n",
       "Date                   \n",
       "2022-10-03  80.449997  \n",
       "2022-10-04  84.110001  \n",
       "2022-10-05  84.389999  \n",
       "2022-10-06  84.320000  \n",
       "2022-10-07  81.239998  \n",
       "...               ...  \n",
       "2022-12-23  85.650002  \n",
       "2022-12-27  89.860001  \n",
       "2022-12-28  87.199997  \n",
       "2022-12-29  89.129997  \n",
       "2022-12-30  88.089996  \n",
       "\n",
       "[63 rows x 6 columns]"
      ]
     },
     "execution_count": 6,
     "metadata": {},
     "output_type": "execute_result"
    }
   ],
   "source": [
    "tada=data_(tickers,start_date,end_date)\n",
    "tada"
   ]
  },
  {
   "cell_type": "code",
   "execution_count": 12,
   "metadata": {},
   "outputs": [
    {
     "data": {
      "text/html": [
       "<div>\n",
       "<style scoped>\n",
       "    .dataframe tbody tr th:only-of-type {\n",
       "        vertical-align: middle;\n",
       "    }\n",
       "\n",
       "    .dataframe tbody tr th {\n",
       "        vertical-align: top;\n",
       "    }\n",
       "\n",
       "    .dataframe thead th {\n",
       "        text-align: right;\n",
       "    }\n",
       "</style>\n",
       "<table border=\"1\" class=\"dataframe\">\n",
       "  <thead>\n",
       "    <tr style=\"text-align: right;\">\n",
       "      <th></th>\n",
       "      <th>0</th>\n",
       "    </tr>\n",
       "  </thead>\n",
       "  <tbody>\n",
       "    <tr>\n",
       "      <th>0</th>\n",
       "      <td>637.904235</td>\n",
       "    </tr>\n",
       "    <tr>\n",
       "      <th>1</th>\n",
       "      <td>650.412326</td>\n",
       "    </tr>\n",
       "    <tr>\n",
       "      <th>2</th>\n",
       "      <td>647.131159</td>\n",
       "    </tr>\n",
       "    <tr>\n",
       "      <th>3</th>\n",
       "      <td>646.576216</td>\n",
       "    </tr>\n",
       "    <tr>\n",
       "      <th>4</th>\n",
       "      <td>638.461818</td>\n",
       "    </tr>\n",
       "    <tr>\n",
       "      <th>...</th>\n",
       "      <td>...</td>\n",
       "    </tr>\n",
       "    <tr>\n",
       "      <th>58</th>\n",
       "      <td>666.910277</td>\n",
       "    </tr>\n",
       "    <tr>\n",
       "      <th>59</th>\n",
       "      <td>673.412083</td>\n",
       "    </tr>\n",
       "    <tr>\n",
       "      <th>60</th>\n",
       "      <td>669.691927</td>\n",
       "    </tr>\n",
       "    <tr>\n",
       "      <th>61</th>\n",
       "      <td>675.995663</td>\n",
       "    </tr>\n",
       "    <tr>\n",
       "      <th>62</th>\n",
       "      <td>675.506225</td>\n",
       "    </tr>\n",
       "  </tbody>\n",
       "</table>\n",
       "<p>63 rows × 1 columns</p>\n",
       "</div>"
      ],
      "text/plain": [
       "             0\n",
       "0   637.904235\n",
       "1   650.412326\n",
       "2   647.131159\n",
       "3   646.576216\n",
       "4   638.461818\n",
       "..         ...\n",
       "58  666.910277\n",
       "59  673.412083\n",
       "60  669.691927\n",
       "61  675.995663\n",
       "62  675.506225\n",
       "\n",
       "[63 rows x 1 columns]"
      ]
     },
     "execution_count": 12,
     "metadata": {},
     "output_type": "execute_result"
    }
   ],
   "source": [
    "pond=pd.DataFrame([0.04, 0.2 , 0.32, 0.04, 0.04, 0.36])\n",
    "\n",
    "portfolio=np.dot(tada,pond)\n",
    "dta=pd.DataFrame(portfolio).pct_change().dropna()\n",
    "pd.DataFrame(portfolio)"
   ]
  },
  {
   "cell_type": "code",
   "execution_count": 8,
   "metadata": {},
   "outputs": [
    {
     "data": {
      "text/plain": [
       "0    0.063848\n",
       "dtype: float64"
      ]
     },
     "execution_count": 8,
     "metadata": {},
     "output_type": "execute_result"
    }
   ],
   "source": [
    "(dta.mean()+1)**63 -1"
   ]
  },
  {
   "cell_type": "code",
   "execution_count": 9,
   "metadata": {},
   "outputs": [
    {
     "name": "stdout",
     "output_type": "stream",
     "text": [
      "[*********************100%***********************]  1 of 1 completed\n",
      "[*********************100%***********************]  1 of 1 completed\n",
      "[*********************100%***********************]  1 of 1 completed\n",
      "[*********************100%***********************]  1 of 1 completed\n",
      "[*********************100%***********************]  1 of 1 completed\n",
      "[*********************100%***********************]  1 of 1 completed\n"
     ]
    }
   ],
   "source": [
    "data=data_returns(tickers,start_date,end_date)"
   ]
  },
  {
   "cell_type": "code",
   "execution_count": 15,
   "metadata": {},
   "outputs": [
    {
     "data": {
      "text/plain": [
       "(62, 6)"
      ]
     },
     "execution_count": 15,
     "metadata": {},
     "output_type": "execute_result"
    }
   ],
   "source": [
    "data.shape"
   ]
  },
  {
   "cell_type": "code",
   "execution_count": 26,
   "metadata": {},
   "outputs": [],
   "source": [
    "def Rentabilty(resultat):\n",
    "    \"\"\" Retourne la rentabilité trimestriel de chaque actif \"\"\"\n",
    "    # act= list des actifs qui composeront le portefeuille\n",
    "    mu=np.zeros(np.shape(resultat)[1])\n",
    "    for i in range(np.shape(resultat)[1]):\n",
    "        mu[i]= (1+np.mean(resultat.iloc[:,i]))**63-1\n",
    "    return mu\n"
   ]
  },
  {
   "cell_type": "code",
   "execution_count": 20,
   "metadata": {},
   "outputs": [],
   "source": [
    "def Matcov(resultat):\n",
    "    \"\"\"Calculer la matrice de ariance coariance des différents actifs\"\"\"\n",
    "    sigma= resultat.cov()\n",
    "    return sigma\n"
   ]
  },
  {
   "cell_type": "code",
   "execution_count": 35,
   "metadata": {},
   "outputs": [
    {
     "data": {
      "text/plain": [
       "array([[ 0.02639536,  0.        ,  0.        ,  0.        ,  0.        ,\n",
       "         0.        ],\n",
       "       [ 0.023373  ,  0.01046724,  0.        ,  0.        ,  0.        ,\n",
       "         0.        ],\n",
       "       [ 0.0037697 ,  0.00103873,  0.00982415,  0.        ,  0.        ,\n",
       "         0.        ],\n",
       "       [ 0.01738794,  0.00579462,  0.00020741,  0.03844371,  0.        ,\n",
       "         0.        ],\n",
       "       [ 0.02091329,  0.00584765, -0.00071849,  0.00432059,  0.01231373,\n",
       "         0.        ],\n",
       "       [ 0.01046365,  0.00159902,  0.00999604,  0.00830346,  0.00615662,\n",
       "         0.03864469]])"
      ]
     },
     "execution_count": 35,
     "metadata": {},
     "output_type": "execute_result"
    }
   ],
   "source": [
    "lamda=np.linalg.cholesky(Matcov(data).to_numpy())\n",
    "\n",
    "mu = Rentabilty(data)\n",
    "lamda"
   ]
  },
  {
   "cell_type": "code",
   "execution_count": 102,
   "metadata": {},
   "outputs": [],
   "source": [
    "const=100\n",
    "N=np.random.normal(0,1,((data.shape)[1],const))\n"
   ]
  },
  {
   "cell_type": "code",
   "execution_count": 111,
   "metadata": {},
   "outputs": [
    {
     "data": {
      "text/plain": [
       "6"
      ]
     },
     "execution_count": 111,
     "metadata": {},
     "output_type": "execute_result"
    }
   ],
   "source": [
    "delta=  ((np.dot(lamda,N)).T +mu.T).T\n",
    "len(delta[:,1])\n"
   ]
  },
  {
   "cell_type": "code",
   "execution_count": 105,
   "metadata": {},
   "outputs": [
    {
     "data": {
      "text/plain": [
       "array([  98.63999939,  239.46368408, 1692.90002441,  242.3999939 ,\n",
       "        141.99728394,   80.44999695])"
      ]
     },
     "execution_count": 105,
     "metadata": {},
     "output_type": "execute_result"
    }
   ],
   "source": [
    "X_O=(tada.iloc[0,:]).to_numpy()\n",
    "X_O"
   ]
  },
  {
   "cell_type": "code",
   "execution_count": 112,
   "metadata": {},
   "outputs": [
    {
     "data": {
      "text/plain": [
       "array([[  95.00495302,   97.29208246,   87.60054506,   90.3236882 ,\n",
       "          91.52345348,   91.05216646,   86.57157912,   87.34730748,\n",
       "          87.05045324,   91.13329245,   90.51367358,   90.69128299,\n",
       "          88.61131479,   90.92117054,   85.57546346,   91.15267965,\n",
       "          88.0338141 ,   89.95895443,   88.91487344,   90.49028784,\n",
       "          90.17753026,   90.78844264,   84.1994452 ,   85.6450547 ,\n",
       "          89.88284332,   87.78839476,   85.48136969,   90.7024575 ,\n",
       "          87.54662343,   93.09175065,   90.20360918,   91.34120583,\n",
       "          90.63302659,   89.95888267,   90.61481918,   87.36679777,\n",
       "          92.83990716,   89.97644592,   83.177611  ,   90.89747037,\n",
       "          87.39119046,   89.37396526,   87.15643648,   91.15325413,\n",
       "          84.61969217,   91.12567229,   92.00381225,   93.73143506,\n",
       "          88.5752191 ,   89.91020551,   91.82099377,   92.09783988,\n",
       "          92.84994485,   91.38903292,   90.42333819,   95.22462174,\n",
       "          85.44903993,   88.4980638 ,   92.83782322,   85.88026757,\n",
       "          93.94202979,   91.13379014,   90.45911459,   88.37279959,\n",
       "          89.7251485 ,   92.46699054,   88.46873045,   91.43264719,\n",
       "          91.55679153,   92.07304868,   90.87199884,   93.09949342,\n",
       "          94.60190756,   94.49499314,   87.07479794,   90.52204148,\n",
       "          93.54082024,   87.80951672,   90.69604923,   93.50348484,\n",
       "          90.88577207,   91.45863239,   88.8936752 ,   90.68665128,\n",
       "          86.52580489,   91.65726998,   88.24203445,   83.30449864,\n",
       "          90.50350892,   86.82492971,   93.27322962,   86.53923968,\n",
       "          93.99693455,   92.27166916,   88.51662654,   89.96485415,\n",
       "          89.22072736,   88.5180837 ,   88.47003091,   84.35839106],\n",
       "       [ 255.75345791,  258.71472707,  238.78523479,  245.28071631,\n",
       "         245.98739928,  249.16323994,  234.79606141,  241.8035401 ,\n",
       "         239.08873003,  249.1966976 ,  244.20819912,  243.53290268,\n",
       "         242.51594668,  246.06388005,  237.39905362,  247.31309229,\n",
       "         241.02679401,  244.4878611 ,  244.47013044,  244.25342169,\n",
       "         245.43741217,  245.77522768,  234.69091278,  233.09786162,\n",
       "         244.09646236,  239.36036722,  232.15691188,  240.93042886,\n",
       "         238.40637392,  246.95227293,  245.5864142 ,  248.99435187,\n",
       "         246.93079614,  243.55036538,  244.03359044,  237.93963869,\n",
       "         251.8113892 ,  244.81780394,  229.08527387,  244.32552803,\n",
       "         239.62279846,  244.64754727,  240.71027896,  248.63873046,\n",
       "         230.34449675,  246.94471052,  244.03746978,  252.88466016,\n",
       "         242.17874936,  241.01256775,  251.28975361,  254.24237605,\n",
       "         250.20484233,  247.94356606,  246.74400859,  259.25834532,\n",
       "         236.49306739,  240.49375845,  251.90255497,  230.05918858,\n",
       "         252.21012431,  248.05650843,  247.85186486,  240.57239037,\n",
       "         245.21992546,  246.43678547,  236.80396946,  242.31462092,\n",
       "         244.85206571,  249.27064554,  247.43820484,  251.85528945,\n",
       "         256.6797435 ,  253.19035831,  236.7740921 ,  241.14250057,\n",
       "         249.16001392,  233.61753597,  246.72310655,  252.67838268,\n",
       "         244.36311501,  248.41918101,  244.99788722,  239.4378536 ,\n",
       "         236.29450591,  247.11851553,  244.74389477,  227.59326366,\n",
       "         246.55535284,  233.2776619 ,  247.45813487,  238.77742699,\n",
       "         251.047656  ,  249.86950093,  240.10087087,  243.3424049 ,\n",
       "         244.69424048,  243.43918664,  239.25996439,  231.62658888],\n",
       "       [1837.17958565, 1849.13288429, 1814.92911963, 1849.23415753,\n",
       "        1859.85390206, 1863.40120973, 1809.38082687, 1830.45792713,\n",
       "        1838.66453115, 1813.38903225, 1840.06567808, 1816.96710276,\n",
       "        1827.947995  , 1795.65171319, 1838.91096206, 1841.89528443,\n",
       "        1844.99257948, 1833.2536475 , 1853.01386741, 1790.80463285,\n",
       "        1823.00685645, 1858.50228322, 1813.92679548, 1810.68645076,\n",
       "        1832.29159649, 1837.98245185, 1798.67698501, 1818.07397933,\n",
       "        1823.23716797, 1827.89423596, 1820.66685605, 1835.43616566,\n",
       "        1830.69467143, 1843.30587489, 1807.55911786, 1834.67248111,\n",
       "        1814.8777052 , 1799.29227414, 1798.95653198, 1851.84215062,\n",
       "        1798.52546311, 1837.24518108, 1824.50990469, 1832.91384327,\n",
       "        1816.69372138, 1824.41095781, 1863.59507619, 1847.80576897,\n",
       "        1862.44489915, 1796.42655049, 1815.21318653, 1810.58817612,\n",
       "        1808.35364852, 1829.35706445, 1829.70083978, 1874.61057569,\n",
       "        1840.03315654, 1839.74477666, 1852.5700901 , 1829.24187581,\n",
       "        1829.23787656, 1853.82787566, 1844.17725418, 1814.23568016,\n",
       "        1795.48432855, 1852.59291967, 1802.72298658, 1829.65593372,\n",
       "        1823.12186122, 1845.08241775, 1798.25185459, 1856.90011578,\n",
       "        1845.22193129, 1841.54737403, 1815.48672692, 1795.86011211,\n",
       "        1855.12086812, 1817.56995022, 1838.92391978, 1827.39637669,\n",
       "        1827.47474146, 1830.28896096, 1828.23520631, 1836.14849334,\n",
       "        1818.50748602, 1816.26662853, 1818.29944582, 1820.61940351,\n",
       "        1812.58019784, 1822.04902231, 1836.48704023, 1803.74874812,\n",
       "        1815.03183495, 1836.41896463, 1810.45062817, 1806.06765052,\n",
       "        1809.96261276, 1814.41497666, 1810.58087346, 1788.30922644],\n",
       "       [ 130.33844539,  142.64872011,  129.12270486,  132.71629448,\n",
       "         135.6937118 ,  122.8604961 ,  119.80056929,  126.52857903,\n",
       "         124.83212619,  134.20339024,  129.85469048,  128.55056597,\n",
       "         130.54873925,  144.10060014,  114.79489323,  139.46572023,\n",
       "         136.7120458 ,  115.03401521,  127.9757996 ,  129.41098485,\n",
       "         134.21386695,  137.92161731,  114.18755474,  115.202926  ,\n",
       "         119.96388178,  137.42323756,  119.60825644,  135.31632638,\n",
       "         124.55864864,  134.62461514,  123.66118458,  124.18202945,\n",
       "         121.10462588,  129.93064176,  131.34100798,  121.47799239,\n",
       "         142.87482163,  138.32218489,  118.48820112,  133.09241228,\n",
       "         115.74144681,  124.58513546,  119.04470737,  136.19182249,\n",
       "         119.74875766,  139.18420994,  137.7985631 ,  139.00185797,\n",
       "         119.84708063,  120.72464094,  151.93530519,  133.10946518,\n",
       "         146.01465585,  129.34160476,  126.95772117,  141.8126629 ,\n",
       "         111.83630635,  130.43525374,  125.62338107,  120.51305014,\n",
       "         127.65640949,  133.53291246,  124.74853987,  132.20776479,\n",
       "         138.84654245,  118.69988478,  122.82731294,  112.59273557,\n",
       "         128.85061904,  142.54809735,  147.66942647,  134.13109719,\n",
       "         142.38059658,  117.72065523,  114.51018856,  113.24858973,\n",
       "         119.99515614,  125.92833126,  122.04341227,  143.92273384,\n",
       "         112.28954197,  126.78139179,  124.07879949,  122.43479336,\n",
       "         130.19143583,  136.18742105,  123.28295083,  135.12376001,\n",
       "         126.54048306,  111.02109385,  124.7374263 ,  139.07881041,\n",
       "         125.19585247,  124.38838772,  131.74760206,  119.03314544,\n",
       "         130.27868127,  131.16733024,  125.38282846,  122.04937053],\n",
       "       [ 137.52101272,  139.58157135,  125.50706622,  132.3858227 ,\n",
       "         132.21870944,  135.30987263,  128.79714076,  129.6739277 ,\n",
       "         130.18934669,  130.83922306,  132.86183904,  131.11833526,\n",
       "         131.32272432,  137.02034783,  128.55710185,  132.78919127,\n",
       "         131.12475146,  131.75715078,  130.1153424 ,  134.43328331,\n",
       "         132.70562595,  132.23077622,  125.67513473,  124.89898286,\n",
       "         131.25450237,  129.83952424,  124.61059567,  131.43374856,\n",
       "         130.43301618,  134.85725897,  132.32588241,  131.92654227,\n",
       "         134.46466833,  133.38214794,  131.27992467,  130.34972435,\n",
       "         136.63109873,  133.02657462,  125.84870269,  133.79486823,\n",
       "         130.04970681,  131.63174037,  128.91368155,  135.7088153 ,\n",
       "         123.07767903,  131.27265614,  131.17887797,  139.42270126,\n",
       "         129.82851041,  128.84707809,  137.10206317,  139.93229803,\n",
       "         134.47961824,  134.856615  ,  131.06450654,  135.54631592,\n",
       "         124.70162505,  126.6845182 ,  138.77122476,  123.54623158,\n",
       "         135.90649871,  133.71670661,  132.31778253,  132.05032432,\n",
       "         131.40921337,  135.61158177,  125.70564776,  129.40534304,\n",
       "         132.12896477,  136.75974649,  135.70189509,  136.10325013,\n",
       "         136.991271  ,  134.14814061,  127.5859774 ,  126.47732199,\n",
       "         133.57366302,  124.37941768,  131.76587325,  137.6410285 ,\n",
       "         133.07598726,  134.78337552,  133.37376177,  132.7053724 ,\n",
       "         131.16793426,  135.09088514,  130.33761505,  125.86457328,\n",
       "         131.93607953,  128.29304479,  135.31010209,  128.38406673,\n",
       "         135.43797932,  134.47465541,  128.16316504,  132.61598036,\n",
       "         131.78234499,  133.31978978,  129.69847983,  127.5399411 ],\n",
       "       [  98.81001563,   95.48202401,   92.68724416,   95.63915628,\n",
       "          92.17266701,   96.36172586,   92.770218  ,   91.6333713 ,\n",
       "          96.14128146,   91.36361635,   98.11991286,   88.06203395,\n",
       "          94.2137591 ,   94.5081662 ,   99.47636378,   97.61407529,\n",
       "          94.64552229,   94.23790191,   98.52741954,   91.95649094,\n",
       "          95.14918977,   94.73989253,   90.22623502,   95.23320104,\n",
       "          93.71562082,   96.28154352,   91.64603139,   96.62873828,\n",
       "          91.72511406,   89.65332008,   98.60487194,   90.35054724,\n",
       "          93.78029714,   94.49217694,   93.60489982,   90.60969262,\n",
       "          93.49414563,   91.7291318 ,   93.24229952,   92.61010032,\n",
       "          88.99033511,   90.64488207,   90.16754897,   92.9518569 ,\n",
       "          91.00427743,   90.61411957,   98.00136807,   97.10870434,\n",
       "          92.18922559,   96.95756783,   96.24055724,   94.04590333,\n",
       "          92.67071478,   95.11866457,   93.84801834,   94.90384621,\n",
       "          87.51626079,   95.90665011,   95.58188982,   90.60663901,\n",
       "          95.01806641,   93.74340516,   91.52451963,   89.14468648,\n",
       "          89.45499993,   96.87762502,   97.39857865,   91.26817273,\n",
       "          94.00701235,   97.15373575,   89.43114569,   92.86270946,\n",
       "          96.48680661,   94.28998622,   89.58814877,   89.21798929,\n",
       "          94.50432108,   90.18014538,   94.36755448,   91.72999245,\n",
       "          92.6725754 ,   91.87443323,   91.65630332,   86.32966703,\n",
       "          92.86447373,   93.5913279 ,   93.38217044,   89.69961788,\n",
       "          93.22579227,   97.87310492,   95.69225899,   95.26745381,\n",
       "          89.35905631,   98.80293812,   92.65532316,   92.27404945,\n",
       "          87.99618768,   98.84300576,   94.0927738 ,   89.41352139]])"
      ]
     },
     "execution_count": 112,
     "metadata": {},
     "output_type": "execute_result"
    }
   ],
   "source": [
    "Y=np.zeros(((data.shape)[1],const))\n",
    "for i in range((data.shape)[1]):\n",
    "    for j in range(const):\n",
    "        Y[i][j]= X_O[i]*(1+delta[i][j])\n",
    "\n",
    "Y\n"
   ]
  },
  {
   "cell_type": "code",
   "execution_count": 113,
   "metadata": {},
   "outputs": [
    {
     "data": {
      "image/png": "[encoded data removed]",
      "text/plain": [
       "<Figure size 640x480 with 1 Axes>"
      ]
     },
     "metadata": {},
     "output_type": "display_data"
    }
   ],
   "source": [
    "plt.plot(Y[1,:])\n",
    "plt.plot(tada[[\"MSFT\"]].to_numpy())\n",
    "plt.show()"
   ]
  },
  {
   "cell_type": "code",
   "execution_count": 123,
   "metadata": {},
   "outputs": [],
   "source": [
    "portf=np.dot(Y.T,pond)\n",
    "portf_o=np.dot(X_O,pond)\n",
    "prot=portf-portf_o"
   ]
  },
  {
   "cell_type": "code",
   "execution_count": 135,
   "metadata": {},
   "outputs": [],
   "source": [
    "rt=(pd.DataFrame(prot).sort_values(by=0)).to_numpy()"
   ]
  },
  {
   "cell_type": "code",
   "execution_count": 140,
   "metadata": {},
   "outputs": [
    {
     "data": {
      "text/plain": [
       "array([[42.966157]])"
      ]
     },
     "execution_count": 140,
     "metadata": {},
     "output_type": "execute_result"
    }
   ],
   "source": [
    "rt[[50]]"
   ]
  }
 ],
 "metadata": {
  "kernelspec": {
   "display_name": "Python 3",
   "language": "python",
   "name": "python3"
  },
  "language_info": {
   "codemirror_mode": {
    "name": "ipython",
    "version": 3
   },
   "file_extension": ".py",
   "mimetype": "text/x-python",
   "name": "python",
   "nbconvert_exporter": "python",
   "pygments_lexer": "ipython3",
   "version": "3.10.6"
  },
  "orig_nbformat": 4,
  "vscode": {
   "interpreter": {
    "hash": "63963b3f4c440940f0b94a3100916033a226cb4f45979123153792d60aa56d6a"
   }
  }
 },
 "nbformat": 4,
 "nbformat_minor": 2
}
