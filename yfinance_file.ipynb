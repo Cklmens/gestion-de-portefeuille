{
 "cells": [
  {
   "cell_type": "code",
   "execution_count": 1,
   "metadata": {},
   "outputs": [],
   "source": [
    "import yfinance as yf\n",
    "import matplotlib.pyplot as plt\n",
    "import pandas as pd\n",
    "import numpy as np\n",
    "import statsmodels.api as smf"
   ]
  },
  {
   "cell_type": "code",
   "execution_count": 4,
   "metadata": {},
   "outputs": [],
   "source": [
    "start_date= '2023-02-19'\n",
    "end_date=\"2023-03-08\"\n",
    "\n",
    "#ticker=[\"GOOGL\"]\n",
    "ticker=[\"^IQHGCPI\"]\n",
    "msft=yf.Ticker('^IQHGCPI')"
   ]
  },
  {
   "cell_type": "code",
   "execution_count": 7,
   "metadata": {},
   "outputs": [
    {
     "name": "stdout",
     "output_type": "stream",
     "text": [
      "[*********************100%***********************]  1 of 1 completed\n",
      "\n",
      "1 Failed download:\n",
      "- ^IQHGCPI: Period 'max' is invalid, must be one of ['1d', '5d']\n",
      "^IQHGCPI: No data found for this date range, symbol may be delisted\n"
     ]
    }
   ],
   "source": [
    "data = yf.download(ticker,start_date,end_date)\n",
    "hist  = msft.history(period='5d')\n",
    "\n"
   ]
  },
  {
   "cell_type": "code",
   "execution_count": 41,
   "metadata": {},
   "outputs": [
    {
     "name": "stdout",
     "output_type": "stream",
     "text": [
      "                  Open        High         Low       Close   Adj Close  \\\n",
      "Date                                                                     \n",
      "2023-02-15  153.110001  155.500000  152.880005  155.330002  155.330002   \n",
      "2023-02-16  153.509995  156.330002  153.350006  153.710007  153.710007   \n",
      "2023-02-17  152.350006  153.000000  150.850006  152.550003  152.550003   \n",
      "2023-02-21  150.199997  151.300003  148.410004  148.479996  148.479996   \n",
      "2023-02-22  148.869995  149.949997  147.160004  148.910004  148.910004   \n",
      "\n",
      "              Volume    Return  \n",
      "Date                            \n",
      "2023-02-15  65669300       NaN  \n",
      "2023-02-16  68167900 -0.010429  \n",
      "2023-02-17  59095900 -0.007547  \n",
      "2023-02-21  58867200 -0.026680  \n",
      "2023-02-22  51011300  0.002896  \n"
     ]
    }
   ],
   "source": [
    "# Return\n",
    "data[[\"Return\"]]=data[[\"Adj Close\"]].pct_change()\n",
    "print(data.head())"
   ]
  },
  {
   "cell_type": "code",
   "execution_count": 42,
   "metadata": {},
   "outputs": [
    {
     "data": {
      "image/png": "[encoded data removed]",
      "text/plain": [
       "<Figure size 640x480 with 1 Axes>"
      ]
     },
     "metadata": {},
     "output_type": "display_data"
    }
   ],
   "source": [
    "#voir la distribution du return\n",
    "plt.hist(data[\"Return\"], bins=75, density=75)\n",
    "plt.show()\n"
   ]
  },
  {
   "cell_type": "code",
   "execution_count": 43,
   "metadata": {},
   "outputs": [],
   "source": [
    "#mean of return\n",
    "mean_return_day=np.mean(data[\"Return\"])\n",
    "mean_return_year=((1+np.mean(data[\"Return\"]))**252)-1"
   ]
  },
  {
   "cell_type": "code",
   "execution_count": 44,
   "metadata": {},
   "outputs": [],
   "source": [
    "# std of return\n",
    "std_return=np.std((data[\"Return\"]))\n"
   ]
  },
  {
   "cell_type": "code",
   "execution_count": 45,
   "metadata": {},
   "outputs": [
    {
     "data": {
      "text/plain": [
       "KstestResult(statistic=0.4967097590088293, pvalue=0.008387180817642448)"
      ]
     },
     "execution_count": 45,
     "metadata": {},
     "output_type": "execute_result"
    }
   ],
   "source": [
    "from scipy import stats \n",
    "stats.kstest(data[\"Return\"].dropna(), stats.norm.cdf)"
   ]
  },
  {
   "cell_type": "code",
   "execution_count": 277,
   "metadata": {},
   "outputs": [],
   "source": [
    "def data_returns(tickers,date1,date2):\n",
    "    returns=pd.DataFrame()\n",
    "    for i in range(len(tickers)):\n",
    "        data=yf.download(tickers[i],date1,date2)\n",
    "        returns[tickers[i]]=((data[\"Adj Close\"].pct_change()).dropna())\n",
    "       \n",
    "    return returns"
   ]
  },
  {
   "cell_type": "code",
   "execution_count": 306,
   "metadata": {},
   "outputs": [],
   "source": [
    "#tickers=[\"GOOGL\", \"MSFT\", \"GC=F\", \"TSLA\",'AAPL', \"BABA\"]\n",
    "#tickers=[\"CAT\",\"DE\",\"ETN\",\"TT\",\"GWW\",\"URI\",\"POOL\",\"BLDR\"]\n",
    "#tickers=[\"JPM\",\"MA\",\"BRK-B\",\"MS\",\"BLK\",\"GS\",\"PYPL\",\"DFS\"]\n",
    "#tickers=[\"^IXIC\",\"^GSPC\", \"^DJI\"]\n",
    "#tickers=[\"ETN\",\"TT\",\"MA\",\"MS\"]\n",
    "tickers=[\"\"]"
   ]
  },
  {
   "cell_type": "code",
   "execution_count": 328,
   "metadata": {},
   "outputs": [
    {
     "name": "stdout",
     "output_type": "stream",
     "text": [
      "[*********************100%***********************]  1 of 1 completed\n",
      "[*********************100%***********************]  1 of 1 completed\n",
      "[*********************100%***********************]  1 of 1 completed\n",
      "[*********************100%***********************]  1 of 1 completed\n",
      "[*********************100%***********************]  1 of 1 completed\n",
      "[*********************100%***********************]  1 of 1 completed\n",
      "[*********************100%***********************]  1 of 1 completed\n",
      "[*********************100%***********************]  1 of 1 completed\n"
     ]
    },
    {
     "data": {
      "text/html": [
       "<div>\n",
       "<style scoped>\n",
       "    .dataframe tbody tr th:only-of-type {\n",
       "        vertical-align: middle;\n",
       "    }\n",
       "\n",
       "    .dataframe tbody tr th {\n",
       "        vertical-align: top;\n",
       "    }\n",
       "\n",
       "    .dataframe thead th {\n",
       "        text-align: right;\n",
       "    }\n",
       "</style>\n",
       "<table border=\"1\" class=\"dataframe\">\n",
       "  <thead>\n",
       "    <tr style=\"text-align: right;\">\n",
       "      <th></th>\n",
       "      <th>JPM</th>\n",
       "      <th>MA</th>\n",
       "      <th>BRK-B</th>\n",
       "      <th>MS</th>\n",
       "      <th>BLK</th>\n",
       "      <th>GS</th>\n",
       "      <th>PYPL</th>\n",
       "      <th>DFS</th>\n",
       "    </tr>\n",
       "    <tr>\n",
       "      <th>Date</th>\n",
       "      <th></th>\n",
       "      <th></th>\n",
       "      <th></th>\n",
       "      <th></th>\n",
       "      <th></th>\n",
       "      <th></th>\n",
       "      <th></th>\n",
       "      <th></th>\n",
       "    </tr>\n",
       "  </thead>\n",
       "  <tbody>\n",
       "    <tr>\n",
       "      <th>2023-02-22</th>\n",
       "      <td>-0.007663</td>\n",
       "      <td>-0.002781</td>\n",
       "      <td>0.001453</td>\n",
       "      <td>-0.003585</td>\n",
       "      <td>-0.011987</td>\n",
       "      <td>-0.000637</td>\n",
       "      <td>0.003190</td>\n",
       "      <td>0.009675</td>\n",
       "    </tr>\n",
       "    <tr>\n",
       "      <th>2023-02-23</th>\n",
       "      <td>0.008011</td>\n",
       "      <td>0.001578</td>\n",
       "      <td>-0.000297</td>\n",
       "      <td>0.006888</td>\n",
       "      <td>0.006445</td>\n",
       "      <td>0.007343</td>\n",
       "      <td>-0.003842</td>\n",
       "      <td>0.010221</td>\n",
       "    </tr>\n",
       "    <tr>\n",
       "      <th>2023-02-24</th>\n",
       "      <td>0.009021</td>\n",
       "      <td>-0.006779</td>\n",
       "      <td>0.003135</td>\n",
       "      <td>-0.002451</td>\n",
       "      <td>-0.012156</td>\n",
       "      <td>0.000853</td>\n",
       "      <td>-0.021811</td>\n",
       "      <td>0.013731</td>\n",
       "    </tr>\n",
       "    <tr>\n",
       "      <th>2023-02-27</th>\n",
       "      <td>0.008728</td>\n",
       "      <td>0.006683</td>\n",
       "      <td>0.002105</td>\n",
       "      <td>-0.010235</td>\n",
       "      <td>-0.000541</td>\n",
       "      <td>0.004617</td>\n",
       "      <td>0.002991</td>\n",
       "      <td>-0.006862</td>\n",
       "    </tr>\n",
       "    <tr>\n",
       "      <th>2023-02-28</th>\n",
       "      <td>0.008371</td>\n",
       "      <td>-0.000534</td>\n",
       "      <td>0.001707</td>\n",
       "      <td>-0.002068</td>\n",
       "      <td>0.009326</td>\n",
       "      <td>-0.037972</td>\n",
       "      <td>-0.002304</td>\n",
       "      <td>0.004935</td>\n",
       "    </tr>\n",
       "    <tr>\n",
       "      <th>2023-03-01</th>\n",
       "      <td>-0.005581</td>\n",
       "      <td>-0.005038</td>\n",
       "      <td>-0.001835</td>\n",
       "      <td>-0.003212</td>\n",
       "      <td>-0.012866</td>\n",
       "      <td>-0.008363</td>\n",
       "      <td>0.002989</td>\n",
       "      <td>0.008393</td>\n",
       "    </tr>\n",
       "    <tr>\n",
       "      <th>2023-03-02</th>\n",
       "      <td>-0.010382</td>\n",
       "      <td>0.005856</td>\n",
       "      <td>0.010275</td>\n",
       "      <td>-0.001144</td>\n",
       "      <td>0.007861</td>\n",
       "      <td>0.008289</td>\n",
       "      <td>0.003793</td>\n",
       "      <td>-0.005047</td>\n",
       "    </tr>\n",
       "    <tr>\n",
       "      <th>2023-03-03</th>\n",
       "      <td>0.018360</td>\n",
       "      <td>0.016677</td>\n",
       "      <td>0.015272</td>\n",
       "      <td>0.023418</td>\n",
       "      <td>0.013602</td>\n",
       "      <td>0.022887</td>\n",
       "      <td>0.029555</td>\n",
       "      <td>0.021358</td>\n",
       "    </tr>\n",
       "  </tbody>\n",
       "</table>\n",
       "</div>"
      ],
      "text/plain": [
       "                 JPM        MA     BRK-B        MS       BLK        GS  \\\n",
       "Date                                                                     \n",
       "2023-02-22 -0.007663 -0.002781  0.001453 -0.003585 -0.011987 -0.000637   \n",
       "2023-02-23  0.008011  0.001578 -0.000297  0.006888  0.006445  0.007343   \n",
       "2023-02-24  0.009021 -0.006779  0.003135 -0.002451 -0.012156  0.000853   \n",
       "2023-02-27  0.008728  0.006683  0.002105 -0.010235 -0.000541  0.004617   \n",
       "2023-02-28  0.008371 -0.000534  0.001707 -0.002068  0.009326 -0.037972   \n",
       "2023-03-01 -0.005581 -0.005038 -0.001835 -0.003212 -0.012866 -0.008363   \n",
       "2023-03-02 -0.010382  0.005856  0.010275 -0.001144  0.007861  0.008289   \n",
       "2023-03-03  0.018360  0.016677  0.015272  0.023418  0.013602  0.022887   \n",
       "\n",
       "                PYPL       DFS  \n",
       "Date                            \n",
       "2023-02-22  0.003190  0.009675  \n",
       "2023-02-23 -0.003842  0.010221  \n",
       "2023-02-24 -0.021811  0.013731  \n",
       "2023-02-27  0.002991 -0.006862  \n",
       "2023-02-28 -0.002304  0.004935  \n",
       "2023-03-01  0.002989  0.008393  \n",
       "2023-03-02  0.003793 -0.005047  \n",
       "2023-03-03  0.029555  0.021358  "
      ]
     },
     "execution_count": 328,
     "metadata": {},
     "output_type": "execute_result"
    }
   ],
   "source": [
    "tada=data_returns(tickers,start_date,end_date)\n",
    "tada"
   ]
  },
  {
   "cell_type": "code",
   "execution_count": 308,
   "metadata": {},
   "outputs": [
    {
     "data": {
      "text/plain": [
       "8"
      ]
     },
     "execution_count": 308,
     "metadata": {},
     "output_type": "execute_result"
    }
   ],
   "source": [
    "np.shape(tada)[1]"
   ]
  },
  {
   "cell_type": "code",
   "execution_count": 329,
   "metadata": {},
   "outputs": [],
   "source": [
    "def Pond(n):\n",
    "    \"\"\"Donne la pondération pour un portefeuille composé de n actifs\"\"\"\n",
    "    W=np.random.randint(1,10,n)  # Generation de n entiers compris entre 1 et 10\n",
    "    W= W/np.sum(W) #  Normalisation pour aoir la somme de spondérations égale à 1\n",
    "    return W\n"
   ]
  },
  {
   "cell_type": "code",
   "execution_count": 330,
   "metadata": {},
   "outputs": [
    {
     "data": {
      "text/html": [
       "<div>\n",
       "<style scoped>\n",
       "    .dataframe tbody tr th:only-of-type {\n",
       "        vertical-align: middle;\n",
       "    }\n",
       "\n",
       "    .dataframe tbody tr th {\n",
       "        vertical-align: top;\n",
       "    }\n",
       "\n",
       "    .dataframe thead th {\n",
       "        text-align: right;\n",
       "    }\n",
       "</style>\n",
       "<table border=\"1\" class=\"dataframe\">\n",
       "  <thead>\n",
       "    <tr style=\"text-align: right;\">\n",
       "      <th></th>\n",
       "      <th>0</th>\n",
       "      <th>JPM</th>\n",
       "      <th>MA</th>\n",
       "      <th>BRK-B</th>\n",
       "      <th>MS</th>\n",
       "      <th>BLK</th>\n",
       "      <th>GS</th>\n",
       "      <th>PYPL</th>\n",
       "      <th>DFS</th>\n",
       "    </tr>\n",
       "  </thead>\n",
       "  <tbody>\n",
       "    <tr>\n",
       "      <th>0</th>\n",
       "      <td>mean</td>\n",
       "      <td>0.051714</td>\n",
       "      <td>0.027759</td>\n",
       "      <td>0.057139</td>\n",
       "      <td>0.013401</td>\n",
       "      <td>-0.000554</td>\n",
       "      <td>-0.005207</td>\n",
       "      <td>0.025783</td>\n",
       "      <td>0.10336</td>\n",
       "    </tr>\n",
       "  </tbody>\n",
       "</table>\n",
       "</div>"
      ],
      "text/plain": [
       "      0       JPM        MA     BRK-B        MS       BLK        GS      PYPL  \\\n",
       "0  mean  0.051714  0.027759  0.057139  0.013401 -0.000554 -0.005207  0.025783   \n",
       "\n",
       "       DFS  \n",
       "0  0.10336  "
      ]
     },
     "execution_count": 330,
     "metadata": {},
     "output_type": "execute_result"
    }
   ],
   "source": [
    "def Rentabilté(resultat):\n",
    "    \"\"\" Retourne la rentabilité trimestriel de chaque actif \"\"\"\n",
    "    # act= list des actifs qui composeront le portefeuille\n",
    "    mu=pd.DataFrame([\"mean\"])\n",
    "    for i in range(np.shape(resultat)[1]):\n",
    "        mu[resultat.columns[i]]= (1+np.mean(resultat.iloc[:,i]))**14-1\n",
    "    return mu\n",
    "\n",
    "Rentabilté(tada)"
   ]
  },
  {
   "cell_type": "code",
   "execution_count": 331,
   "metadata": {},
   "outputs": [
    {
     "data": {
      "text/plain": [
       "array([ 0.05931739,  0.0317874 ,  0.06556447,  0.01533016, -0.00063272,\n",
       "       -0.00594866,  0.02952056,  0.11897357])"
      ]
     },
     "execution_count": 331,
     "metadata": {},
     "output_type": "execute_result"
    }
   ],
   "source": [
    "def Rentabilty(resultat):\n",
    "    \"\"\" Retourne la rentabilité trimestriel de chaque actif \"\"\"\n",
    "    # act= list des actifs qui composeront le portefeuille\n",
    "    mu=np.zeros(np.shape(resultat)[1])\n",
    "    for i in range(np.shape(resultat)[1]):\n",
    "        mu[i]= (1+np.mean(resultat.iloc[:,i]))**16-1\n",
    "    return mu\n",
    "\n",
    "Rentabilty(tada)"
   ]
  },
  {
   "cell_type": "code",
   "execution_count": 332,
   "metadata": {},
   "outputs": [
    {
     "data": {
      "text/html": [
       "<div>\n",
       "<style scoped>\n",
       "    .dataframe tbody tr th:only-of-type {\n",
       "        vertical-align: middle;\n",
       "    }\n",
       "\n",
       "    .dataframe tbody tr th {\n",
       "        vertical-align: top;\n",
       "    }\n",
       "\n",
       "    .dataframe thead th {\n",
       "        text-align: right;\n",
       "    }\n",
       "</style>\n",
       "<table border=\"1\" class=\"dataframe\">\n",
       "  <thead>\n",
       "    <tr style=\"text-align: right;\">\n",
       "      <th></th>\n",
       "      <th>JPM</th>\n",
       "      <th>MA</th>\n",
       "      <th>BRK-B</th>\n",
       "      <th>MS</th>\n",
       "      <th>BLK</th>\n",
       "      <th>GS</th>\n",
       "      <th>PYPL</th>\n",
       "      <th>DFS</th>\n",
       "    </tr>\n",
       "  </thead>\n",
       "  <tbody>\n",
       "    <tr>\n",
       "      <th>JPM</th>\n",
       "      <td>0.000357</td>\n",
       "      <td>0.000121</td>\n",
       "      <td>0.000058</td>\n",
       "      <td>0.000191</td>\n",
       "      <td>0.000172</td>\n",
       "      <td>0.000092</td>\n",
       "      <td>0.000093</td>\n",
       "      <td>0.000152</td>\n",
       "    </tr>\n",
       "    <tr>\n",
       "      <th>MA</th>\n",
       "      <td>0.000121</td>\n",
       "      <td>0.000202</td>\n",
       "      <td>0.000123</td>\n",
       "      <td>0.000176</td>\n",
       "      <td>0.000225</td>\n",
       "      <td>0.000266</td>\n",
       "      <td>0.000310</td>\n",
       "      <td>0.000011</td>\n",
       "    </tr>\n",
       "    <tr>\n",
       "      <th>BRK-B</th>\n",
       "      <td>0.000058</td>\n",
       "      <td>0.000123</td>\n",
       "      <td>0.000116</td>\n",
       "      <td>0.000139</td>\n",
       "      <td>0.000134</td>\n",
       "      <td>0.000201</td>\n",
       "      <td>0.000181</td>\n",
       "      <td>0.000041</td>\n",
       "    </tr>\n",
       "    <tr>\n",
       "      <th>MS</th>\n",
       "      <td>0.000191</td>\n",
       "      <td>0.000176</td>\n",
       "      <td>0.000139</td>\n",
       "      <td>0.000360</td>\n",
       "      <td>0.000225</td>\n",
       "      <td>0.000316</td>\n",
       "      <td>0.000324</td>\n",
       "      <td>0.000241</td>\n",
       "    </tr>\n",
       "    <tr>\n",
       "      <th>BLK</th>\n",
       "      <td>0.000172</td>\n",
       "      <td>0.000225</td>\n",
       "      <td>0.000134</td>\n",
       "      <td>0.000225</td>\n",
       "      <td>0.000412</td>\n",
       "      <td>0.000085</td>\n",
       "      <td>0.000284</td>\n",
       "      <td>-0.000011</td>\n",
       "    </tr>\n",
       "    <tr>\n",
       "      <th>GS</th>\n",
       "      <td>0.000092</td>\n",
       "      <td>0.000266</td>\n",
       "      <td>0.000201</td>\n",
       "      <td>0.000316</td>\n",
       "      <td>0.000085</td>\n",
       "      <td>0.001079</td>\n",
       "      <td>0.000367</td>\n",
       "      <td>0.000128</td>\n",
       "    </tr>\n",
       "    <tr>\n",
       "      <th>PYPL</th>\n",
       "      <td>0.000093</td>\n",
       "      <td>0.000310</td>\n",
       "      <td>0.000181</td>\n",
       "      <td>0.000324</td>\n",
       "      <td>0.000284</td>\n",
       "      <td>0.000367</td>\n",
       "      <td>0.000686</td>\n",
       "      <td>0.000096</td>\n",
       "    </tr>\n",
       "    <tr>\n",
       "      <th>DFS</th>\n",
       "      <td>0.000152</td>\n",
       "      <td>0.000011</td>\n",
       "      <td>0.000041</td>\n",
       "      <td>0.000241</td>\n",
       "      <td>-0.000011</td>\n",
       "      <td>0.000128</td>\n",
       "      <td>0.000096</td>\n",
       "      <td>0.000303</td>\n",
       "    </tr>\n",
       "  </tbody>\n",
       "</table>\n",
       "</div>"
      ],
      "text/plain": [
       "            JPM        MA     BRK-B        MS       BLK        GS      PYPL  \\\n",
       "JPM    0.000357  0.000121  0.000058  0.000191  0.000172  0.000092  0.000093   \n",
       "MA     0.000121  0.000202  0.000123  0.000176  0.000225  0.000266  0.000310   \n",
       "BRK-B  0.000058  0.000123  0.000116  0.000139  0.000134  0.000201  0.000181   \n",
       "MS     0.000191  0.000176  0.000139  0.000360  0.000225  0.000316  0.000324   \n",
       "BLK    0.000172  0.000225  0.000134  0.000225  0.000412  0.000085  0.000284   \n",
       "GS     0.000092  0.000266  0.000201  0.000316  0.000085  0.001079  0.000367   \n",
       "PYPL   0.000093  0.000310  0.000181  0.000324  0.000284  0.000367  0.000686   \n",
       "DFS    0.000152  0.000011  0.000041  0.000241 -0.000011  0.000128  0.000096   \n",
       "\n",
       "            DFS  \n",
       "JPM    0.000152  \n",
       "MA     0.000011  \n",
       "BRK-B  0.000041  \n",
       "MS     0.000241  \n",
       "BLK   -0.000011  \n",
       "GS     0.000128  \n",
       "PYPL   0.000096  \n",
       "DFS    0.000303  "
      ]
     },
     "execution_count": 332,
     "metadata": {},
     "output_type": "execute_result"
    }
   ],
   "source": [
    "def Matcov(resultat):\n",
    "    \"\"\"Calculer la matrice de ariance coariance des différents actifs\"\"\"\n",
    "    sigma= resultat.cov()* np.sqrt(12)\n",
    "    return sigma\n",
    "\n",
    "Matcov(tada)"
   ]
  },
  {
   "cell_type": "code",
   "execution_count": 333,
   "metadata": {},
   "outputs": [],
   "source": [
    "def PortfolioStat(act, sim=100):\n",
    "    \"\"\"Retourne la rentabilité et la ariances des différents portefeuilles simulés\"\"\"\n",
    "    resultat= data_returns(act,start_date,end_date)\n",
    "    mu= Rentabilty(resultat) #  Rentabilité des actifs\n",
    "    sigma= Matcov(resultat)  # Matrice de variance covariance des différents  actifs\n",
    "    n= int(len(act))\n",
    "    W=np.zeros((sim,n))\n",
    "    moy=np.zeros(sim)\n",
    "    theta=np.zeros(sim)\n",
    "    \n",
    "\n",
    "    for i in range(sim):\n",
    "        wi= Pond(n) # POndération de chaque portefeuille\n",
    "        moy[i]= np.dot(wi.T,mu)   # Rentabilité espérée du portefeuille\n",
    "        theta[i]  = np.dot(wi.T,np.dot(sigma, wi))   #Volatilité de chaque portefeuille\n",
    "        W[i]= wi   # incrémenter au fur et à mesure une matrice des pondérations\n",
    "         # incrémentation des moyennes\n",
    "         # incrémentations des variances\n",
    "    results= list()    #liste qui contiendra la matrice des pondérations, le vecteur rentabilité, et le vecteur variance pour chaque simulation\n",
    "    results.append(W) \n",
    "    results.append(moy)\n",
    "    results.append(theta)\n",
    "    return results\n",
    "\n"
   ]
  },
  {
   "cell_type": "code",
   "execution_count": 334,
   "metadata": {},
   "outputs": [
    {
     "name": "stdout",
     "output_type": "stream",
     "text": [
      "[*********************100%***********************]  1 of 1 completed\n",
      "[*********************100%***********************]  1 of 1 completed\n",
      "[*********************100%***********************]  1 of 1 completed\n",
      "[*********************100%***********************]  1 of 1 completed\n",
      "[*********************100%***********************]  1 of 1 completed\n",
      "[*********************100%***********************]  1 of 1 completed\n",
      "[*********************100%***********************]  1 of 1 completed\n",
      "[*********************100%***********************]  1 of 1 completed\n"
     ]
    }
   ],
   "source": [
    "data=PortfolioStat(tickers,50000)"
   ]
  },
  {
   "cell_type": "code",
   "execution_count": 335,
   "metadata": {},
   "outputs": [
    {
     "data": {
      "image/png": "[encoded data removed]",
      "text/plain": [
       "<Figure size 640x480 with 1 Axes>"
      ]
     },
     "metadata": {},
     "output_type": "display_data"
    }
   ],
   "source": [
    "plt.scatter(data[2],data[1])\n",
    "plt.show()"
   ]
  },
  {
   "cell_type": "code",
   "execution_count": 336,
   "metadata": {},
   "outputs": [],
   "source": [
    "def GMV(portfolio):\n",
    "      min_ = min(portfolio[2])\n",
    "      index= np.where(portfolio[2]==min_)\n",
    "      return [portfolio[0][index],portfolio[1][index],portfolio[2][index]]"
   ]
  },
  {
   "cell_type": "code",
   "execution_count": 337,
   "metadata": {},
   "outputs": [
    {
     "data": {
      "text/plain": [
       "[array([[0.09677419, 0.19354839, 0.25806452, 0.03225806, 0.09677419,\n",
       "         0.03225806, 0.03225806, 0.25806452]]),\n",
       " array([0.06070919]),\n",
       " array([0.00013054])]"
      ]
     },
     "execution_count": 337,
     "metadata": {},
     "output_type": "execute_result"
    }
   ],
   "source": [
    "GMV(data)"
   ]
  },
  {
   "cell_type": "code",
   "execution_count": 338,
   "metadata": {},
   "outputs": [],
   "source": [
    "def MaxSharpeRate(portfolio, rf):\n",
    "    max_= max((portfolio[1]-rf)/portfolio[2])\n",
    "    index=np.where(((portfolio[1]-rf)/portfolio[2])==max_)\n",
    "    return  [portfolio[0][index],portfolio[1][index],portfolio[2][index]]\n"
   ]
  },
  {
   "cell_type": "code",
   "execution_count": 339,
   "metadata": {},
   "outputs": [
    {
     "data": {
      "text/plain": [
       "[array([[0.12, 0.04, 0.32, 0.04, 0.08, 0.04, 0.04, 0.32]]),\n",
       " array([0.06894722]),\n",
       " array([0.0001329])]"
      ]
     },
     "execution_count": 339,
     "metadata": {},
     "output_type": "execute_result"
    }
   ],
   "source": [
    "dat=MaxSharpeRate(data,0.001)\n",
    "dat"
   ]
  },
  {
   "cell_type": "code",
   "execution_count": 340,
   "metadata": {},
   "outputs": [],
   "source": [
    "def calcul_Rp(data, pond):\n",
    "    return np.dot(data,pond.T)"
   ]
  },
  {
   "cell_type": "code",
   "execution_count": 341,
   "metadata": {},
   "outputs": [
    {
     "data": {
      "text/plain": [
       "0.09047164775416316"
      ]
     },
     "execution_count": 341,
     "metadata": {},
     "output_type": "execute_result"
    }
   ],
   "source": [
    "Rp=calcul_Rp(tada,dat[0])\n",
    "np.mean(Rp)\n",
    "(np.mean(Rp)+1)**21 -1"
   ]
  },
  {
   "cell_type": "code",
   "execution_count": 342,
   "metadata": {},
   "outputs": [
    {
     "name": "stdout",
     "output_type": "stream",
     "text": [
      "[*********************100%***********************]  1 of 1 completed\n"
     ]
    },
    {
     "data": {
      "text/plain": [
       "Adj Close    0.024804\n",
       "dtype: float64"
      ]
     },
     "execution_count": 342,
     "metadata": {},
     "output_type": "execute_result"
    }
   ],
   "source": [
    "rm=yf.download(\"^GSPC\",start_date,end_date)\n",
    "Rm=rm[[\"Adj Close\"]].pct_change().dropna()\n",
    "Rm.mean()\n",
    "(Rm.mean()+1)**16 -1\n"
   ]
  },
  {
   "cell_type": "code",
   "execution_count": 343,
   "metadata": {},
   "outputs": [],
   "source": [
    "def beta(Rm,Rp):\n",
    "    data=pd.DataFrame()\n",
    "    data[[\"Rm\"]]=Rm\n",
    "    data[[\"Rp\"]]=Rp\n",
    "    return (data.cov().iloc[1,0]/np.var(data[[\"Rm\"]])).iloc[0]"
   ]
  },
  {
   "cell_type": "code",
   "execution_count": 344,
   "metadata": {},
   "outputs": [
    {
     "data": {
      "text/plain": [
       "0.5622276626162427"
      ]
     },
     "execution_count": 344,
     "metadata": {},
     "output_type": "execute_result"
    }
   ],
   "source": [
    "beta(Rm,Rp)\n"
   ]
  },
  {
   "cell_type": "code",
   "execution_count": 345,
   "metadata": {},
   "outputs": [
    {
     "data": {
      "text/plain": [
       "Adj Close    0.57461\n",
       "dtype: float64"
      ]
     },
     "execution_count": 345,
     "metadata": {},
     "output_type": "execute_result"
    }
   ],
   "source": [
    "\n",
    "def beta_fit(Rp,Rm):\n",
    "    data=pd.DataFrame()\n",
    "    data=Rm\n",
    "    data[[\"Rp\"]]=Rp\n",
    "    \n",
    "    model= smf.OLS(Rp,Rm[[\"Adj Close\"]])\n",
    "    fit=model.fit()\n",
    "    return fit.params\n",
    "\n",
    "beta_fit(Rp,Rm) "
   ]
  },
  {
   "cell_type": "code",
   "execution_count": 346,
   "metadata": {},
   "outputs": [],
   "source": [
    "def treynor(Rp, Rm,rf):\n",
    "    return (np.mean(Rp-rf))/beta(Rm,Rp)"
   ]
  },
  {
   "cell_type": "code",
   "execution_count": 347,
   "metadata": {},
   "outputs": [
    {
     "ename": "ValueError",
     "evalue": "Columns must be same length as key",
     "output_type": "error",
     "traceback": [
      "\u001b[1;31m---------------------------------------------------------------------------\u001b[0m",
      "\u001b[1;31mValueError\u001b[0m                                Traceback (most recent call last)",
      "Cell \u001b[1;32mIn[347], line 1\u001b[0m\n\u001b[1;32m----> 1\u001b[0m treynor(Rp, Rm,\u001b[39m0.005\u001b[39;49m)\n",
      "Cell \u001b[1;32mIn[346], line 2\u001b[0m, in \u001b[0;36mtreynor\u001b[1;34m(Rp, Rm, rf)\u001b[0m\n\u001b[0;32m      1\u001b[0m \u001b[39mdef\u001b[39;00m \u001b[39mtreynor\u001b[39m(Rp, Rm,rf):\n\u001b[1;32m----> 2\u001b[0m     \u001b[39mreturn\u001b[39;00m (np\u001b[39m.\u001b[39mmean(Rp\u001b[39m-\u001b[39mrf))\u001b[39m/\u001b[39mbeta(Rm,Rp)\n",
      "Cell \u001b[1;32mIn[343], line 3\u001b[0m, in \u001b[0;36mbeta\u001b[1;34m(Rm, Rp)\u001b[0m\n\u001b[0;32m      1\u001b[0m \u001b[39mdef\u001b[39;00m \u001b[39mbeta\u001b[39m(Rm,Rp):\n\u001b[0;32m      2\u001b[0m     data\u001b[39m=\u001b[39mpd\u001b[39m.\u001b[39mDataFrame()\n\u001b[1;32m----> 3\u001b[0m     data[[\u001b[39m\"\u001b[39;49m\u001b[39mRm\u001b[39;49m\u001b[39m\"\u001b[39;49m]]\u001b[39m=\u001b[39mRm\n\u001b[0;32m      4\u001b[0m     data[[\u001b[39m\"\u001b[39m\u001b[39mRp\u001b[39m\u001b[39m\"\u001b[39m]]\u001b[39m=\u001b[39mRp\n\u001b[0;32m      5\u001b[0m     \u001b[39mreturn\u001b[39;00m (data\u001b[39m.\u001b[39mcov()\u001b[39m.\u001b[39miloc[\u001b[39m1\u001b[39m,\u001b[39m0\u001b[39m]\u001b[39m/\u001b[39mnp\u001b[39m.\u001b[39mvar(data[[\u001b[39m\"\u001b[39m\u001b[39mRm\u001b[39m\u001b[39m\"\u001b[39m]]))\u001b[39m.\u001b[39miloc[\u001b[39m0\u001b[39m]\n",
      "File \u001b[1;32mc:\\Users\\hp\\AppData\\Local\\Programs\\Python\\Python310\\lib\\site-packages\\pandas\\core\\frame.py:3966\u001b[0m, in \u001b[0;36mDataFrame.__setitem__\u001b[1;34m(self, key, value)\u001b[0m\n\u001b[0;32m   3964\u001b[0m     \u001b[39mself\u001b[39m\u001b[39m.\u001b[39m_setitem_frame(key, value)\n\u001b[0;32m   3965\u001b[0m \u001b[39melif\u001b[39;00m \u001b[39misinstance\u001b[39m(key, (Series, np\u001b[39m.\u001b[39mndarray, \u001b[39mlist\u001b[39m, Index)):\n\u001b[1;32m-> 3966\u001b[0m     \u001b[39mself\u001b[39;49m\u001b[39m.\u001b[39;49m_setitem_array(key, value)\n\u001b[0;32m   3967\u001b[0m \u001b[39melif\u001b[39;00m \u001b[39misinstance\u001b[39m(value, DataFrame):\n\u001b[0;32m   3968\u001b[0m     \u001b[39mself\u001b[39m\u001b[39m.\u001b[39m_set_item_frame_value(key, value)\n",
      "File \u001b[1;32mc:\\Users\\hp\\AppData\\Local\\Programs\\Python\\Python310\\lib\\site-packages\\pandas\\core\\frame.py:4008\u001b[0m, in \u001b[0;36mDataFrame._setitem_array\u001b[1;34m(self, key, value)\u001b[0m\n\u001b[0;32m   4003\u001b[0m \u001b[39melse\u001b[39;00m:\n\u001b[0;32m   4004\u001b[0m     \u001b[39m# Note: unlike self.iloc[:, indexer] = value, this will\u001b[39;00m\n\u001b[0;32m   4005\u001b[0m     \u001b[39m#  never try to overwrite values inplace\u001b[39;00m\n\u001b[0;32m   4007\u001b[0m     \u001b[39mif\u001b[39;00m \u001b[39misinstance\u001b[39m(value, DataFrame):\n\u001b[1;32m-> 4008\u001b[0m         check_key_length(\u001b[39mself\u001b[39;49m\u001b[39m.\u001b[39;49mcolumns, key, value)\n\u001b[0;32m   4009\u001b[0m         \u001b[39mfor\u001b[39;00m k1, k2 \u001b[39min\u001b[39;00m \u001b[39mzip\u001b[39m(key, value\u001b[39m.\u001b[39mcolumns):\n\u001b[0;32m   4010\u001b[0m             \u001b[39mself\u001b[39m[k1] \u001b[39m=\u001b[39m value[k2]\n",
      "File \u001b[1;32mc:\\Users\\hp\\AppData\\Local\\Programs\\Python\\Python310\\lib\\site-packages\\pandas\\core\\indexers\\utils.py:401\u001b[0m, in \u001b[0;36mcheck_key_length\u001b[1;34m(columns, key, value)\u001b[0m\n\u001b[0;32m    399\u001b[0m \u001b[39mif\u001b[39;00m columns\u001b[39m.\u001b[39mis_unique:\n\u001b[0;32m    400\u001b[0m     \u001b[39mif\u001b[39;00m \u001b[39mlen\u001b[39m(value\u001b[39m.\u001b[39mcolumns) \u001b[39m!=\u001b[39m \u001b[39mlen\u001b[39m(key):\n\u001b[1;32m--> 401\u001b[0m         \u001b[39mraise\u001b[39;00m \u001b[39mValueError\u001b[39;00m(\u001b[39m\"\u001b[39m\u001b[39mColumns must be same length as key\u001b[39m\u001b[39m\"\u001b[39m)\n\u001b[0;32m    402\u001b[0m \u001b[39melse\u001b[39;00m:\n\u001b[0;32m    403\u001b[0m     \u001b[39m# Missing keys in columns are represented as -1\u001b[39;00m\n\u001b[0;32m    404\u001b[0m     \u001b[39mif\u001b[39;00m \u001b[39mlen\u001b[39m(columns\u001b[39m.\u001b[39mget_indexer_non_unique(key)[\u001b[39m0\u001b[39m]) \u001b[39m!=\u001b[39m \u001b[39mlen\u001b[39m(value\u001b[39m.\u001b[39mcolumns):\n",
      "\u001b[1;31mValueError\u001b[0m: Columns must be same length as key"
     ]
    }
   ],
   "source": [
    "treynor(Rp, Rm,0.005)"
   ]
  },
  {
   "cell_type": "code",
   "execution_count": null,
   "metadata": {},
   "outputs": [],
   "source": [
    "def alphaJensen(Rp, Rm,rf):\n",
    "    return np.mean(Rp)-(rf + beta(Rm,Rp)*(Rm.mean().iloc[0]-rf))"
   ]
  },
  {
   "cell_type": "code",
   "execution_count": null,
   "metadata": {},
   "outputs": [
    {
     "ename": "ValueError",
     "evalue": "Columns must be same length as key",
     "output_type": "error",
     "traceback": [
      "\u001b[1;31m---------------------------------------------------------------------------\u001b[0m",
      "\u001b[1;31mValueError\u001b[0m                                Traceback (most recent call last)",
      "Cell \u001b[1;32mIn[66], line 1\u001b[0m\n\u001b[1;32m----> 1\u001b[0m alphaJensen(Rp, Rm,\u001b[39m0.05\u001b[39;49m)\n",
      "Cell \u001b[1;32mIn[65], line 2\u001b[0m, in \u001b[0;36malphaJensen\u001b[1;34m(Rp, Rm, rf)\u001b[0m\n\u001b[0;32m      1\u001b[0m \u001b[39mdef\u001b[39;00m \u001b[39malphaJensen\u001b[39m(Rp, Rm,rf):\n\u001b[1;32m----> 2\u001b[0m     \u001b[39mreturn\u001b[39;00m np\u001b[39m.\u001b[39mmean(Rp)\u001b[39m-\u001b[39m(rf \u001b[39m+\u001b[39m beta(Rm,Rp)\u001b[39m*\u001b[39m(Rm\u001b[39m.\u001b[39mmean()\u001b[39m.\u001b[39miloc[\u001b[39m0\u001b[39m]\u001b[39m-\u001b[39mrf))\n",
      "Cell \u001b[1;32mIn[58], line 3\u001b[0m, in \u001b[0;36mbeta\u001b[1;34m(Rm, Rp)\u001b[0m\n\u001b[0;32m      1\u001b[0m \u001b[39mdef\u001b[39;00m \u001b[39mbeta\u001b[39m(Rm,Rp):\n\u001b[0;32m      2\u001b[0m     data\u001b[39m=\u001b[39mpd\u001b[39m.\u001b[39mDataFrame()\n\u001b[1;32m----> 3\u001b[0m     data[[\u001b[39m\"\u001b[39;49m\u001b[39mRm\u001b[39;49m\u001b[39m\"\u001b[39;49m]]\u001b[39m=\u001b[39mRm\n\u001b[0;32m      4\u001b[0m     data[[\u001b[39m\"\u001b[39m\u001b[39mRp\u001b[39m\u001b[39m\"\u001b[39m]]\u001b[39m=\u001b[39mRp\n\u001b[0;32m      5\u001b[0m     \u001b[39mreturn\u001b[39;00m (data\u001b[39m.\u001b[39mcov()\u001b[39m.\u001b[39miloc[\u001b[39m1\u001b[39m,\u001b[39m0\u001b[39m]\u001b[39m/\u001b[39mnp\u001b[39m.\u001b[39mvar(data[[\u001b[39m\"\u001b[39m\u001b[39mRm\u001b[39m\u001b[39m\"\u001b[39m]]))\u001b[39m.\u001b[39miloc[\u001b[39m0\u001b[39m]\n",
      "File \u001b[1;32mc:\\Users\\hp\\AppData\\Local\\Programs\\Python\\Python310\\lib\\site-packages\\pandas\\core\\frame.py:3966\u001b[0m, in \u001b[0;36mDataFrame.__setitem__\u001b[1;34m(self, key, value)\u001b[0m\n\u001b[0;32m   3964\u001b[0m     \u001b[39mself\u001b[39m\u001b[39m.\u001b[39m_setitem_frame(key, value)\n\u001b[0;32m   3965\u001b[0m \u001b[39melif\u001b[39;00m \u001b[39misinstance\u001b[39m(key, (Series, np\u001b[39m.\u001b[39mndarray, \u001b[39mlist\u001b[39m, Index)):\n\u001b[1;32m-> 3966\u001b[0m     \u001b[39mself\u001b[39;49m\u001b[39m.\u001b[39;49m_setitem_array(key, value)\n\u001b[0;32m   3967\u001b[0m \u001b[39melif\u001b[39;00m \u001b[39misinstance\u001b[39m(value, DataFrame):\n\u001b[0;32m   3968\u001b[0m     \u001b[39mself\u001b[39m\u001b[39m.\u001b[39m_set_item_frame_value(key, value)\n",
      "File \u001b[1;32mc:\\Users\\hp\\AppData\\Local\\Programs\\Python\\Python310\\lib\\site-packages\\pandas\\core\\frame.py:4008\u001b[0m, in \u001b[0;36mDataFrame._setitem_array\u001b[1;34m(self, key, value)\u001b[0m\n\u001b[0;32m   4003\u001b[0m \u001b[39melse\u001b[39;00m:\n\u001b[0;32m   4004\u001b[0m     \u001b[39m# Note: unlike self.iloc[:, indexer] = value, this will\u001b[39;00m\n\u001b[0;32m   4005\u001b[0m     \u001b[39m#  never try to overwrite values inplace\u001b[39;00m\n\u001b[0;32m   4007\u001b[0m     \u001b[39mif\u001b[39;00m \u001b[39misinstance\u001b[39m(value, DataFrame):\n\u001b[1;32m-> 4008\u001b[0m         check_key_length(\u001b[39mself\u001b[39;49m\u001b[39m.\u001b[39;49mcolumns, key, value)\n\u001b[0;32m   4009\u001b[0m         \u001b[39mfor\u001b[39;00m k1, k2 \u001b[39min\u001b[39;00m \u001b[39mzip\u001b[39m(key, value\u001b[39m.\u001b[39mcolumns):\n\u001b[0;32m   4010\u001b[0m             \u001b[39mself\u001b[39m[k1] \u001b[39m=\u001b[39m value[k2]\n",
      "File \u001b[1;32mc:\\Users\\hp\\AppData\\Local\\Programs\\Python\\Python310\\lib\\site-packages\\pandas\\core\\indexers\\utils.py:401\u001b[0m, in \u001b[0;36mcheck_key_length\u001b[1;34m(columns, key, value)\u001b[0m\n\u001b[0;32m    399\u001b[0m \u001b[39mif\u001b[39;00m columns\u001b[39m.\u001b[39mis_unique:\n\u001b[0;32m    400\u001b[0m     \u001b[39mif\u001b[39;00m \u001b[39mlen\u001b[39m(value\u001b[39m.\u001b[39mcolumns) \u001b[39m!=\u001b[39m \u001b[39mlen\u001b[39m(key):\n\u001b[1;32m--> 401\u001b[0m         \u001b[39mraise\u001b[39;00m \u001b[39mValueError\u001b[39;00m(\u001b[39m\"\u001b[39m\u001b[39mColumns must be same length as key\u001b[39m\u001b[39m\"\u001b[39m)\n\u001b[0;32m    402\u001b[0m \u001b[39melse\u001b[39;00m:\n\u001b[0;32m    403\u001b[0m     \u001b[39m# Missing keys in columns are represented as -1\u001b[39;00m\n\u001b[0;32m    404\u001b[0m     \u001b[39mif\u001b[39;00m \u001b[39mlen\u001b[39m(columns\u001b[39m.\u001b[39mget_indexer_non_unique(key)[\u001b[39m0\u001b[39m]) \u001b[39m!=\u001b[39m \u001b[39mlen\u001b[39m(value\u001b[39m.\u001b[39mcolumns):\n",
      "\u001b[1;31mValueError\u001b[0m: Columns must be same length as key"
     ]
    }
   ],
   "source": [
    "alphaJensen(Rp, Rm,0.05)"
   ]
  },
  {
   "cell_type": "code",
   "execution_count": null,
   "metadata": {},
   "outputs": [
    {
     "data": {
      "text/plain": [
       "0.0008100946585958208"
      ]
     },
     "execution_count": 150,
     "metadata": {},
     "output_type": "execute_result"
    }
   ],
   "source": [
    "Rm.mean().iloc[0]"
   ]
  },
  {
   "cell_type": "code",
   "execution_count": null,
   "metadata": {},
   "outputs": [],
   "source": []
  }
 ],
 "metadata": {
  "kernelspec": {
   "display_name": "Python 3",
   "language": "python",
   "name": "python3"
  },
  "language_info": {
   "codemirror_mode": {
    "name": "ipython",
    "version": 3
   },
   "file_extension": ".py",
   "mimetype": "text/x-python",
   "name": "python",
   "nbconvert_exporter": "python",
   "pygments_lexer": "ipython3",
   "version": "3.10.6"
  },
  "orig_nbformat": 4,
  "vscode": {
   "interpreter": {
    "hash": "63963b3f4c440940f0b94a3100916033a226cb4f45979123153792d60aa56d6a"
   }
  }
 },
 "nbformat": 4,
 "nbformat_minor": 2
}
