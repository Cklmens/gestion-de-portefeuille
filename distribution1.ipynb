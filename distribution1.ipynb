{
 "cells": [
  {
   "cell_type": "code",
   "execution_count": 4,
   "metadata": {},
   "outputs": [],
   "source": [
    "import yfinance as yf\n",
    "import matplotlib.pyplot as plt\n",
    "import pandas as pd\n",
    "import numpy as np\n",
    "import statsmodels.api as smf\n",
    "import scipy.stats \n",
    "from scipy import stats"
   ]
  },
  {
   "cell_type": "code",
   "execution_count": 5,
   "metadata": {},
   "outputs": [],
   "source": [
    "start_date= '2022-01-01'\n",
    "end_date=\"2023-04-01\"\n",
    "tickers=[\"GOOGL\", \"MSFT\", \"GC=F\", \"TSLA\",'AAPL', \"BABA\"]\n",
    "\n",
    "ticker=[\"TSLA\"]"
   ]
  },
  {
   "cell_type": "code",
   "execution_count": 6,
   "metadata": {},
   "outputs": [],
   "source": [
    "def data_returns(tickers,date1,date2):\n",
    "    returns=pd.DataFrame()\n",
    "    for i in range(len(tickers)):\n",
    "        data=yf.download(tickers[i],date1,date2)\n",
    "        returns[tickers[i]]=((data[\"Adj Close\"].pct_change()).dropna())\n",
    "       \n",
    "    return returns"
   ]
  },
  {
   "cell_type": "code",
   "execution_count": 7,
   "metadata": {},
   "outputs": [
    {
     "name": "stdout",
     "output_type": "stream",
     "text": [
      "[*********************100%***********************]  1 of 1 completed\n"
     ]
    }
   ],
   "source": [
    "dat=data_returns([\"BABA\"],start_date,end_date)"
   ]
  },
  {
   "cell_type": "code",
   "execution_count": 8,
   "metadata": {},
   "outputs": [],
   "source": [
    "#data=np.random.normal(0,1,1000)\n"
   ]
  },
  {
   "cell_type": "code",
   "execution_count": 9,
   "metadata": {},
   "outputs": [],
   "source": [
    "def distribution_fit(data):\n",
    " from sklearn.metrics import r2_score\n",
    " y, x = np.histogram(data, bins=100, density=True)\n",
    " x = (x + np.roll(x, -1))[:-1] / 2.0\n",
    " list_loi = ['norm', 'beta','gamma', 'pareto', 't', 'lognorm', 'invgamma', 'invgauss',  'loggamma', 'alpha', 'chi', 'chi2','rayleigh',\"logistic\",\"genextreme\",\"weibull_max\"]\n",
    " sse=[]\n",
    " rsq=[]\n",
    " best_distribution=[]\n",
    "\n",
    " for  i  in  range(len(list_loi)) :\n",
    "    #modélisation\n",
    "    loi=getattr(scipy.stats, list_loi[i])\n",
    "    loi_fit=loi.fit(data)\n",
    "\n",
    "    #parametres\n",
    "    loc= loi_fit[-2]\n",
    "    scale=loi_fit[-1]\n",
    "    arg=loi_fit[:-2]\n",
    "\n",
    "    #pdf\n",
    "    pdf=loi.pdf(x, loc=loc,scale=scale, *arg)\n",
    "\n",
    "    #Rmse\n",
    "    sse=np.sum((y-pdf)**2)\n",
    "    #R_squared\n",
    "    rsq=round(r2_score(y,pdf),2)\n",
    "    best_distribution.append([loi,loi_fit,sse,rsq,list_loi[i]])\n",
    "\n",
    " return sorted(best_distribution, key=lambda x:x[2])\n",
    " \n"
   ]
  },
  {
   "cell_type": "code",
   "execution_count": 10,
   "metadata": {},
   "outputs": [
    {
     "data": {
      "text/plain": [
       "()"
      ]
     },
     "execution_count": 10,
     "metadata": {},
     "output_type": "execute_result"
    }
   ],
   "source": [
    "scipy.stats.norm.fit(dat)[:-2]"
   ]
  },
  {
   "cell_type": "code",
   "execution_count": 11,
   "metadata": {},
   "outputs": [],
   "source": [
    "\"\"\"Generate distributions's Probability Distribution Function \"\"\"\n",
    "def make_pdf(dist, params, size=10000):\n",
    "    # Separate parts of parameters\n",
    "    arg = params[:-2]\n",
    "    loc = params[-2]\n",
    "    scale = params[-1]\n",
    "    # Get sane start and end points of distribution\n",
    "    start = dist.ppf(0.01, *arg, loc=loc, scale=scale) if arg else dist.ppf(0.01, loc=loc, scale=scale)\n",
    "    end = dist.ppf(0.99, *arg, loc=loc, scale=scale) if arg else dist.ppf(0.99, loc=loc, scale=scale)\n",
    "    # Build PDF and turn into pandas Series\n",
    "    x = np.linspace(start, end, size)\n",
    "    y = dist.pdf(x, loc=loc, scale=scale, *arg)\n",
    "    pdf = pd.Series(y, x)\n",
    "    return pdf"
   ]
  },
  {
   "cell_type": "code",
   "execution_count": 12,
   "metadata": {},
   "outputs": [],
   "source": [
    "def parm(modele):\n",
    "    return [modele[-1], modele[1]]\n"
   ]
  },
  {
   "cell_type": "code",
   "execution_count": 13,
   "metadata": {},
   "outputs": [],
   "source": [
    "def ks_test(modele,title):\n",
    "    kstest=pd.DataFrame()\n",
    "\n",
    "    for i in range(len(modele)):\n",
    "       kstest[modele[i][-1]]=stats.kstest(title, modele[i][-1] ,args=(modele[i][1]))\n",
    "    return kstest\n",
    "\n",
    "\n",
    "\n"
   ]
  },
  {
   "cell_type": "code",
   "execution_count": 14,
   "metadata": {},
   "outputs": [],
   "source": [
    "\n",
    "tick=[\"NCPL\",\"DHIL\", \"GROW\", \"VALU\", \"NMIH\", \"ACT\", \"SEIC\", \"WAFD\", \"MKTX\",'CRVL', \" ERIE\",\"FANH\",\"TW\",'SNEX', \" HGBL\"]"
   ]
  },
  {
   "cell_type": "code",
   "execution_count": 15,
   "metadata": {},
   "outputs": [
    {
     "name": "stdout",
     "output_type": "stream",
     "text": [
      "[*********************100%***********************]  1 of 1 completed\n",
      "[*********************100%***********************]  1 of 1 completed\n",
      "[*********************100%***********************]  1 of 1 completed\n",
      "[*********************100%***********************]  1 of 1 completed\n",
      "[*********************100%***********************]  1 of 1 completed\n",
      "[*********************100%***********************]  1 of 1 completed\n",
      "[*********************100%***********************]  1 of 1 completed\n",
      "[*********************100%***********************]  1 of 1 completed\n",
      "[*********************100%***********************]  1 of 1 completed\n",
      "[*********************100%***********************]  1 of 1 completed\n",
      "[*********************100%***********************]  1 of 1 completed\n",
      "[*********************100%***********************]  1 of 1 completed\n",
      "[*********************100%***********************]  1 of 1 completed\n",
      "[*********************100%***********************]  1 of 1 completed\n",
      "[*********************100%***********************]  1 of 1 completed\n"
     ]
    },
    {
     "ename": "KeyError",
     "evalue": "'GC=F'",
     "output_type": "error",
     "traceback": [
      "\u001b[1;31m---------------------------------------------------------------------------\u001b[0m",
      "\u001b[1;31mKeyError\u001b[0m                                  Traceback (most recent call last)",
      "File \u001b[1;32mc:\\Users\\hp\\AppData\\Local\\Programs\\Python\\Python310\\lib\\site-packages\\pandas\\core\\indexes\\base.py:3803\u001b[0m, in \u001b[0;36mIndex.get_loc\u001b[1;34m(self, key, method, tolerance)\u001b[0m\n\u001b[0;32m   3802\u001b[0m \u001b[39mtry\u001b[39;00m:\n\u001b[1;32m-> 3803\u001b[0m     \u001b[39mreturn\u001b[39;00m \u001b[39mself\u001b[39;49m\u001b[39m.\u001b[39;49m_engine\u001b[39m.\u001b[39;49mget_loc(casted_key)\n\u001b[0;32m   3804\u001b[0m \u001b[39mexcept\u001b[39;00m \u001b[39mKeyError\u001b[39;00m \u001b[39mas\u001b[39;00m err:\n",
      "File \u001b[1;32mc:\\Users\\hp\\AppData\\Local\\Programs\\Python\\Python310\\lib\\site-packages\\pandas\\_libs\\index.pyx:138\u001b[0m, in \u001b[0;36mpandas._libs.index.IndexEngine.get_loc\u001b[1;34m()\u001b[0m\n",
      "File \u001b[1;32mc:\\Users\\hp\\AppData\\Local\\Programs\\Python\\Python310\\lib\\site-packages\\pandas\\_libs\\index.pyx:165\u001b[0m, in \u001b[0;36mpandas._libs.index.IndexEngine.get_loc\u001b[1;34m()\u001b[0m\n",
      "File \u001b[1;32mpandas\\_libs\\hashtable_class_helper.pxi:5745\u001b[0m, in \u001b[0;36mpandas._libs.hashtable.PyObjectHashTable.get_item\u001b[1;34m()\u001b[0m\n",
      "File \u001b[1;32mpandas\\_libs\\hashtable_class_helper.pxi:5753\u001b[0m, in \u001b[0;36mpandas._libs.hashtable.PyObjectHashTable.get_item\u001b[1;34m()\u001b[0m\n",
      "\u001b[1;31mKeyError\u001b[0m: 'GC=F'",
      "\nThe above exception was the direct cause of the following exception:\n",
      "\u001b[1;31mKeyError\u001b[0m                                  Traceback (most recent call last)",
      "Cell \u001b[1;32mIn[15], line 6\u001b[0m\n\u001b[0;32m      1\u001b[0m tickers\u001b[39m=\u001b[39m[\u001b[39m\"\u001b[39m\u001b[39mGOOGL\u001b[39m\u001b[39m\"\u001b[39m, \u001b[39m\"\u001b[39m\u001b[39mMSFT\u001b[39m\u001b[39m\"\u001b[39m, \u001b[39m\"\u001b[39m\u001b[39mGC=F\u001b[39m\u001b[39m\"\u001b[39m, \u001b[39m\"\u001b[39m\u001b[39mTSLA\u001b[39m\u001b[39m\"\u001b[39m,\u001b[39m'\u001b[39m\u001b[39mAAPL\u001b[39m\u001b[39m'\u001b[39m, \u001b[39m\"\u001b[39m\u001b[39mBABA\u001b[39m\u001b[39m\"\u001b[39m, \u001b[39m\"\u001b[39m\u001b[39m^IXIC\u001b[39m\u001b[39m\"\u001b[39m, \u001b[39m\"\u001b[39m\u001b[39m^TNX\u001b[39m\u001b[39m\"\u001b[39m]\n\u001b[0;32m      4\u001b[0m tech\u001b[39m=\u001b[39mdata_returns(tick,\u001b[39m\"\u001b[39m\u001b[39m2023-01-01\u001b[39m\u001b[39m\"\u001b[39m,\u001b[39m\"\u001b[39m\u001b[39m2023-04-01\u001b[39m\u001b[39m\"\u001b[39m)\n\u001b[1;32m----> 6\u001b[0m stats\u001b[39m.\u001b[39mkstest(tech[\u001b[39m\"\u001b[39;49m\u001b[39mGC=F\u001b[39;49m\u001b[39m\"\u001b[39;49m],\u001b[39m'\u001b[39m\u001b[39mt\u001b[39m\u001b[39m'\u001b[39m,args\u001b[39m=\u001b[39m( (\u001b[39m3.0295110611565326\u001b[39m, \u001b[39m0.0009095407238531756\u001b[39m, \u001b[39m0.006570758729865104\u001b[39m)))\n",
      "File \u001b[1;32mc:\\Users\\hp\\AppData\\Local\\Programs\\Python\\Python310\\lib\\site-packages\\pandas\\core\\frame.py:3805\u001b[0m, in \u001b[0;36mDataFrame.__getitem__\u001b[1;34m(self, key)\u001b[0m\n\u001b[0;32m   3803\u001b[0m \u001b[39mif\u001b[39;00m \u001b[39mself\u001b[39m\u001b[39m.\u001b[39mcolumns\u001b[39m.\u001b[39mnlevels \u001b[39m>\u001b[39m \u001b[39m1\u001b[39m:\n\u001b[0;32m   3804\u001b[0m     \u001b[39mreturn\u001b[39;00m \u001b[39mself\u001b[39m\u001b[39m.\u001b[39m_getitem_multilevel(key)\n\u001b[1;32m-> 3805\u001b[0m indexer \u001b[39m=\u001b[39m \u001b[39mself\u001b[39;49m\u001b[39m.\u001b[39;49mcolumns\u001b[39m.\u001b[39;49mget_loc(key)\n\u001b[0;32m   3806\u001b[0m \u001b[39mif\u001b[39;00m is_integer(indexer):\n\u001b[0;32m   3807\u001b[0m     indexer \u001b[39m=\u001b[39m [indexer]\n",
      "File \u001b[1;32mc:\\Users\\hp\\AppData\\Local\\Programs\\Python\\Python310\\lib\\site-packages\\pandas\\core\\indexes\\base.py:3805\u001b[0m, in \u001b[0;36mIndex.get_loc\u001b[1;34m(self, key, method, tolerance)\u001b[0m\n\u001b[0;32m   3803\u001b[0m     \u001b[39mreturn\u001b[39;00m \u001b[39mself\u001b[39m\u001b[39m.\u001b[39m_engine\u001b[39m.\u001b[39mget_loc(casted_key)\n\u001b[0;32m   3804\u001b[0m \u001b[39mexcept\u001b[39;00m \u001b[39mKeyError\u001b[39;00m \u001b[39mas\u001b[39;00m err:\n\u001b[1;32m-> 3805\u001b[0m     \u001b[39mraise\u001b[39;00m \u001b[39mKeyError\u001b[39;00m(key) \u001b[39mfrom\u001b[39;00m \u001b[39merr\u001b[39;00m\n\u001b[0;32m   3806\u001b[0m \u001b[39mexcept\u001b[39;00m \u001b[39mTypeError\u001b[39;00m:\n\u001b[0;32m   3807\u001b[0m     \u001b[39m# If we have a listlike key, _check_indexing_error will raise\u001b[39;00m\n\u001b[0;32m   3808\u001b[0m     \u001b[39m#  InvalidIndexError. Otherwise we fall through and re-raise\u001b[39;00m\n\u001b[0;32m   3809\u001b[0m     \u001b[39m#  the TypeError.\u001b[39;00m\n\u001b[0;32m   3810\u001b[0m     \u001b[39mself\u001b[39m\u001b[39m.\u001b[39m_check_indexing_error(key)\n",
      "\u001b[1;31mKeyError\u001b[0m: 'GC=F'"
     ]
    }
   ],
   "source": [
    "\n",
    "\n",
    "tickers=[\"GOOGL\", \"MSFT\", \"GC=F\", \"TSLA\",'AAPL', \"BABA\", \"^IXIC\", \"^TNX\"]\n",
    "\n",
    "\n",
    "tech=data_returns(tick,\"2023-01-01\",\"2023-04-01\")\n",
    "\n",
    "stats.kstest(tech[\"GC=F\"],'t',args=( (3.0295110611565326, 0.0009095407238531756, 0.006570758729865104)))\n"
   ]
  },
  {
   "cell_type": "code",
   "execution_count": null,
   "metadata": {},
   "outputs": [
    {
     "name": "stderr",
     "output_type": "stream",
     "text": [
      "c:\\Users\\hp\\AppData\\Local\\Programs\\Python\\Python310\\lib\\site-packages\\scipy\\stats\\_continuous_distns.py:707: RuntimeWarning: invalid value encountered in sqrt\n",
      "  sk = 2*(b-a)*np.sqrt(a + b + 1) / (a + b + 2) / np.sqrt(a*b)\n",
      "c:\\Users\\hp\\AppData\\Local\\Programs\\Python\\Python310\\lib\\site-packages\\scipy\\optimize\\_minpack_py.py:175: RuntimeWarning: The iteration is not making good progress, as measured by the \n",
      "  improvement from the last ten iterations.\n",
      "  warnings.warn(msg, RuntimeWarning)\n",
      "c:\\Users\\hp\\AppData\\Local\\Programs\\Python\\Python310\\lib\\site-packages\\scipy\\stats\\_distn_infrastructure.py:2781: RuntimeWarning: invalid value encountered in multiply\n",
      "  Lhat = muhat - Shat*mu\n",
      "c:\\Users\\hp\\AppData\\Local\\Programs\\Python\\Python310\\lib\\site-packages\\scipy\\stats\\_distn_infrastructure.py:2781: RuntimeWarning: invalid value encountered in multiply\n",
      "  Lhat = muhat - Shat*mu\n"
     ]
    },
    {
     "data": {
      "text/html": [
       "<div>\n",
       "<style scoped>\n",
       "    .dataframe tbody tr th:only-of-type {\n",
       "        vertical-align: middle;\n",
       "    }\n",
       "\n",
       "    .dataframe tbody tr th {\n",
       "        vertical-align: top;\n",
       "    }\n",
       "\n",
       "    .dataframe thead th {\n",
       "        text-align: right;\n",
       "    }\n",
       "</style>\n",
       "<table border=\"1\" class=\"dataframe\">\n",
       "  <thead>\n",
       "    <tr style=\"text-align: right;\">\n",
       "      <th></th>\n",
       "      <th>t</th>\n",
       "      <th>logistic</th>\n",
       "      <th>lognorm</th>\n",
       "      <th>gamma</th>\n",
       "      <th>beta</th>\n",
       "      <th>norm</th>\n",
       "      <th>alpha</th>\n",
       "      <th>loggamma</th>\n",
       "      <th>invgamma</th>\n",
       "      <th>invgauss</th>\n",
       "      <th>genextreme</th>\n",
       "      <th>rayleigh</th>\n",
       "      <th>pareto</th>\n",
       "      <th>chi</th>\n",
       "      <th>chi2</th>\n",
       "      <th>weibull_max</th>\n",
       "    </tr>\n",
       "  </thead>\n",
       "  <tbody>\n",
       "    <tr>\n",
       "      <th>0</th>\n",
       "      <td>0.063170</td>\n",
       "      <td>0.081347</td>\n",
       "      <td>0.110523</td>\n",
       "      <td>0.111585</td>\n",
       "      <td>0.110469</td>\n",
       "      <td>0.111335</td>\n",
       "      <td>0.120279</td>\n",
       "      <td>0.111773</td>\n",
       "      <td>0.120024</td>\n",
       "      <td>0.133328</td>\n",
       "      <td>0.120995</td>\n",
       "      <td>0.282876</td>\n",
       "      <td>4.099947e-01</td>\n",
       "      <td>5.032771e-01</td>\n",
       "      <td>4.943229e-01</td>\n",
       "      <td>4.920619e-01</td>\n",
       "    </tr>\n",
       "    <tr>\n",
       "      <th>1</th>\n",
       "      <td>0.955257</td>\n",
       "      <td>0.783945</td>\n",
       "      <td>0.415450</td>\n",
       "      <td>0.403664</td>\n",
       "      <td>0.416060</td>\n",
       "      <td>0.406423</td>\n",
       "      <td>0.315004</td>\n",
       "      <td>0.401607</td>\n",
       "      <td>0.317395</td>\n",
       "      <td>0.208780</td>\n",
       "      <td>0.308341</td>\n",
       "      <td>0.000082</td>\n",
       "      <td>8.693129e-10</td>\n",
       "      <td>7.954771e-15</td>\n",
       "      <td>2.759167e-14</td>\n",
       "      <td>3.759885e-14</td>\n",
       "    </tr>\n",
       "  </tbody>\n",
       "</table>\n",
       "</div>"
      ],
      "text/plain": [
       "          t  logistic   lognorm     gamma      beta      norm     alpha  \\\n",
       "0  0.063170  0.081347  0.110523  0.111585  0.110469  0.111335  0.120279   \n",
       "1  0.955257  0.783945  0.415450  0.403664  0.416060  0.406423  0.315004   \n",
       "\n",
       "   loggamma  invgamma  invgauss  genextreme  rayleigh        pareto  \\\n",
       "0  0.111773  0.120024  0.133328    0.120995  0.282876  4.099947e-01   \n",
       "1  0.401607  0.317395  0.208780    0.308341  0.000082  8.693129e-10   \n",
       "\n",
       "            chi          chi2   weibull_max  \n",
       "0  5.032771e-01  4.943229e-01  4.920619e-01  \n",
       "1  7.954771e-15  2.759167e-14  3.759885e-14  "
      ]
     },
     "execution_count": 20,
     "metadata": {},
     "output_type": "execute_result"
    }
   ],
   "source": [
    "ks_test(distribution_fit(tech[\"GC=F\"]),tech[\"GC=F\"])"
   ]
  },
  {
   "cell_type": "code",
   "execution_count": null,
   "metadata": {},
   "outputs": [
    {
     "data": {
      "text/plain": [
       "KstestResult(statistic=0.0631698268410228, pvalue=0.9552568979876569)"
      ]
     },
     "execution_count": 21,
     "metadata": {},
     "output_type": "execute_result"
    }
   ],
   "source": [
    "stats.kstest(tech[\"GC=F\"],'t',args=( (3.0295110611565326, 0.0009095407238531756, 0.006570758729865104)))"
   ]
  },
  {
   "cell_type": "code",
   "execution_count": null,
   "metadata": {},
   "outputs": [
    {
     "name": "stderr",
     "output_type": "stream",
     "text": [
      "c:\\Users\\hp\\AppData\\Local\\Programs\\Python\\Python310\\lib\\site-packages\\scipy\\stats\\_continuous_distns.py:707: RuntimeWarning: invalid value encountered in sqrt\n",
      "  sk = 2*(b-a)*np.sqrt(a + b + 1) / (a + b + 2) / np.sqrt(a*b)\n",
      "c:\\Users\\hp\\AppData\\Local\\Programs\\Python\\Python310\\lib\\site-packages\\scipy\\optimize\\_minpack_py.py:175: RuntimeWarning: The iteration is not making good progress, as measured by the \n",
      "  improvement from the last ten iterations.\n",
      "  warnings.warn(msg, RuntimeWarning)\n",
      "c:\\Users\\hp\\AppData\\Local\\Programs\\Python\\Python310\\lib\\site-packages\\scipy\\stats\\_distn_infrastructure.py:2781: RuntimeWarning: invalid value encountered in multiply\n",
      "  Lhat = muhat - Shat*mu\n",
      "c:\\Users\\hp\\AppData\\Local\\Programs\\Python\\Python310\\lib\\site-packages\\scipy\\stats\\_distn_infrastructure.py:2781: RuntimeWarning: invalid value encountered in multiply\n",
      "  Lhat = muhat - Shat*mu\n"
     ]
    },
    {
     "data": {
      "text/plain": [
       "[<scipy.stats._continuous_distns.t_gen at 0x1b9183b8850>,\n",
       " (3.0295110611565326, 0.0009095407238531756, 0.006570758729865104),\n",
       " 62502.61164090412,\n",
       " 0.33,\n",
       " 't']"
      ]
     },
     "execution_count": 22,
     "metadata": {},
     "output_type": "execute_result"
    }
   ],
   "source": [
    "\n",
    "distribution_fit(tech[\"GC=F\"])[0]"
   ]
  },
  {
   "cell_type": "code",
   "execution_count": 16,
   "metadata": {},
   "outputs": [
    {
     "name": "stderr",
     "output_type": "stream",
     "text": [
      "c:\\Users\\hp\\AppData\\Local\\Programs\\Python\\Python310\\lib\\site-packages\\scipy\\stats\\_continuous_distns.py:707: RuntimeWarning: invalid value encountered in sqrt\n",
      "  sk = 2*(b-a)*np.sqrt(a + b + 1) / (a + b + 2) / np.sqrt(a*b)\n",
      "c:\\Users\\hp\\AppData\\Local\\Programs\\Python\\Python310\\lib\\site-packages\\scipy\\optimize\\_minpack_py.py:175: RuntimeWarning: The iteration is not making good progress, as measured by the \n",
      "  improvement from the last ten iterations.\n",
      "  warnings.warn(msg, RuntimeWarning)\n",
      "c:\\Users\\hp\\AppData\\Local\\Programs\\Python\\Python310\\lib\\site-packages\\scipy\\stats\\_distn_infrastructure.py:2781: RuntimeWarning: invalid value encountered in multiply\n",
      "  Lhat = muhat - Shat*mu\n",
      "c:\\Users\\hp\\AppData\\Local\\Programs\\Python\\Python310\\lib\\site-packages\\scipy\\stats\\_distn_infrastructure.py:2781: RuntimeWarning: invalid value encountered in multiply\n",
      "  Lhat = muhat - Shat*mu\n",
      "c:\\Users\\hp\\AppData\\Local\\Programs\\Python\\Python310\\lib\\site-packages\\scipy\\stats\\_continuous_distns.py:707: RuntimeWarning: invalid value encountered in sqrt\n",
      "  sk = 2*(b-a)*np.sqrt(a + b + 1) / (a + b + 2) / np.sqrt(a*b)\n",
      "c:\\Users\\hp\\AppData\\Local\\Programs\\Python\\Python310\\lib\\site-packages\\scipy\\optimize\\_minpack_py.py:175: RuntimeWarning: The iteration is not making good progress, as measured by the \n",
      "  improvement from the last ten iterations.\n",
      "  warnings.warn(msg, RuntimeWarning)\n",
      "c:\\Users\\hp\\AppData\\Local\\Programs\\Python\\Python310\\lib\\site-packages\\scipy\\stats\\_distn_infrastructure.py:2781: RuntimeWarning: invalid value encountered in multiply\n",
      "  Lhat = muhat - Shat*mu\n",
      "c:\\Users\\hp\\AppData\\Local\\Programs\\Python\\Python310\\lib\\site-packages\\scipy\\stats\\_distn_infrastructure.py:2781: RuntimeWarning: invalid value encountered in multiply\n",
      "  Lhat = muhat - Shat*mu\n",
      "c:\\Users\\hp\\AppData\\Local\\Programs\\Python\\Python310\\lib\\site-packages\\scipy\\stats\\_continuous_distns.py:707: RuntimeWarning: invalid value encountered in sqrt\n",
      "  sk = 2*(b-a)*np.sqrt(a + b + 1) / (a + b + 2) / np.sqrt(a*b)\n",
      "c:\\Users\\hp\\AppData\\Local\\Programs\\Python\\Python310\\lib\\site-packages\\scipy\\optimize\\_minpack_py.py:175: RuntimeWarning: The iteration is not making good progress, as measured by the \n",
      "  improvement from the last ten iterations.\n",
      "  warnings.warn(msg, RuntimeWarning)\n",
      "c:\\Users\\hp\\AppData\\Local\\Programs\\Python\\Python310\\lib\\site-packages\\scipy\\stats\\_distn_infrastructure.py:2781: RuntimeWarning: invalid value encountered in multiply\n",
      "  Lhat = muhat - Shat*mu\n",
      "c:\\Users\\hp\\AppData\\Local\\Programs\\Python\\Python310\\lib\\site-packages\\scipy\\stats\\_distn_infrastructure.py:2781: RuntimeWarning: invalid value encountered in multiply\n",
      "  Lhat = muhat - Shat*mu\n",
      "c:\\Users\\hp\\AppData\\Local\\Programs\\Python\\Python310\\lib\\site-packages\\scipy\\stats\\_continuous_distns.py:707: RuntimeWarning: invalid value encountered in sqrt\n",
      "  sk = 2*(b-a)*np.sqrt(a + b + 1) / (a + b + 2) / np.sqrt(a*b)\n",
      "c:\\Users\\hp\\AppData\\Local\\Programs\\Python\\Python310\\lib\\site-packages\\scipy\\optimize\\_minpack_py.py:175: RuntimeWarning: The iteration is not making good progress, as measured by the \n",
      "  improvement from the last ten iterations.\n",
      "  warnings.warn(msg, RuntimeWarning)\n",
      "c:\\Users\\hp\\AppData\\Local\\Programs\\Python\\Python310\\lib\\site-packages\\scipy\\stats\\_distn_infrastructure.py:2781: RuntimeWarning: invalid value encountered in multiply\n",
      "  Lhat = muhat - Shat*mu\n",
      "c:\\Users\\hp\\AppData\\Local\\Programs\\Python\\Python310\\lib\\site-packages\\scipy\\stats\\_distn_infrastructure.py:2781: RuntimeWarning: invalid value encountered in multiply\n",
      "  Lhat = muhat - Shat*mu\n",
      "c:\\Users\\hp\\AppData\\Local\\Programs\\Python\\Python310\\lib\\site-packages\\scipy\\stats\\_continuous_distns.py:707: RuntimeWarning: invalid value encountered in sqrt\n",
      "  sk = 2*(b-a)*np.sqrt(a + b + 1) / (a + b + 2) / np.sqrt(a*b)\n",
      "c:\\Users\\hp\\AppData\\Local\\Programs\\Python\\Python310\\lib\\site-packages\\scipy\\optimize\\_minpack_py.py:175: RuntimeWarning: The iteration is not making good progress, as measured by the \n",
      "  improvement from the last ten iterations.\n",
      "  warnings.warn(msg, RuntimeWarning)\n",
      "c:\\Users\\hp\\AppData\\Local\\Programs\\Python\\Python310\\lib\\site-packages\\scipy\\stats\\_distn_infrastructure.py:2781: RuntimeWarning: invalid value encountered in multiply\n",
      "  Lhat = muhat - Shat*mu\n",
      "c:\\Users\\hp\\AppData\\Local\\Programs\\Python\\Python310\\lib\\site-packages\\scipy\\stats\\_distn_infrastructure.py:2781: RuntimeWarning: invalid value encountered in multiply\n",
      "  Lhat = muhat - Shat*mu\n",
      "c:\\Users\\hp\\AppData\\Local\\Programs\\Python\\Python310\\lib\\site-packages\\scipy\\stats\\_continuous_distns.py:707: RuntimeWarning: invalid value encountered in sqrt\n",
      "  sk = 2*(b-a)*np.sqrt(a + b + 1) / (a + b + 2) / np.sqrt(a*b)\n",
      "c:\\Users\\hp\\AppData\\Local\\Programs\\Python\\Python310\\lib\\site-packages\\scipy\\optimize\\_minpack_py.py:175: RuntimeWarning: The iteration is not making good progress, as measured by the \n",
      "  improvement from the last ten iterations.\n",
      "  warnings.warn(msg, RuntimeWarning)\n",
      "c:\\Users\\hp\\AppData\\Local\\Programs\\Python\\Python310\\lib\\site-packages\\scipy\\stats\\_distn_infrastructure.py:2781: RuntimeWarning: invalid value encountered in multiply\n",
      "  Lhat = muhat - Shat*mu\n",
      "c:\\Users\\hp\\AppData\\Local\\Programs\\Python\\Python310\\lib\\site-packages\\scipy\\stats\\_distn_infrastructure.py:2781: RuntimeWarning: invalid value encountered in multiply\n",
      "  Lhat = muhat - Shat*mu\n",
      "c:\\Users\\hp\\AppData\\Local\\Programs\\Python\\Python310\\lib\\site-packages\\scipy\\stats\\_continuous_distns.py:707: RuntimeWarning: invalid value encountered in sqrt\n",
      "  sk = 2*(b-a)*np.sqrt(a + b + 1) / (a + b + 2) / np.sqrt(a*b)\n",
      "c:\\Users\\hp\\AppData\\Local\\Programs\\Python\\Python310\\lib\\site-packages\\scipy\\optimize\\_minpack_py.py:175: RuntimeWarning: The iteration is not making good progress, as measured by the \n",
      "  improvement from the last ten iterations.\n",
      "  warnings.warn(msg, RuntimeWarning)\n",
      "c:\\Users\\hp\\AppData\\Local\\Programs\\Python\\Python310\\lib\\site-packages\\scipy\\stats\\_distn_infrastructure.py:2781: RuntimeWarning: invalid value encountered in multiply\n",
      "  Lhat = muhat - Shat*mu\n",
      "c:\\Users\\hp\\AppData\\Local\\Programs\\Python\\Python310\\lib\\site-packages\\scipy\\stats\\_distn_infrastructure.py:2781: RuntimeWarning: invalid value encountered in multiply\n",
      "  Lhat = muhat - Shat*mu\n",
      "c:\\Users\\hp\\AppData\\Local\\Programs\\Python\\Python310\\lib\\site-packages\\scipy\\stats\\_continuous_distns.py:707: RuntimeWarning: invalid value encountered in sqrt\n",
      "  sk = 2*(b-a)*np.sqrt(a + b + 1) / (a + b + 2) / np.sqrt(a*b)\n",
      "c:\\Users\\hp\\AppData\\Local\\Programs\\Python\\Python310\\lib\\site-packages\\scipy\\optimize\\_minpack_py.py:175: RuntimeWarning: The iteration is not making good progress, as measured by the \n",
      "  improvement from the last ten iterations.\n",
      "  warnings.warn(msg, RuntimeWarning)\n",
      "c:\\Users\\hp\\AppData\\Local\\Programs\\Python\\Python310\\lib\\site-packages\\scipy\\stats\\_distn_infrastructure.py:2781: RuntimeWarning: invalid value encountered in multiply\n",
      "  Lhat = muhat - Shat*mu\n",
      "c:\\Users\\hp\\AppData\\Local\\Programs\\Python\\Python310\\lib\\site-packages\\scipy\\stats\\_distn_infrastructure.py:2781: RuntimeWarning: invalid value encountered in multiply\n",
      "  Lhat = muhat - Shat*mu\n",
      "c:\\Users\\hp\\AppData\\Local\\Programs\\Python\\Python310\\lib\\site-packages\\scipy\\stats\\_continuous_distns.py:707: RuntimeWarning: invalid value encountered in sqrt\n",
      "  sk = 2*(b-a)*np.sqrt(a + b + 1) / (a + b + 2) / np.sqrt(a*b)\n",
      "c:\\Users\\hp\\AppData\\Local\\Programs\\Python\\Python310\\lib\\site-packages\\scipy\\optimize\\_minpack_py.py:175: RuntimeWarning: The iteration is not making good progress, as measured by the \n",
      "  improvement from the last ten iterations.\n",
      "  warnings.warn(msg, RuntimeWarning)\n",
      "c:\\Users\\hp\\AppData\\Local\\Programs\\Python\\Python310\\lib\\site-packages\\scipy\\stats\\_distn_infrastructure.py:2781: RuntimeWarning: invalid value encountered in multiply\n",
      "  Lhat = muhat - Shat*mu\n",
      "c:\\Users\\hp\\AppData\\Local\\Programs\\Python\\Python310\\lib\\site-packages\\scipy\\stats\\_distn_infrastructure.py:2781: RuntimeWarning: invalid value encountered in multiply\n",
      "  Lhat = muhat - Shat*mu\n",
      "c:\\Users\\hp\\AppData\\Local\\Programs\\Python\\Python310\\lib\\site-packages\\scipy\\stats\\_continuous_distns.py:707: RuntimeWarning: invalid value encountered in sqrt\n",
      "  sk = 2*(b-a)*np.sqrt(a + b + 1) / (a + b + 2) / np.sqrt(a*b)\n",
      "c:\\Users\\hp\\AppData\\Local\\Programs\\Python\\Python310\\lib\\site-packages\\scipy\\optimize\\_minpack_py.py:175: RuntimeWarning: The iteration is not making good progress, as measured by the \n",
      "  improvement from the last ten iterations.\n",
      "  warnings.warn(msg, RuntimeWarning)\n",
      "c:\\Users\\hp\\AppData\\Local\\Programs\\Python\\Python310\\lib\\site-packages\\scipy\\stats\\_distn_infrastructure.py:2781: RuntimeWarning: invalid value encountered in multiply\n",
      "  Lhat = muhat - Shat*mu\n",
      "c:\\Users\\hp\\AppData\\Local\\Programs\\Python\\Python310\\lib\\site-packages\\scipy\\stats\\_distn_infrastructure.py:2781: RuntimeWarning: invalid value encountered in multiply\n",
      "  Lhat = muhat - Shat*mu\n"
     ]
    },
    {
     "data": {
      "image/png": "[encoded data removed]",
      "text/plain": [
       "<Figure size 640x480 with 1 Axes>"
      ]
     },
     "metadata": {},
     "output_type": "display_data"
    }
   ],
   "source": [
    "y, x = np.histogram(dat, bins=10000, density=True)\n",
    "x = (x + np.roll(x, -1))[:-1] / 2.0\n",
    "\n",
    "plt.hist(dat, bins=100, density=True)\n",
    "for i in range(5):\n",
    "   pdf_=make_pdf(distribution_fit(dat)[i][0],distribution_fit(dat)[i][1])\n",
    "   plt.plot(pdf_)\n",
    "   plt.xlabel(i)\n",
    "plt.show()"
   ]
  },
  {
   "cell_type": "code",
   "execution_count": null,
   "metadata": {},
   "outputs": [
    {
     "data": {
      "text/plain": [
       "[<matplotlib.lines.Line2D at 0x228af7e6e90>]"
      ]
     },
     "execution_count": 16,
     "metadata": {},
     "output_type": "execute_result"
    },
    {
     "data": {
      "image/png": "[encoded data removed]",
      "text/plain": [
       "<Figure size 640x480 with 1 Axes>"
      ]
     },
     "metadata": {},
     "output_type": "display_data"
    }
   ],
   "source": [
    "y, x = np.histogram(dat, bins=10000, density=True)\n",
    "x = (x + np.roll(x, -1))[:-1] / 2.0\n",
    "\n",
    "plt.hist(dat, bins=100, density=True)\n",
    "#plt.plot(x,y)\n",
    "plt.plot(pdf_)\n"
   ]
  },
  {
   "cell_type": "code",
   "execution_count": null,
   "metadata": {},
   "outputs": [
    {
     "name": "stderr",
     "output_type": "stream",
     "text": [
      "c:\\Users\\hp\\AppData\\Local\\Programs\\Python\\Python310\\lib\\site-packages\\scipy\\stats\\_continuous_distns.py:707: RuntimeWarning: invalid value encountered in sqrt\n",
      "  sk = 2*(b-a)*np.sqrt(a + b + 1) / (a + b + 2) / np.sqrt(a*b)\n",
      "c:\\Users\\hp\\AppData\\Local\\Programs\\Python\\Python310\\lib\\site-packages\\scipy\\optimize\\_minpack_py.py:175: RuntimeWarning: The iteration is not making good progress, as measured by the \n",
      "  improvement from the last ten iterations.\n",
      "  warnings.warn(msg, RuntimeWarning)\n",
      "c:\\Users\\hp\\AppData\\Local\\Programs\\Python\\Python310\\lib\\site-packages\\scipy\\stats\\_distn_infrastructure.py:2781: RuntimeWarning: invalid value encountered in multiply\n",
      "  Lhat = muhat - Shat*mu\n",
      "c:\\Users\\hp\\AppData\\Local\\Programs\\Python\\Python310\\lib\\site-packages\\scipy\\stats\\_distn_infrastructure.py:2781: RuntimeWarning: invalid value encountered in multiply\n",
      "  Lhat = muhat - Shat*mu\n",
      "c:\\Users\\hp\\AppData\\Local\\Programs\\Python\\Python310\\lib\\site-packages\\scipy\\stats\\_continuous_distns.py:707: RuntimeWarning: invalid value encountered in sqrt\n",
      "  sk = 2*(b-a)*np.sqrt(a + b + 1) / (a + b + 2) / np.sqrt(a*b)\n",
      "c:\\Users\\hp\\AppData\\Local\\Programs\\Python\\Python310\\lib\\site-packages\\scipy\\optimize\\_minpack_py.py:175: RuntimeWarning: The iteration is not making good progress, as measured by the \n",
      "  improvement from the last ten iterations.\n",
      "  warnings.warn(msg, RuntimeWarning)\n",
      "c:\\Users\\hp\\AppData\\Local\\Programs\\Python\\Python310\\lib\\site-packages\\scipy\\stats\\_distn_infrastructure.py:2781: RuntimeWarning: invalid value encountered in multiply\n",
      "  Lhat = muhat - Shat*mu\n",
      "c:\\Users\\hp\\AppData\\Local\\Programs\\Python\\Python310\\lib\\site-packages\\scipy\\stats\\_distn_infrastructure.py:2781: RuntimeWarning: invalid value encountered in multiply\n",
      "  Lhat = muhat - Shat*mu\n"
     ]
    },
    {
     "data": {
      "text/plain": [
       "array([ 0.01754361,  0.01749866,  0.00431177, -0.02450983, -0.00574433,\n",
       "       -0.03179746,  0.02016352, -0.01273337,  0.02044848,  0.05390836])"
      ]
     },
     "execution_count": 17,
     "metadata": {},
     "output_type": "execute_result"
    }
   ],
   "source": [
    "def generate_distribution(dist, params, size=10):\n",
    "    \"\"\"Generate distributions's Probability Distribution Function \"\"\"\n",
    "\n",
    "    # Separate parts of parameters\n",
    "    arg = params[:-2]\n",
    "    loc = params[-2]\n",
    "    scale = params[-1]\n",
    "\n",
    "    return dist.rvs(loc=loc, *arg,scale=scale, size=size ) if arg else dist.rvs(loc=loc, scale=scale, size=size)\n",
    "\n",
    "generate_distribution(distribution_fit(dat)[0][0],distribution_fit(dat)[0][1])\n"
   ]
  },
  {
   "cell_type": "code",
   "execution_count": 17,
   "metadata": {},
   "outputs": [],
   "source": [
    "def Simu_Return( actif):\n",
    "    \"\"\"Fonction qui permet de simuler la rentabilité d'un actif par la methode de MonteCarlo\"\"\"\n",
    "    N=1000  # nombre de simulation\n",
    "    resultats= distribution_fit(actif)[0]\n",
    "    loi=resultats[0]\n",
    "    loc=round(resultats[1][-2],2)\n",
    "    scale= round(resultats[1][-1],2)\n",
    "    hyper= resultats[1][:-2]\n",
    "    mu=np.zeros((N,63))\n",
    "    for i in range(N):\n",
    "        if hyper:\n",
    "            mu[i]= loi.rvs(loc=loc,*hyper,scale=scale,size=63)\n",
    "        else:\n",
    "            mu[i]=loi.rvs(loc=loc,scale=scale,size=63)\n",
    "    returns=np.zeros(63)\n",
    "    for i in range(63):\n",
    "        returns[i]=mu[:,i].mean()\n",
    "    return returns\n"
   ]
  },
  {
   "cell_type": "code",
   "execution_count": 18,
   "metadata": {},
   "outputs": [],
   "source": [
    "#dat.mean()"
   ]
  },
  {
   "cell_type": "code",
   "execution_count": 19,
   "metadata": {},
   "outputs": [],
   "source": [
    "def return_sim(tickers,date1,date2):\n",
    "    returns=pd.DataFrame()\n",
    "    for i in range(len(tickers)):\n",
    "        data=yf.download(tickers[i],date1,date2)\n",
    "        data=((data[\"Adj Close\"].pct_change()).dropna())\n",
    "        returns[tickers[i]]=Simu_Return(data)\n",
    "       \n",
    "    return returns"
   ]
  },
  {
   "cell_type": "code",
   "execution_count": 35,
   "metadata": {},
   "outputs": [],
   "source": [
    "tick=[\"NMIH\",  \"MKTX\",'CRVL',\"FANH\",\"TW\",'SNEX', \" HGBL\"]"
   ]
  },
  {
   "cell_type": "code",
   "execution_count": 36,
   "metadata": {},
   "outputs": [
    {
     "name": "stdout",
     "output_type": "stream",
     "text": [
      "[*********************100%***********************]  1 of 1 completed\n"
     ]
    },
    {
     "name": "stderr",
     "output_type": "stream",
     "text": [
      "c:\\Users\\hp\\AppData\\Local\\Programs\\Python\\Python310\\lib\\site-packages\\scipy\\stats\\_continuous_distns.py:707: RuntimeWarning: invalid value encountered in sqrt\n",
      "  sk = 2*(b-a)*np.sqrt(a + b + 1) / (a + b + 2) / np.sqrt(a*b)\n",
      "c:\\Users\\hp\\AppData\\Local\\Programs\\Python\\Python310\\lib\\site-packages\\scipy\\optimize\\_minpack_py.py:175: RuntimeWarning: The iteration is not making good progress, as measured by the \n",
      "  improvement from the last ten iterations.\n",
      "  warnings.warn(msg, RuntimeWarning)\n",
      "c:\\Users\\hp\\AppData\\Local\\Programs\\Python\\Python310\\lib\\site-packages\\scipy\\stats\\_distn_infrastructure.py:2781: RuntimeWarning: invalid value encountered in multiply\n",
      "  Lhat = muhat - Shat*mu\n",
      "c:\\Users\\hp\\AppData\\Local\\Programs\\Python\\Python310\\lib\\site-packages\\scipy\\stats\\_distn_infrastructure.py:2781: RuntimeWarning: invalid value encountered in multiply\n",
      "  Lhat = muhat - Shat*mu\n"
     ]
    },
    {
     "name": "stdout",
     "output_type": "stream",
     "text": [
      "[*********************100%***********************]  1 of 1 completed\n"
     ]
    },
    {
     "name": "stderr",
     "output_type": "stream",
     "text": [
      "c:\\Users\\hp\\AppData\\Local\\Programs\\Python\\Python310\\lib\\site-packages\\scipy\\stats\\_continuous_distns.py:707: RuntimeWarning: invalid value encountered in sqrt\n",
      "  sk = 2*(b-a)*np.sqrt(a + b + 1) / (a + b + 2) / np.sqrt(a*b)\n",
      "c:\\Users\\hp\\AppData\\Local\\Programs\\Python\\Python310\\lib\\site-packages\\scipy\\optimize\\_minpack_py.py:175: RuntimeWarning: The iteration is not making good progress, as measured by the \n",
      "  improvement from the last ten iterations.\n",
      "  warnings.warn(msg, RuntimeWarning)\n",
      "c:\\Users\\hp\\AppData\\Local\\Programs\\Python\\Python310\\lib\\site-packages\\scipy\\stats\\_distn_infrastructure.py:2781: RuntimeWarning: invalid value encountered in multiply\n",
      "  Lhat = muhat - Shat*mu\n",
      "c:\\Users\\hp\\AppData\\Local\\Programs\\Python\\Python310\\lib\\site-packages\\scipy\\stats\\_distn_infrastructure.py:2781: RuntimeWarning: invalid value encountered in multiply\n",
      "  Lhat = muhat - Shat*mu\n"
     ]
    },
    {
     "name": "stdout",
     "output_type": "stream",
     "text": [
      "[*********************100%***********************]  1 of 1 completed\n"
     ]
    },
    {
     "name": "stderr",
     "output_type": "stream",
     "text": [
      "c:\\Users\\hp\\AppData\\Local\\Programs\\Python\\Python310\\lib\\site-packages\\scipy\\stats\\_distn_infrastructure.py:2781: RuntimeWarning: invalid value encountered in multiply\n",
      "  Lhat = muhat - Shat*mu\n",
      "c:\\Users\\hp\\AppData\\Local\\Programs\\Python\\Python310\\lib\\site-packages\\scipy\\stats\\_distn_infrastructure.py:2781: RuntimeWarning: invalid value encountered in multiply\n",
      "  Lhat = muhat - Shat*mu\n"
     ]
    },
    {
     "name": "stdout",
     "output_type": "stream",
     "text": [
      "[*********************100%***********************]  1 of 1 completed\n"
     ]
    },
    {
     "name": "stderr",
     "output_type": "stream",
     "text": [
      "c:\\Users\\hp\\AppData\\Local\\Programs\\Python\\Python310\\lib\\site-packages\\scipy\\stats\\_continuous_distns.py:707: RuntimeWarning: invalid value encountered in sqrt\n",
      "  sk = 2*(b-a)*np.sqrt(a + b + 1) / (a + b + 2) / np.sqrt(a*b)\n",
      "c:\\Users\\hp\\AppData\\Local\\Programs\\Python\\Python310\\lib\\site-packages\\scipy\\optimize\\_minpack_py.py:175: RuntimeWarning: The iteration is not making good progress, as measured by the \n",
      "  improvement from the last ten iterations.\n",
      "  warnings.warn(msg, RuntimeWarning)\n",
      "c:\\Users\\hp\\AppData\\Local\\Programs\\Python\\Python310\\lib\\site-packages\\scipy\\stats\\_distn_infrastructure.py:2781: RuntimeWarning: invalid value encountered in multiply\n",
      "  Lhat = muhat - Shat*mu\n",
      "c:\\Users\\hp\\AppData\\Local\\Programs\\Python\\Python310\\lib\\site-packages\\scipy\\stats\\_distn_infrastructure.py:2781: RuntimeWarning: invalid value encountered in multiply\n",
      "  Lhat = muhat - Shat*mu\n"
     ]
    },
    {
     "name": "stdout",
     "output_type": "stream",
     "text": [
      "[*********************100%***********************]  1 of 1 completed\n"
     ]
    },
    {
     "name": "stderr",
     "output_type": "stream",
     "text": [
      "c:\\Users\\hp\\AppData\\Local\\Programs\\Python\\Python310\\lib\\site-packages\\scipy\\stats\\_continuous_distns.py:707: RuntimeWarning: invalid value encountered in sqrt\n",
      "  sk = 2*(b-a)*np.sqrt(a + b + 1) / (a + b + 2) / np.sqrt(a*b)\n",
      "c:\\Users\\hp\\AppData\\Local\\Programs\\Python\\Python310\\lib\\site-packages\\scipy\\optimize\\_minpack_py.py:175: RuntimeWarning: The iteration is not making good progress, as measured by the \n",
      "  improvement from the last ten iterations.\n",
      "  warnings.warn(msg, RuntimeWarning)\n",
      "c:\\Users\\hp\\AppData\\Local\\Programs\\Python\\Python310\\lib\\site-packages\\scipy\\stats\\_distn_infrastructure.py:2781: RuntimeWarning: invalid value encountered in multiply\n",
      "  Lhat = muhat - Shat*mu\n",
      "c:\\Users\\hp\\AppData\\Local\\Programs\\Python\\Python310\\lib\\site-packages\\scipy\\stats\\_distn_infrastructure.py:2781: RuntimeWarning: invalid value encountered in multiply\n",
      "  Lhat = muhat - Shat*mu\n"
     ]
    },
    {
     "name": "stdout",
     "output_type": "stream",
     "text": [
      "[*********************100%***********************]  1 of 1 completed\n"
     ]
    },
    {
     "name": "stderr",
     "output_type": "stream",
     "text": [
      "c:\\Users\\hp\\AppData\\Local\\Programs\\Python\\Python310\\lib\\site-packages\\scipy\\stats\\_continuous_distns.py:707: RuntimeWarning: invalid value encountered in sqrt\n",
      "  sk = 2*(b-a)*np.sqrt(a + b + 1) / (a + b + 2) / np.sqrt(a*b)\n",
      "c:\\Users\\hp\\AppData\\Local\\Programs\\Python\\Python310\\lib\\site-packages\\scipy\\optimize\\_minpack_py.py:175: RuntimeWarning: The iteration is not making good progress, as measured by the \n",
      "  improvement from the last ten iterations.\n",
      "  warnings.warn(msg, RuntimeWarning)\n",
      "c:\\Users\\hp\\AppData\\Local\\Programs\\Python\\Python310\\lib\\site-packages\\scipy\\stats\\_distn_infrastructure.py:2781: RuntimeWarning: invalid value encountered in multiply\n",
      "  Lhat = muhat - Shat*mu\n",
      "c:\\Users\\hp\\AppData\\Local\\Programs\\Python\\Python310\\lib\\site-packages\\scipy\\stats\\_distn_infrastructure.py:2781: RuntimeWarning: invalid value encountered in multiply\n",
      "  Lhat = muhat - Shat*mu\n"
     ]
    },
    {
     "name": "stdout",
     "output_type": "stream",
     "text": [
      "[*********************100%***********************]  1 of 1 completed\n"
     ]
    },
    {
     "name": "stderr",
     "output_type": "stream",
     "text": [
      "c:\\Users\\hp\\AppData\\Local\\Programs\\Python\\Python310\\lib\\site-packages\\scipy\\stats\\_continuous_distns.py:707: RuntimeWarning: invalid value encountered in sqrt\n",
      "  sk = 2*(b-a)*np.sqrt(a + b + 1) / (a + b + 2) / np.sqrt(a*b)\n",
      "c:\\Users\\hp\\AppData\\Local\\Programs\\Python\\Python310\\lib\\site-packages\\scipy\\optimize\\_minpack_py.py:175: RuntimeWarning: The iteration is not making good progress, as measured by the \n",
      "  improvement from the last ten iterations.\n",
      "  warnings.warn(msg, RuntimeWarning)\n",
      "c:\\Users\\hp\\AppData\\Local\\Programs\\Python\\Python310\\lib\\site-packages\\scipy\\stats\\_distn_infrastructure.py:2781: RuntimeWarning: invalid value encountered in multiply\n",
      "  Lhat = muhat - Shat*mu\n",
      "c:\\Users\\hp\\AppData\\Local\\Programs\\Python\\Python310\\lib\\site-packages\\scipy\\stats\\_distn_infrastructure.py:2781: RuntimeWarning: invalid value encountered in multiply\n",
      "  Lhat = muhat - Shat*mu\n"
     ]
    }
   ],
   "source": [
    "datan=return_sim(tick,start_date,end_date)\n"
   ]
  },
  {
   "cell_type": "code",
   "execution_count": 25,
   "metadata": {},
   "outputs": [
    {
     "data": {
      "text/html": [
       "<div>\n",
       "<style scoped>\n",
       "    .dataframe tbody tr th:only-of-type {\n",
       "        vertical-align: middle;\n",
       "    }\n",
       "\n",
       "    .dataframe tbody tr th {\n",
       "        vertical-align: top;\n",
       "    }\n",
       "\n",
       "    .dataframe thead th {\n",
       "        text-align: right;\n",
       "    }\n",
       "</style>\n",
       "<table border=\"1\" class=\"dataframe\">\n",
       "  <thead>\n",
       "    <tr style=\"text-align: right;\">\n",
       "      <th></th>\n",
       "      <th>NCPL</th>\n",
       "      <th>DHIL</th>\n",
       "      <th>GROW</th>\n",
       "      <th>VALU</th>\n",
       "      <th>NMIH</th>\n",
       "      <th>ACT</th>\n",
       "      <th>SEIC</th>\n",
       "      <th>WAFD</th>\n",
       "      <th>MKTX</th>\n",
       "      <th>CRVL</th>\n",
       "      <th>ERIE</th>\n",
       "      <th>FANH</th>\n",
       "      <th>TW</th>\n",
       "      <th>SNEX</th>\n",
       "      <th>HGBL</th>\n",
       "    </tr>\n",
       "  </thead>\n",
       "  <tbody>\n",
       "    <tr>\n",
       "      <th>0</th>\n",
       "      <td>-0.008635</td>\n",
       "      <td>-0.000217</td>\n",
       "      <td>-0.000709</td>\n",
       "      <td>-0.002772</td>\n",
       "      <td>-0.001786</td>\n",
       "      <td>0.000261</td>\n",
       "      <td>0.000435</td>\n",
       "      <td>-0.000262</td>\n",
       "      <td>-0.000100</td>\n",
       "      <td>0.003633</td>\n",
       "      <td>0.000205</td>\n",
       "      <td>0.001628</td>\n",
       "      <td>0.000095</td>\n",
       "      <td>-0.000895</td>\n",
       "      <td>0.000115</td>\n",
       "    </tr>\n",
       "    <tr>\n",
       "      <th>1</th>\n",
       "      <td>-0.000585</td>\n",
       "      <td>0.000968</td>\n",
       "      <td>-0.000859</td>\n",
       "      <td>-0.000067</td>\n",
       "      <td>0.000277</td>\n",
       "      <td>-0.000074</td>\n",
       "      <td>-0.000094</td>\n",
       "      <td>-0.000362</td>\n",
       "      <td>-0.000220</td>\n",
       "      <td>0.003244</td>\n",
       "      <td>0.000056</td>\n",
       "      <td>-0.000259</td>\n",
       "      <td>0.000221</td>\n",
       "      <td>-0.000719</td>\n",
       "      <td>-0.001005</td>\n",
       "    </tr>\n",
       "    <tr>\n",
       "      <th>2</th>\n",
       "      <td>0.004317</td>\n",
       "      <td>0.000402</td>\n",
       "      <td>-0.000278</td>\n",
       "      <td>0.003758</td>\n",
       "      <td>-0.000644</td>\n",
       "      <td>-0.000192</td>\n",
       "      <td>-0.000033</td>\n",
       "      <td>-0.000667</td>\n",
       "      <td>-0.000743</td>\n",
       "      <td>0.002294</td>\n",
       "      <td>0.000784</td>\n",
       "      <td>-0.001552</td>\n",
       "      <td>0.000714</td>\n",
       "      <td>-0.000124</td>\n",
       "      <td>0.001729</td>\n",
       "    </tr>\n",
       "    <tr>\n",
       "      <th>3</th>\n",
       "      <td>0.039304</td>\n",
       "      <td>0.000492</td>\n",
       "      <td>-0.000553</td>\n",
       "      <td>0.001565</td>\n",
       "      <td>-0.000834</td>\n",
       "      <td>-0.000390</td>\n",
       "      <td>-0.000152</td>\n",
       "      <td>-0.000206</td>\n",
       "      <td>0.000593</td>\n",
       "      <td>0.004474</td>\n",
       "      <td>-0.000062</td>\n",
       "      <td>-0.000349</td>\n",
       "      <td>-0.000304</td>\n",
       "      <td>-0.000439</td>\n",
       "      <td>-0.001120</td>\n",
       "    </tr>\n",
       "    <tr>\n",
       "      <th>4</th>\n",
       "      <td>0.000652</td>\n",
       "      <td>-0.000684</td>\n",
       "      <td>-0.000261</td>\n",
       "      <td>0.001267</td>\n",
       "      <td>-0.001243</td>\n",
       "      <td>0.000420</td>\n",
       "      <td>0.000311</td>\n",
       "      <td>0.000402</td>\n",
       "      <td>-0.000269</td>\n",
       "      <td>0.002330</td>\n",
       "      <td>0.000194</td>\n",
       "      <td>-0.000874</td>\n",
       "      <td>0.000482</td>\n",
       "      <td>0.000082</td>\n",
       "      <td>0.001730</td>\n",
       "    </tr>\n",
       "    <tr>\n",
       "      <th>...</th>\n",
       "      <td>...</td>\n",
       "      <td>...</td>\n",
       "      <td>...</td>\n",
       "      <td>...</td>\n",
       "      <td>...</td>\n",
       "      <td>...</td>\n",
       "      <td>...</td>\n",
       "      <td>...</td>\n",
       "      <td>...</td>\n",
       "      <td>...</td>\n",
       "      <td>...</td>\n",
       "      <td>...</td>\n",
       "      <td>...</td>\n",
       "      <td>...</td>\n",
       "      <td>...</td>\n",
       "    </tr>\n",
       "    <tr>\n",
       "      <th>58</th>\n",
       "      <td>0.061010</td>\n",
       "      <td>0.000653</td>\n",
       "      <td>-0.000580</td>\n",
       "      <td>-0.003298</td>\n",
       "      <td>-0.000799</td>\n",
       "      <td>-0.000471</td>\n",
       "      <td>0.000387</td>\n",
       "      <td>0.000233</td>\n",
       "      <td>0.000131</td>\n",
       "      <td>0.003223</td>\n",
       "      <td>0.000728</td>\n",
       "      <td>0.001199</td>\n",
       "      <td>-0.000761</td>\n",
       "      <td>-0.000094</td>\n",
       "      <td>0.000498</td>\n",
       "    </tr>\n",
       "    <tr>\n",
       "      <th>59</th>\n",
       "      <td>0.039843</td>\n",
       "      <td>-0.000435</td>\n",
       "      <td>-0.000694</td>\n",
       "      <td>-0.000435</td>\n",
       "      <td>0.000006</td>\n",
       "      <td>0.000128</td>\n",
       "      <td>-0.000124</td>\n",
       "      <td>-0.000455</td>\n",
       "      <td>-0.000200</td>\n",
       "      <td>0.002882</td>\n",
       "      <td>-0.000589</td>\n",
       "      <td>-0.002064</td>\n",
       "      <td>0.000703</td>\n",
       "      <td>0.000763</td>\n",
       "      <td>0.001367</td>\n",
       "    </tr>\n",
       "    <tr>\n",
       "      <th>60</th>\n",
       "      <td>0.003725</td>\n",
       "      <td>0.000652</td>\n",
       "      <td>-0.000077</td>\n",
       "      <td>0.002153</td>\n",
       "      <td>0.000223</td>\n",
       "      <td>0.000730</td>\n",
       "      <td>-0.000358</td>\n",
       "      <td>-0.000298</td>\n",
       "      <td>0.000019</td>\n",
       "      <td>0.003169</td>\n",
       "      <td>-0.000760</td>\n",
       "      <td>-0.000538</td>\n",
       "      <td>-0.000029</td>\n",
       "      <td>0.000691</td>\n",
       "      <td>0.000366</td>\n",
       "    </tr>\n",
       "    <tr>\n",
       "      <th>61</th>\n",
       "      <td>0.013267</td>\n",
       "      <td>-0.000598</td>\n",
       "      <td>-0.000169</td>\n",
       "      <td>-0.000787</td>\n",
       "      <td>-0.000008</td>\n",
       "      <td>-0.001287</td>\n",
       "      <td>-0.000199</td>\n",
       "      <td>0.000603</td>\n",
       "      <td>0.000094</td>\n",
       "      <td>0.003513</td>\n",
       "      <td>0.000444</td>\n",
       "      <td>0.000876</td>\n",
       "      <td>0.000739</td>\n",
       "      <td>-0.000114</td>\n",
       "      <td>0.001614</td>\n",
       "    </tr>\n",
       "    <tr>\n",
       "      <th>62</th>\n",
       "      <td>0.008399</td>\n",
       "      <td>0.001077</td>\n",
       "      <td>-0.001566</td>\n",
       "      <td>0.000110</td>\n",
       "      <td>-0.000503</td>\n",
       "      <td>-0.000351</td>\n",
       "      <td>0.000261</td>\n",
       "      <td>0.000095</td>\n",
       "      <td>0.000475</td>\n",
       "      <td>0.004105</td>\n",
       "      <td>-0.000043</td>\n",
       "      <td>-0.002144</td>\n",
       "      <td>0.000202</td>\n",
       "      <td>-0.000923</td>\n",
       "      <td>-0.000167</td>\n",
       "    </tr>\n",
       "  </tbody>\n",
       "</table>\n",
       "<p>63 rows × 15 columns</p>\n",
       "</div>"
      ],
      "text/plain": [
       "        NCPL      DHIL      GROW      VALU      NMIH       ACT      SEIC  \\\n",
       "0  -0.008635 -0.000217 -0.000709 -0.002772 -0.001786  0.000261  0.000435   \n",
       "1  -0.000585  0.000968 -0.000859 -0.000067  0.000277 -0.000074 -0.000094   \n",
       "2   0.004317  0.000402 -0.000278  0.003758 -0.000644 -0.000192 -0.000033   \n",
       "3   0.039304  0.000492 -0.000553  0.001565 -0.000834 -0.000390 -0.000152   \n",
       "4   0.000652 -0.000684 -0.000261  0.001267 -0.001243  0.000420  0.000311   \n",
       "..       ...       ...       ...       ...       ...       ...       ...   \n",
       "58  0.061010  0.000653 -0.000580 -0.003298 -0.000799 -0.000471  0.000387   \n",
       "59  0.039843 -0.000435 -0.000694 -0.000435  0.000006  0.000128 -0.000124   \n",
       "60  0.003725  0.000652 -0.000077  0.002153  0.000223  0.000730 -0.000358   \n",
       "61  0.013267 -0.000598 -0.000169 -0.000787 -0.000008 -0.001287 -0.000199   \n",
       "62  0.008399  0.001077 -0.001566  0.000110 -0.000503 -0.000351  0.000261   \n",
       "\n",
       "        WAFD      MKTX      CRVL      ERIE      FANH        TW      SNEX  \\\n",
       "0  -0.000262 -0.000100  0.003633  0.000205  0.001628  0.000095 -0.000895   \n",
       "1  -0.000362 -0.000220  0.003244  0.000056 -0.000259  0.000221 -0.000719   \n",
       "2  -0.000667 -0.000743  0.002294  0.000784 -0.001552  0.000714 -0.000124   \n",
       "3  -0.000206  0.000593  0.004474 -0.000062 -0.000349 -0.000304 -0.000439   \n",
       "4   0.000402 -0.000269  0.002330  0.000194 -0.000874  0.000482  0.000082   \n",
       "..       ...       ...       ...       ...       ...       ...       ...   \n",
       "58  0.000233  0.000131  0.003223  0.000728  0.001199 -0.000761 -0.000094   \n",
       "59 -0.000455 -0.000200  0.002882 -0.000589 -0.002064  0.000703  0.000763   \n",
       "60 -0.000298  0.000019  0.003169 -0.000760 -0.000538 -0.000029  0.000691   \n",
       "61  0.000603  0.000094  0.003513  0.000444  0.000876  0.000739 -0.000114   \n",
       "62  0.000095  0.000475  0.004105 -0.000043 -0.002144  0.000202 -0.000923   \n",
       "\n",
       "        HGBL  \n",
       "0   0.000115  \n",
       "1  -0.001005  \n",
       "2   0.001729  \n",
       "3  -0.001120  \n",
       "4   0.001730  \n",
       "..       ...  \n",
       "58  0.000498  \n",
       "59  0.001367  \n",
       "60  0.000366  \n",
       "61  0.001614  \n",
       "62 -0.000167  \n",
       "\n",
       "[63 rows x 15 columns]"
      ]
     },
     "execution_count": 25,
     "metadata": {},
     "output_type": "execute_result"
    }
   ],
   "source": [
    "datan"
   ]
  },
  {
   "cell_type": "code",
   "execution_count": 22,
   "metadata": {},
   "outputs": [],
   "source": [
    "def drawdown(cours):\n",
    "    \"\"\"Calcul du max drawdown sur une période bien défini\"\"\"\n",
    "    #cours représentes les différentes valeurs de láctif sur la période considérée\n",
    "    Vmax= max(cours)\n",
    "    print(Vmax)\n",
    "    i= np.where(cours==Vmax)  #indice de la valeur maximale\n",
    "    i=i[0][0] #Car c'est un tuple\n",
    "    print(i)\n",
    "    Vmin= min(cours[i:])\n",
    "    print(Vmin)\n",
    "    result= (Vmax-Vmin)/Vmax\n",
    "    return result\n",
    "\n",
    "def Pond(n):\n",
    "    W=np.random.randint(1,10,n)  # Generation de n entiers compris entre 1 et 10\n",
    "    W= W/np.sum(W) #  Normalisation pour aoir la somme de spondérations égale à 1\n",
    "    return W\n",
    "\n",
    "def Rp(data, weight):\n",
    "    return data.dot(weight)\n",
    "\n",
    "def sortino(rendement, rf):\n",
    "    #rf rendement espéré\n",
    "    #Calcul de la volatilité negative\n",
    "    \n",
    "    sigma=rendement-rf\n",
    "    for i in range (len(rendement)):\n",
    "        if(sigma[i]>=0):\n",
    "            sigma[i]=0\n",
    "    sigm=sum(sigma**2)\n",
    "    return  (np.mean(rendement-rf))/np.sqrt(sigm)\n",
    "\n",
    "def max_drawdown(returns):\n",
    "   \n",
    "    cumulative_returns = np.cumprod(1 + returns)\n",
    "    previous_peaks = np.maximum.accumulate(cumulative_returns)\n",
    "    drawdowns = (cumulative_returns - previous_peaks) / previous_peaks\n",
    "    max_drawdown = np.max(drawdowns)\n",
    "    return max_drawdown"
   ]
  },
  {
   "cell_type": "code",
   "execution_count": 23,
   "metadata": {},
   "outputs": [
    {
     "name": "stdout",
     "output_type": "stream",
     "text": [
      "-0.12567320930227768\n"
     ]
    },
    {
     "ename": "ValueError",
     "evalue": "Dot product shape mismatch, (61, 15) vs (8,)",
     "output_type": "error",
     "traceback": [
      "\u001b[1;31m---------------------------------------------------------------------------\u001b[0m",
      "\u001b[1;31mValueError\u001b[0m                                Traceback (most recent call last)",
      "Cell \u001b[1;32mIn[23], line 6\u001b[0m\n\u001b[0;32m      4\u001b[0m \u001b[39mprint\u001b[39m(dodr)\n\u001b[0;32m      5\u001b[0m \u001b[39mfor\u001b[39;00m i \u001b[39min\u001b[39;00m \u001b[39mrange\u001b[39m(\u001b[39m8\u001b[39m):\n\u001b[1;32m----> 6\u001b[0m   dod[i]\u001b[39m=\u001b[39m  sortino( Rp(tech, np\u001b[39m.\u001b[39;49meye(\u001b[39m8\u001b[39;49m)[i]),\u001b[39m0.01\u001b[39m)\n\u001b[0;32m      7\u001b[0m dod[\u001b[39m8\u001b[39m]\u001b[39m=\u001b[39mdodr\n\u001b[0;32m      9\u001b[0m pd\u001b[39m.\u001b[39mDataFrame(dod,index\u001b[39m=\u001b[39m[\u001b[39m\"\u001b[39m\u001b[39mGOOGL\u001b[39m\u001b[39m\"\u001b[39m, \u001b[39m\"\u001b[39m\u001b[39mMSFT\u001b[39m\u001b[39m\"\u001b[39m, \u001b[39m\"\u001b[39m\u001b[39mGC=F\u001b[39m\u001b[39m\"\u001b[39m, \u001b[39m\"\u001b[39m\u001b[39mTSLA\u001b[39m\u001b[39m\"\u001b[39m,\u001b[39m'\u001b[39m\u001b[39mAAPL\u001b[39m\u001b[39m'\u001b[39m, \u001b[39m\"\u001b[39m\u001b[39mBABA\u001b[39m\u001b[39m\"\u001b[39m,\u001b[39m\"\u001b[39m\u001b[39m^IXIC\u001b[39m\u001b[39m\"\u001b[39m, \u001b[39m\"\u001b[39m\u001b[39m^TNX\u001b[39m\u001b[39m\"\u001b[39m,\u001b[39m\"\u001b[39m\u001b[39mPortfolio\u001b[39m\u001b[39m\"\u001b[39m],columns\u001b[39m=\u001b[39m[\u001b[39m\"\u001b[39m\u001b[39mSortino\u001b[39m\u001b[39m\"\u001b[39m])\n",
      "Cell \u001b[1;32mIn[22], line 20\u001b[0m, in \u001b[0;36mRp\u001b[1;34m(data, weight)\u001b[0m\n\u001b[0;32m     19\u001b[0m \u001b[39mdef\u001b[39;00m \u001b[39mRp\u001b[39m(data, weight):\n\u001b[1;32m---> 20\u001b[0m     \u001b[39mreturn\u001b[39;00m data\u001b[39m.\u001b[39;49mdot(weight)\n",
      "File \u001b[1;32mc:\\Users\\hp\\AppData\\Local\\Programs\\Python\\Python310\\lib\\site-packages\\pandas\\core\\frame.py:1602\u001b[0m, in \u001b[0;36mDataFrame.dot\u001b[1;34m(self, other)\u001b[0m\n\u001b[0;32m   1600\u001b[0m     rvals \u001b[39m=\u001b[39m np\u001b[39m.\u001b[39masarray(other)\n\u001b[0;32m   1601\u001b[0m     \u001b[39mif\u001b[39;00m lvals\u001b[39m.\u001b[39mshape[\u001b[39m1\u001b[39m] \u001b[39m!=\u001b[39m rvals\u001b[39m.\u001b[39mshape[\u001b[39m0\u001b[39m]:\n\u001b[1;32m-> 1602\u001b[0m         \u001b[39mraise\u001b[39;00m \u001b[39mValueError\u001b[39;00m(\n\u001b[0;32m   1603\u001b[0m             \u001b[39mf\u001b[39m\u001b[39m\"\u001b[39m\u001b[39mDot product shape mismatch, \u001b[39m\u001b[39m{\u001b[39;00mlvals\u001b[39m.\u001b[39mshape\u001b[39m}\u001b[39;00m\u001b[39m vs \u001b[39m\u001b[39m{\u001b[39;00mrvals\u001b[39m.\u001b[39mshape\u001b[39m}\u001b[39;00m\u001b[39m\"\u001b[39m\n\u001b[0;32m   1604\u001b[0m         )\n\u001b[0;32m   1606\u001b[0m \u001b[39mif\u001b[39;00m \u001b[39misinstance\u001b[39m(other, DataFrame):\n\u001b[0;32m   1607\u001b[0m     \u001b[39mreturn\u001b[39;00m \u001b[39mself\u001b[39m\u001b[39m.\u001b[39m_constructor(\n\u001b[0;32m   1608\u001b[0m         np\u001b[39m.\u001b[39mdot(lvals, rvals), index\u001b[39m=\u001b[39mleft\u001b[39m.\u001b[39mindex, columns\u001b[39m=\u001b[39mother\u001b[39m.\u001b[39mcolumns\n\u001b[0;32m   1609\u001b[0m     )\n",
      "\u001b[1;31mValueError\u001b[0m: Dot product shape mismatch, (61, 15) vs (8,)"
     ]
    }
   ],
   "source": [
    "dod= np.ones(9)\n",
    "dodr=  sortino( Rp(datan, [0.05769231, 0.05769231,0.0833333333, 0.51923077, 0.05769231, 0.05769231,0.0833333333,0.0833333333]),0.01)\n",
    "\n",
    "print(dodr)\n",
    "for i in range(8):\n",
    "  dod[i]=  sortino( Rp(tech, np.eye(8)[i]),0.01)\n",
    "dod[8]=dodr\n",
    "\n",
    "pd.DataFrame(dod,index=[\"GOOGL\", \"MSFT\", \"GC=F\", \"TSLA\",'AAPL', \"BABA\",\"^IXIC\", \"^TNX\",\"Portfolio\"],columns=[\"Sortino\"])"
   ]
  },
  {
   "cell_type": "code",
   "execution_count": null,
   "metadata": {},
   "outputs": [
    {
     "data": {
      "image/png": "[encoded data removed]",
      "text/plain": [
       "<Figure size 640x480 with 1 Axes>"
      ]
     },
     "metadata": {},
     "output_type": "display_data"
    }
   ],
   "source": [
    "dd= np.ones(1000)\n",
    "ddr=  max_drawdown( Rp(datan, [0.05769231, 0.05769231,0.0833333333, 0.51923077, 0.05769231, 0.05769231,0.0833333333,0.0833333333]))\n",
    "for i in range(1000):\n",
    "  dd[i]= max_drawdown( Rp(datan, Pond(8)))\n",
    "dd\n",
    "fig,ax=plt.subplots()\n",
    "ax.plot(dd)\n",
    "ax.plot(np.ones(1000)*ddr)\n",
    "plt.show()"
   ]
  },
  {
   "cell_type": "code",
   "execution_count": null,
   "metadata": {},
   "outputs": [
    {
     "data": {
      "text/html": [
       "<div>\n",
       "<style scoped>\n",
       "    .dataframe tbody tr th:only-of-type {\n",
       "        vertical-align: middle;\n",
       "    }\n",
       "\n",
       "    .dataframe tbody tr th {\n",
       "        vertical-align: top;\n",
       "    }\n",
       "\n",
       "    .dataframe thead th {\n",
       "        text-align: right;\n",
       "    }\n",
       "</style>\n",
       "<table border=\"1\" class=\"dataframe\">\n",
       "  <thead>\n",
       "    <tr style=\"text-align: right;\">\n",
       "      <th></th>\n",
       "      <th>MaxDrawDown</th>\n",
       "    </tr>\n",
       "  </thead>\n",
       "  <tbody>\n",
       "    <tr>\n",
       "      <th>GOOGL</th>\n",
       "      <td>0.0</td>\n",
       "    </tr>\n",
       "    <tr>\n",
       "      <th>MSFT</th>\n",
       "      <td>0.0</td>\n",
       "    </tr>\n",
       "    <tr>\n",
       "      <th>GC=F</th>\n",
       "      <td>0.0</td>\n",
       "    </tr>\n",
       "    <tr>\n",
       "      <th>TSLA</th>\n",
       "      <td>0.0</td>\n",
       "    </tr>\n",
       "    <tr>\n",
       "      <th>AAPL</th>\n",
       "      <td>0.0</td>\n",
       "    </tr>\n",
       "    <tr>\n",
       "      <th>BABA</th>\n",
       "      <td>0.0</td>\n",
       "    </tr>\n",
       "    <tr>\n",
       "      <th>^IXIC</th>\n",
       "      <td>0.0</td>\n",
       "    </tr>\n",
       "    <tr>\n",
       "      <th>^TNX</th>\n",
       "      <td>0.0</td>\n",
       "    </tr>\n",
       "    <tr>\n",
       "      <th>Portfolio</th>\n",
       "      <td>0.0</td>\n",
       "    </tr>\n",
       "  </tbody>\n",
       "</table>\n",
       "</div>"
      ],
      "text/plain": [
       "           MaxDrawDown\n",
       "GOOGL              0.0\n",
       "MSFT               0.0\n",
       "GC=F               0.0\n",
       "TSLA               0.0\n",
       "AAPL               0.0\n",
       "BABA               0.0\n",
       "^IXIC              0.0\n",
       "^TNX               0.0\n",
       "Portfolio          0.0"
      ]
     },
     "execution_count": 68,
     "metadata": {},
     "output_type": "execute_result"
    }
   ],
   "source": [
    "dod= np.ones(9)\n",
    "dodr=  max_drawdown( Rp(datan, [0.07692308, 0.07692308, 0.30769231, 0.11538462, 0.26923077,\n",
    "        0.03846154, 0.03846154, 0.07692308]))\n",
    "\n",
    "for i in range(8):\n",
    "  dod[i]=  max_drawdown( Rp(datan, np.eye(8)[i]))\n",
    "dod[8]=dodr\n",
    "\n",
    "pd.DataFrame(dod,index=[\"GOOGL\", \"MSFT\", \"GC=F\", \"TSLA\",'AAPL', \"BABA\",\"^IXIC\", \"^TNX\",\"Portfolio\"],columns=[\"MaxDrawDown\"])"
   ]
  },
  {
   "cell_type": "code",
   "execution_count": 37,
   "metadata": {},
   "outputs": [],
   "source": [
    "def Matcov(resultat):\n",
    "    sigma= resultat.cov()* np.sqrt(63)\n",
    "    return sigma\n",
    "\n",
    "def Pond(n):\n",
    "    W=np.random.randint(1,10,n)  # Generation de n entiers compris entre 1 et 10\n",
    "    W= W/np.sum(W) #  Normalisation pour aoir la somme de spondérations égale à 1\n",
    "    return W\n",
    "def PortfolioStat(data, sim=10000):\n",
    "    resultat= data\n",
    "    mu= resultat.mean() #  Rentabilité des actifs\n",
    "    sigma= Matcov(resultat)  # Matrice de variance covariance des différents  actifs\n",
    "    n= data.shape[1]\n",
    "    W=np.zeros((sim,n))\n",
    "    moy=np.zeros(sim)\n",
    "    theta=np.zeros(sim)\n",
    "    for i in range(sim):\n",
    "        wi= Pond(n) # POndération de chaque portefeuille\n",
    "        moy[i]= np.dot(wi,mu)   # Rentabilité espérée du portefeuille\n",
    "        theta[i]  = np.dot(wi.T,np.dot(sigma, wi))   #Volatilité de chaque portefeuille\n",
    "        W[i]= wi   # incrémenter au fur et à mesure une matrice des pondérations\n",
    "         # incrémentation des moyennes\n",
    "         # incrémentations des variances\n",
    "    results= list()    #liste qui contiendra la matrice des pondérations, le vecteur rentabilité, et le vecteur variance pour chaque simulation\n",
    "    results.append(W) \n",
    "    results.append(moy)\n",
    "    results.append(theta)\n",
    "    plt.scatter(results[2],results[1])\n",
    "\n",
    "    return results\n",
    "\n",
    "def MaxSharpeRate(portfolio, rf):\n",
    "    max_= max((portfolio[1]-rf)/portfolio[2])\n",
    "    index=np.where(((portfolio[1]-rf)/portfolio[2])==max_)\n",
    "    return  [portfolio[0][index],portfolio[1][index],portfolio[2][index],max_]\n",
    "\n",
    "def GMV(portfolio):\n",
    "      min_ = min(portfolio[2])\n",
    "      index= np.where(portfolio[2]==min_)\n",
    "      return [portfolio[0][index],portfolio[1][index],portfolio[2][index]]"
   ]
  },
  {
   "cell_type": "code",
   "execution_count": 38,
   "metadata": {},
   "outputs": [
    {
     "data": {
      "text/plain": [
       "[0.15384615,\n",
       " 0.20512821,\n",
       " 0.05128205,\n",
       " Ellipsis,\n",
       " 0.1025641,\n",
       " 0.12820513,\n",
       " 0.07692308]"
      ]
     },
     "execution_count": 38,
     "metadata": {},
     "output_type": "execute_result"
    }
   ],
   "source": [
    "[0.15384615, 0.20512821, 0.05128205, ..., 0.1025641 , 0.12820513,\n",
    "         0.07692308]"
   ]
  },
  {
   "cell_type": "code",
   "execution_count": 50,
   "metadata": {},
   "outputs": [
    {
     "data": {
      "image/png": "[encoded data removed]",
      "text/plain": [
       "<Figure size 640x480 with 1 Axes>"
      ]
     },
     "metadata": {},
     "output_type": "display_data"
    }
   ],
   "source": [
    "portfolio=PortfolioStat(datan, sim=100000)"
   ]
  },
  {
   "cell_type": "code",
   "execution_count": 52,
   "metadata": {},
   "outputs": [
    {
     "name": "stdout",
     "output_type": "stream",
     "text": [
      "[array([[0.04166667, 0.04166667, 0.33333333, 0.08333333, 0.375     ,\n",
      "        0.04166667, 0.08333333]]), array([0.00268003]), array([7.3034978e-07]), 2847.9872109561647]\n",
      "[array([[0.09090909, 0.15151515, 0.21212121, 0.09090909, 0.24242424,\n",
      "        0.12121212, 0.09090909]]), array([0.00172173]), array([5.93712038e-07])]\n"
     ]
    }
   ],
   "source": [
    "rf=0.0006\n",
    "print(MaxSharpeRate(portfolio, rf))\n",
    "print(GMV(portfolio))"
   ]
  },
  {
   "cell_type": "code",
   "execution_count": null,
   "metadata": {},
   "outputs": [],
   "source": []
  }
 ],
 "metadata": {
  "kernelspec": {
   "display_name": "Python 3",
   "language": "python",
   "name": "python3"
  },
  "language_info": {
   "codemirror_mode": {
    "name": "ipython",
    "version": 3
   },
   "file_extension": ".py",
   "mimetype": "text/x-python",
   "name": "python",
   "nbconvert_exporter": "python",
   "pygments_lexer": "ipython3",
   "version": "3.10.6"
  },
  "orig_nbformat": 4
 },
 "nbformat": 4,
 "nbformat_minor": 2
}
